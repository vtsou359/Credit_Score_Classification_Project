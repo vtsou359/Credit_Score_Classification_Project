{
 "cells": [
  {
   "cell_type": "markdown",
   "source": [
    "# Initial Data Cleansing, EDA and Modelling\n",
    "### "
   ],
   "metadata": {
    "collapsed": false
   },
   "id": "4e659995e66ad680"
  },
  {
   "cell_type": "code",
   "execution_count": 324,
   "id": "initial_id",
   "metadata": {
    "collapsed": true,
    "ExecuteTime": {
     "end_time": "2024-02-18T13:46:26.592680Z",
     "start_time": "2024-02-18T13:46:26.588358Z"
    }
   },
   "outputs": [],
   "source": [
    "# for data manipulation and analysis\n",
    "\n",
    "import numpy as np\n",
    "import pandas as pd\n",
    "\n",
    "# visualisation tools\n",
    "import matplotlib as mpl\n",
    "import matplotlib.pyplot as plt\n",
    "import seaborn as sns\n",
    "import plotly.graph_objects as go\n",
    "import plotly.express as px\n",
    "\n",
    "import scipy.stats as stats\n",
    "\n",
    "# ML libraries\n",
    "# not needed for now"
   ]
  },
  {
   "cell_type": "markdown",
   "source": [
    "### Importing the data:"
   ],
   "metadata": {
    "collapsed": false
   },
   "id": "a9b43767b5e2bcc9"
  },
  {
   "cell_type": "code",
   "execution_count": 325,
   "outputs": [
    {
     "name": "stdout",
     "output_type": "stream",
     "text": [
      "<class 'pandas.core.frame.DataFrame'>\n",
      "RangeIndex: 100000 entries, 0 to 99999\n",
      "Data columns (total 28 columns):\n",
      " #   Column                    Non-Null Count   Dtype  \n",
      "---  ------                    --------------   -----  \n",
      " 0   ID                        100000 non-null  object \n",
      " 1   Customer_ID               100000 non-null  object \n",
      " 2   Month                     100000 non-null  object \n",
      " 3   Name                      90015 non-null   object \n",
      " 4   Age                       100000 non-null  object \n",
      " 5   SSN                       100000 non-null  object \n",
      " 6   Occupation                100000 non-null  object \n",
      " 7   Annual_Income             100000 non-null  object \n",
      " 8   Monthly_Inhand_Salary     84998 non-null   float64\n",
      " 9   Num_Bank_Accounts         100000 non-null  int64  \n",
      " 10  Num_Credit_Card           100000 non-null  int64  \n",
      " 11  Interest_Rate             100000 non-null  int64  \n",
      " 12  Num_of_Loan               100000 non-null  object \n",
      " 13  Type_of_Loan              88592 non-null   object \n",
      " 14  Delay_from_due_date       100000 non-null  int64  \n",
      " 15  Num_of_Delayed_Payment    92998 non-null   object \n",
      " 16  Changed_Credit_Limit      100000 non-null  object \n",
      " 17  Num_Credit_Inquiries      98035 non-null   float64\n",
      " 18  Credit_Mix                100000 non-null  object \n",
      " 19  Outstanding_Debt          100000 non-null  object \n",
      " 20  Credit_Utilization_Ratio  100000 non-null  float64\n",
      " 21  Credit_History_Age        90970 non-null   object \n",
      " 22  Payment_of_Min_Amount     100000 non-null  object \n",
      " 23  Total_EMI_per_month       100000 non-null  float64\n",
      " 24  Amount_invested_monthly   95521 non-null   object \n",
      " 25  Payment_Behaviour         100000 non-null  object \n",
      " 26  Monthly_Balance           98800 non-null   object \n",
      " 27  Credit_Score              100000 non-null  object \n",
      "dtypes: float64(4), int64(4), object(20)\n",
      "memory usage: 21.4+ MB\n"
     ]
    }
   ],
   "source": [
    "data = pd.read_csv('data_uncleaned/train.csv', low_memory=False)\n",
    "data.info()"
   ],
   "metadata": {
    "collapsed": false,
    "ExecuteTime": {
     "end_time": "2024-02-18T13:46:28.032987Z",
     "start_time": "2024-02-18T13:46:27.174478Z"
    }
   },
   "id": "f679b04b78d6a4c2"
  },
  {
   "cell_type": "markdown",
   "source": [],
   "metadata": {
    "collapsed": false
   },
   "id": "6cc30f4a4acea140"
  },
  {
   "cell_type": "markdown",
   "source": [
    "#### Checking the shape of the dataset and missing values:"
   ],
   "metadata": {
    "collapsed": false
   },
   "id": "339e8102669c0d3f"
  },
  {
   "cell_type": "code",
   "outputs": [
    {
     "data": {
      "text/plain": "(100000, 28)"
     },
     "execution_count": 326,
     "metadata": {},
     "output_type": "execute_result"
    }
   ],
   "source": [
    "data.shape"
   ],
   "metadata": {
    "collapsed": false,
    "ExecuteTime": {
     "end_time": "2024-02-18T13:46:28.041374Z",
     "start_time": "2024-02-18T13:46:28.035921Z"
    }
   },
   "id": "dc421fdacb3a96d0",
   "execution_count": 326
  },
  {
   "cell_type": "markdown",
   "source": [
    "The DataFrame comprises of 100,000 rows and 28 columns, each representing a certain feature of the dataset. Below a brief explanation of each column is demontrated:\n",
    "\n",
    "- Index: A default column provided by pandas, serving as a unique identifier for each row.\n",
    "- ID: Object type column which presumably contains unique identifiers for something, possibly transactions.\n",
    "- Customer_ID: Object type column generally holding unique identifiers for customers.\n",
    "- Month: A string that symbolically represents the creation date of the record.\n",
    "- Name: The names of individuals which seems to have 9985 missing values.\n",
    "- Age: Likely representing the ages of individuals.\n",
    "- SSN: Contains the Social Security Number, a unique number identifying each individual.\n",
    "- Occupation: Likely holds informations regarding the occupations of the customers.\n",
    "- Annual_Income: A string representation of an individual's annual income.\n",
    "- Monthly_Inhand_Salary: A numerical representation of the monthly salary with a mean of around 4194.2, potentially representing real-world currency. It has 15,002 missing values.\n",
    "- Num_Bank_Accounts: A numerical representation of the number of bank accounts. On average, people in this dataset have around 17 bank accounts which seems very high.\n",
    "- Num_Credit_Card: Average number of credit cards held is about 22.5.\n",
    "- Interest_Rate: Interest rates are on average about 72.5%.\n",
    "- Num_of_Loan: The number of loans held by customers.\n",
    "- Type_of_Loan: The type of loans held by customers. This column has 11,408 missing values.\n",
    "- Delay_from_due_date: The number of days of delay from the due date; averages around 21.1 days.\n",
    "- Num_of_Delayed_Payment: Number of payments that were delayed. This column has 7002 missing values.\n",
    "- Changed_Credit_Limit: This presumably holds whether the credit limit for customers was changed.\n",
    "- Num_Credit_Inquiries: The number of credit inquiries, with an average of around 27.8 inquiries. This column has 1965 missing entries.\n",
    "- Credit_Mix: Likely the type of credit in use.\n",
    "- Outstanding_Debt: Contains the outstanding debts for customers.\n",
    "- Credit_Utilization_Ratio: The ratio of the amount of credit used out of the available credit, with customers using an average around 32.3% of their available credit.\n",
    "- Credit_History_Age: Perhaps the age of the longest held credit account. This column has 9030 missing entries.\n",
    "- Payment_of_Min_Amount: Whether the customers paid their minimum due on time or not.\n",
    "- Total_EMI_per_month: The total EMI amount per month, averaged to about 1403.1.\n",
    "- Amount_invested_monthly: The amount invested every month by customers. This column has 4479 missing entries.\n",
    "- Payment_Behaviour: The payment behaviour of the customer.\n",
    "- Monthly_Balance: The monthly balance of the customers. This column has 1200 missing entries.\n",
    "- Credit_Score: The credit score of the customers."
   ],
   "metadata": {
    "collapsed": false
   },
   "id": "447fc17b9a56c345"
  },
  {
   "cell_type": "markdown",
   "source": [
    "Initial Check of missing values:"
   ],
   "metadata": {
    "collapsed": false
   },
   "id": "9ee748f032b555b2"
  },
  {
   "cell_type": "code",
   "execution_count": 327,
   "outputs": [
    {
     "data": {
      "text/plain": "<Figure size 1000x1000 with 1 Axes>",
      "image/png": "[encoded data removed]"
     },
     "metadata": {},
     "output_type": "display_data"
    }
   ],
   "source": [
    "# percentage of missing values plot\n",
    "plt.figure(figsize=(10,10))\n",
    "plt.title('Percentage of missing values per feature', fontsize=15)\n",
    "sns.barplot(data.isnull().mean() * 100)\n",
    "plt.xticks(rotation=90);"
   ],
   "metadata": {
    "collapsed": false,
    "ExecuteTime": {
     "end_time": "2024-02-18T13:46:29.007162Z",
     "start_time": "2024-02-18T13:46:28.043668Z"
    }
   },
   "id": "8ad31e59ae8d6ee9"
  },
  {
   "cell_type": "markdown",
   "source": [
    "The highest percentage of missing value is 14%. I should investigate if dropping all the rows with missing values is valuable for my analysis:"
   ],
   "metadata": {
    "collapsed": false
   },
   "id": "9a04d64877c4295d"
  },
  {
   "cell_type": "code",
   "execution_count": 328,
   "outputs": [
    {
     "data": {
      "text/plain": "(53049, 28)"
     },
     "execution_count": 328,
     "metadata": {},
     "output_type": "execute_result"
    }
   ],
   "source": [
    "data_reduced = data.dropna(inplace=False)\n",
    "data_reduced.shape"
   ],
   "metadata": {
    "collapsed": false,
    "ExecuteTime": {
     "end_time": "2024-02-18T13:46:29.123835Z",
     "start_time": "2024-02-18T13:46:29.012440Z"
    }
   },
   "id": "8718bca35d65e5d6"
  },
  {
   "cell_type": "markdown",
   "source": [
    "I reduced the size of the data significantly (From 100000 observations to around 53000). Is this decrease of observations changes the statistical metrics of the data?"
   ],
   "metadata": {
    "collapsed": false
   },
   "id": "4f7d7170f041b2a5"
  },
  {
   "cell_type": "code",
   "execution_count": 329,
   "outputs": [
    {
     "data": {
      "text/plain": "                             count         mean          std         min  \\\nMonthly_Inhand_Salary      84998.0  4194.170850  3183.686167  303.645417   \nNum_Bank_Accounts         100000.0    17.091280   117.404834   -1.000000   \nNum_Credit_Card           100000.0    22.474430   129.057410    0.000000   \nInterest_Rate             100000.0    72.466040   466.422621    1.000000   \nDelay_from_due_date       100000.0    21.068780    14.860104   -5.000000   \nNum_Credit_Inquiries       98035.0    27.754251   193.177339    0.000000   \nCredit_Utilization_Ratio  100000.0    32.285173     5.116875   20.000000   \nTotal_EMI_per_month       100000.0  1403.118217  8306.041270    0.000000   \n\n                                  25%          50%          75%           max  \nMonthly_Inhand_Salary     1625.568229  3093.745000  5957.448333  15204.633333  \nNum_Bank_Accounts            3.000000     6.000000     7.000000   1798.000000  \nNum_Credit_Card              4.000000     5.000000     7.000000   1499.000000  \nInterest_Rate                8.000000    13.000000    20.000000   5797.000000  \nDelay_from_due_date         10.000000    18.000000    28.000000     67.000000  \nNum_Credit_Inquiries         3.000000     6.000000     9.000000   2597.000000  \nCredit_Utilization_Ratio    28.052567    32.305784    36.496663     50.000000  \nTotal_EMI_per_month         30.306660    69.249473   161.224249  82331.000000  ",
      "text/html": "<div>\n<style scoped>\n    .dataframe tbody tr th:only-of-type {\n        vertical-align: middle;\n    }\n\n    .dataframe tbody tr th {\n        vertical-align: top;\n    }\n\n    .dataframe thead th {\n        text-align: right;\n    }\n</style>\n<table border=\"1\" class=\"dataframe\">\n  <thead>\n    <tr style=\"text-align: right;\">\n      <th></th>\n      <th>count</th>\n      <th>mean</th>\n      <th>std</th>\n      <th>min</th>\n      <th>25%</th>\n      <th>50%</th>\n      <th>75%</th>\n      <th>max</th>\n    </tr>\n  </thead>\n  <tbody>\n    <tr>\n      <th>Monthly_Inhand_Salary</th>\n      <td>84998.0</td>\n      <td>4194.170850</td>\n      <td>3183.686167</td>\n      <td>303.645417</td>\n      <td>1625.568229</td>\n      <td>3093.745000</td>\n      <td>5957.448333</td>\n      <td>15204.633333</td>\n    </tr>\n    <tr>\n      <th>Num_Bank_Accounts</th>\n      <td>100000.0</td>\n      <td>17.091280</td>\n      <td>117.404834</td>\n      <td>-1.000000</td>\n      <td>3.000000</td>\n      <td>6.000000</td>\n      <td>7.000000</td>\n      <td>1798.000000</td>\n    </tr>\n    <tr>\n      <th>Num_Credit_Card</th>\n      <td>100000.0</td>\n      <td>22.474430</td>\n      <td>129.057410</td>\n      <td>0.000000</td>\n      <td>4.000000</td>\n      <td>5.000000</td>\n      <td>7.000000</td>\n      <td>1499.000000</td>\n    </tr>\n    <tr>\n      <th>Interest_Rate</th>\n      <td>100000.0</td>\n      <td>72.466040</td>\n      <td>466.422621</td>\n      <td>1.000000</td>\n      <td>8.000000</td>\n      <td>13.000000</td>\n      <td>20.000000</td>\n      <td>5797.000000</td>\n    </tr>\n    <tr>\n      <th>Delay_from_due_date</th>\n      <td>100000.0</td>\n      <td>21.068780</td>\n      <td>14.860104</td>\n      <td>-5.000000</td>\n      <td>10.000000</td>\n      <td>18.000000</td>\n      <td>28.000000</td>\n      <td>67.000000</td>\n    </tr>\n    <tr>\n      <th>Num_Credit_Inquiries</th>\n      <td>98035.0</td>\n      <td>27.754251</td>\n      <td>193.177339</td>\n      <td>0.000000</td>\n      <td>3.000000</td>\n      <td>6.000000</td>\n      <td>9.000000</td>\n      <td>2597.000000</td>\n    </tr>\n    <tr>\n      <th>Credit_Utilization_Ratio</th>\n      <td>100000.0</td>\n      <td>32.285173</td>\n      <td>5.116875</td>\n      <td>20.000000</td>\n      <td>28.052567</td>\n      <td>32.305784</td>\n      <td>36.496663</td>\n      <td>50.000000</td>\n    </tr>\n    <tr>\n      <th>Total_EMI_per_month</th>\n      <td>100000.0</td>\n      <td>1403.118217</td>\n      <td>8306.041270</td>\n      <td>0.000000</td>\n      <td>30.306660</td>\n      <td>69.249473</td>\n      <td>161.224249</td>\n      <td>82331.000000</td>\n    </tr>\n  </tbody>\n</table>\n</div>"
     },
     "execution_count": 329,
     "metadata": {},
     "output_type": "execute_result"
    }
   ],
   "source": [
    "# generating descriptive statistics of data dataframe and then transposing the result.\n",
    "data.describe().T"
   ],
   "metadata": {
    "collapsed": false,
    "ExecuteTime": {
     "end_time": "2024-02-18T13:46:29.185653Z",
     "start_time": "2024-02-18T13:46:29.126272Z"
    }
   },
   "id": "98d52a3d61134ba9"
  },
  {
   "cell_type": "code",
   "execution_count": 330,
   "outputs": [
    {
     "data": {
      "text/plain": "                            count         mean          std         min  \\\nMonthly_Inhand_Salary     53049.0  4024.502617  3094.967739  303.645417   \nNum_Bank_Accounts         53049.0    16.842806   115.605025   -1.000000   \nNum_Credit_Card           53049.0    22.787253   129.339640    0.000000   \nInterest_Rate             53049.0    76.272352   479.226709    1.000000   \nDelay_from_due_date       53049.0    21.994119    15.220406   -5.000000   \nNum_Credit_Inquiries      53049.0    27.062866   187.185825    0.000000   \nCredit_Utilization_Ratio  53049.0    32.219031     5.057398   20.881250   \nTotal_EMI_per_month       53049.0  1445.924761  8407.429893    4.462837   \n\n                                  25%          50%          75%           max  \nMonthly_Inhand_Salary     1575.345833  2991.016667  5712.553333  15204.633333  \nNum_Bank_Accounts            4.000000     6.000000     8.000000   1798.000000  \nNum_Credit_Card              4.000000     6.000000     7.000000   1499.000000  \nInterest_Rate                8.000000    15.000000    22.000000   5797.000000  \nDelay_from_due_date         10.000000    19.000000    29.000000     67.000000  \nNum_Credit_Inquiries         3.000000     6.000000     9.000000   2594.000000  \nCredit_Utilization_Ratio    28.046338    32.251786    36.408991     49.564519  \nTotal_EMI_per_month         41.244418    78.418272   169.286269  82331.000000  ",
      "text/html": "<div>\n<style scoped>\n    .dataframe tbody tr th:only-of-type {\n        vertical-align: middle;\n    }\n\n    .dataframe tbody tr th {\n        vertical-align: top;\n    }\n\n    .dataframe thead th {\n        text-align: right;\n    }\n</style>\n<table border=\"1\" class=\"dataframe\">\n  <thead>\n    <tr style=\"text-align: right;\">\n      <th></th>\n      <th>count</th>\n      <th>mean</th>\n      <th>std</th>\n      <th>min</th>\n      <th>25%</th>\n      <th>50%</th>\n      <th>75%</th>\n      <th>max</th>\n    </tr>\n  </thead>\n  <tbody>\n    <tr>\n      <th>Monthly_Inhand_Salary</th>\n      <td>53049.0</td>\n      <td>4024.502617</td>\n      <td>3094.967739</td>\n      <td>303.645417</td>\n      <td>1575.345833</td>\n      <td>2991.016667</td>\n      <td>5712.553333</td>\n      <td>15204.633333</td>\n    </tr>\n    <tr>\n      <th>Num_Bank_Accounts</th>\n      <td>53049.0</td>\n      <td>16.842806</td>\n      <td>115.605025</td>\n      <td>-1.000000</td>\n      <td>4.000000</td>\n      <td>6.000000</td>\n      <td>8.000000</td>\n      <td>1798.000000</td>\n    </tr>\n    <tr>\n      <th>Num_Credit_Card</th>\n      <td>53049.0</td>\n      <td>22.787253</td>\n      <td>129.339640</td>\n      <td>0.000000</td>\n      <td>4.000000</td>\n      <td>6.000000</td>\n      <td>7.000000</td>\n      <td>1499.000000</td>\n    </tr>\n    <tr>\n      <th>Interest_Rate</th>\n      <td>53049.0</td>\n      <td>76.272352</td>\n      <td>479.226709</td>\n      <td>1.000000</td>\n      <td>8.000000</td>\n      <td>15.000000</td>\n      <td>22.000000</td>\n      <td>5797.000000</td>\n    </tr>\n    <tr>\n      <th>Delay_from_due_date</th>\n      <td>53049.0</td>\n      <td>21.994119</td>\n      <td>15.220406</td>\n      <td>-5.000000</td>\n      <td>10.000000</td>\n      <td>19.000000</td>\n      <td>29.000000</td>\n      <td>67.000000</td>\n    </tr>\n    <tr>\n      <th>Num_Credit_Inquiries</th>\n      <td>53049.0</td>\n      <td>27.062866</td>\n      <td>187.185825</td>\n      <td>0.000000</td>\n      <td>3.000000</td>\n      <td>6.000000</td>\n      <td>9.000000</td>\n      <td>2594.000000</td>\n    </tr>\n    <tr>\n      <th>Credit_Utilization_Ratio</th>\n      <td>53049.0</td>\n      <td>32.219031</td>\n      <td>5.057398</td>\n      <td>20.881250</td>\n      <td>28.046338</td>\n      <td>32.251786</td>\n      <td>36.408991</td>\n      <td>49.564519</td>\n    </tr>\n    <tr>\n      <th>Total_EMI_per_month</th>\n      <td>53049.0</td>\n      <td>1445.924761</td>\n      <td>8407.429893</td>\n      <td>4.462837</td>\n      <td>41.244418</td>\n      <td>78.418272</td>\n      <td>169.286269</td>\n      <td>82331.000000</td>\n    </tr>\n  </tbody>\n</table>\n</div>"
     },
     "execution_count": 330,
     "metadata": {},
     "output_type": "execute_result"
    }
   ],
   "source": [
    "data_reduced.describe().T"
   ],
   "metadata": {
    "collapsed": false,
    "ExecuteTime": {
     "end_time": "2024-02-18T13:46:29.230095Z",
     "start_time": "2024-02-18T13:46:29.187869Z"
    }
   },
   "id": "fd6e3b683750aa9b"
  },
  {
   "cell_type": "markdown",
   "source": [
    "**The characteristics of numeric features did not change significantly. As a result I could keep the data_reduced DataFrame from now on.**"
   ],
   "metadata": {
    "collapsed": false
   },
   "id": "7a68c53e2da05dc3"
  },
  {
   "cell_type": "code",
   "execution_count": 331,
   "outputs": [
    {
     "data": {
      "text/plain": "array(['Good', 'Standard', 'Poor'], dtype=object)"
     },
     "execution_count": 331,
     "metadata": {},
     "output_type": "execute_result"
    }
   ],
   "source": [
    "data['Credit_Score'].unique()"
   ],
   "metadata": {
    "collapsed": false,
    "ExecuteTime": {
     "end_time": "2024-02-18T13:46:29.246677Z",
     "start_time": "2024-02-18T13:46:29.233987Z"
    }
   },
   "id": "1e7c1a085e8f25f5"
  },
  {
   "cell_type": "markdown",
   "source": [
    "Analysing the proportion of values of target variable:"
   ],
   "metadata": {
    "collapsed": false
   },
   "id": "a1d2aa5708d909cc"
  },
  {
   "cell_type": "code",
   "execution_count": 332,
   "outputs": [
    {
     "data": {
      "text/plain": "<Figure size 1100x600 with 2 Axes>",
      "image/png": "[encoded data removed]"
     },
     "metadata": {},
     "output_type": "display_data"
    },
    {
     "name": "stdout",
     "output_type": "stream",
     "text": [
      "Percentage of credit score categories:\n",
      "  Credit_Score  proportion\n",
      "0     Standard      53.174\n",
      "1         Poor      28.998\n",
      "2         Good      17.828\n",
      "\n",
      "\n",
      "\n",
      "Percentage of credit score categories after dropping all the rows with missing values:\n",
      "  Credit_Score  proportion\n",
      "0     Standard   52.689023\n",
      "1         Poor   31.133480\n",
      "2         Good   16.177496\n"
     ]
    }
   ],
   "source": [
    "fig, axs = plt.subplots(1,2, figsize=(11,6))\n",
    "\n",
    "# Plot for 'data' DataFrame\n",
    "(data['Credit_Score'].value_counts(normalize = True)*100).plot(kind='bar', ax=axs[0])\n",
    "axs[0].set_title('Percentage of credit score categories')\n",
    "axs[0].set_ylabel('Percentage')\n",
    "axs[0].set_xlabel('Credit Score Category')\n",
    "\n",
    "# Plot for 'data_reduced' DataFrame\n",
    "(data_reduced['Credit_Score'].value_counts(normalize = True)*100).plot(kind='bar', ax=axs[1])\n",
    "axs[1].set_title('Percentage of credit score categories \\n after dropping all the rows with missing values')\n",
    "axs[1].set_ylabel('Percentage')\n",
    "axs[1].set_xlabel('Credit Score Category')\n",
    "\n",
    "#plt.tight_layout()\n",
    "plt.show()\n",
    "\n",
    "#printing the precentages:\n",
    "print('Percentage of credit score categories:')\n",
    "print((data['Credit_Score'].value_counts(normalize = True)*100).reset_index())\n",
    "print('\\n\\n')\n",
    "print('Percentage of credit score categories after dropping all the rows with missing values:')\n",
    "print((data_reduced['Credit_Score'].value_counts(normalize = True)*100).reset_index())"
   ],
   "metadata": {
    "collapsed": false,
    "ExecuteTime": {
     "end_time": "2024-02-18T13:46:29.806831Z",
     "start_time": "2024-02-18T13:46:29.249552Z"
    }
   },
   "id": "5098492b19e0be12"
  },
  {
   "cell_type": "markdown",
   "source": [
    "Detecting strange values apart from the NaN Values ( using data_reduced dataframe)"
   ],
   "metadata": {
    "collapsed": false
   },
   "id": "fc3fff64dc186e8"
  },
  {
   "cell_type": "code",
   "execution_count": 333,
   "outputs": [
    {
     "name": "stdout",
     "output_type": "stream",
     "text": [
      "Column Name: ID\n",
      "****************************************\n",
      "ID\n",
      "0x1602     1\n",
      "0x19af2    1\n",
      "0x19ace    1\n",
      "0x19ad0    1\n",
      "0x19ad1    1\n",
      "          ..\n",
      "0xda7b     1\n",
      "0xda7c     1\n",
      "0xda7d     1\n",
      "0xda82     1\n",
      "0x25fed    1\n",
      "Name: count, Length: 53049, dtype: int64\n",
      "END ------------------------------------ \n",
      "\n",
      "Column Name: Customer_ID\n",
      "****************************************\n",
      "Customer_ID\n",
      "CUS_0x533b    8\n",
      "CUS_0x912e    8\n",
      "CUS_0x18ab    8\n",
      "CUS_0x5794    8\n",
      "CUS_0xa319    8\n",
      "             ..\n",
      "CUS_0xa201    1\n",
      "CUS_0x72bc    1\n",
      "CUS_0x6611    1\n",
      "CUS_0xb367    1\n",
      "CUS_0x8fee    1\n",
      "Name: count, Length: 11071, dtype: int64\n",
      "END ------------------------------------ \n",
      "\n",
      "Column Name: Month\n",
      "****************************************\n",
      "Month\n",
      "January     6744\n",
      "May         6649\n",
      "July        6637\n",
      "June        6629\n",
      "August      6624\n",
      "April       6609\n",
      "February    6589\n",
      "March       6568\n",
      "Name: count, dtype: int64\n",
      "END ------------------------------------ \n",
      "\n",
      "Column Name: Name\n",
      "****************************************\n",
      "Name\n",
      "Stevex                30\n",
      "Jonathan Stempelr     29\n",
      "Nicko                 28\n",
      "Jessicad              27\n",
      "Deepa Seetharamanm    27\n",
      "                      ..\n",
      "Michael Taylorz        1\n",
      "Wheatleyi              1\n",
      "Kenf                   1\n",
      "Arosioj                1\n",
      "Le                     1\n",
      "Name: count, Length: 9168, dtype: int64\n",
      "END ------------------------------------ \n",
      "\n",
      "Column Name: Age\n",
      "****************************************\n",
      "Age\n",
      "38       1567\n",
      "28       1519\n",
      "26       1480\n",
      "34       1469\n",
      "44       1460\n",
      "         ... \n",
      "8081        1\n",
      "7549        1\n",
      "4583_       1\n",
      "3988_       1\n",
      "1342        1\n",
      "Name: count, Length: 1057, dtype: int64\n",
      "END ------------------------------------ \n",
      "\n",
      "Column Name: SSN\n",
      "****************************************\n",
      "SSN\n",
      "#F%$D@*&8      2971\n",
      "842-95-1336       8\n",
      "279-66-3207       8\n",
      "918-26-9767       8\n",
      "138-71-8952       8\n",
      "               ... \n",
      "980-65-8757       1\n",
      "754-01-5850       1\n",
      "035-83-1012       1\n",
      "848-91-6762       1\n",
      "142-75-5225       1\n",
      "Name: count, Length: 11064, dtype: int64\n",
      "END ------------------------------------ \n",
      "\n",
      "Column Name: Occupation\n",
      "****************************************\n",
      "Occupation\n",
      "_______          3727\n",
      "Lawyer           3558\n",
      "Mechanic         3419\n",
      "Doctor           3344\n",
      "Teacher          3341\n",
      "Entrepreneur     3326\n",
      "Architect        3325\n",
      "Engineer         3321\n",
      "Media_Manager    3306\n",
      "Accountant       3305\n",
      "Scientist        3281\n",
      "Developer        3279\n",
      "Writer           3150\n",
      "Musician         3136\n",
      "Journalist       3124\n",
      "Manager          3107\n",
      "Name: count, dtype: int64\n",
      "END ------------------------------------ \n",
      "\n",
      "Column Name: Annual_Income\n",
      "****************************************\n",
      "Annual_Income\n",
      "20867.67     11\n",
      "40341.16     11\n",
      "9141.63      11\n",
      "36585.12     10\n",
      "95596.35      9\n",
      "             ..\n",
      "1406411.0     1\n",
      "19010.58_     1\n",
      "79357.14_     1\n",
      "9183.32_      1\n",
      "39628.99_     1\n",
      "Name: count, Length: 14707, dtype: int64\n",
      "END ------------------------------------ \n",
      "\n",
      "Column Name: Num_of_Loan\n",
      "****************************************\n",
      "Num_of_Loan\n",
      "3      8644\n",
      "2      8538\n",
      "4      8399\n",
      "1      6113\n",
      "6      4410\n",
      "       ... \n",
      "834       1\n",
      "284       1\n",
      "438       1\n",
      "288       1\n",
      "966       1\n",
      "Name: count, Length: 249, dtype: int64\n",
      "END ------------------------------------ \n",
      "\n",
      "Column Name: Type_of_Loan\n",
      "****************************************\n",
      "Type_of_Loan\n",
      "Not Specified                                                                                                                      874\n",
      "Credit-Builder Loan                                                                                                                800\n",
      "Personal Loan                                                                                                                      793\n",
      "Debt Consolidation Loan                                                                                                            759\n",
      "Student Loan                                                                                                                       751\n",
      "                                                                                                                                  ... \n",
      "Credit-Builder Loan, Home Equity Loan, Home Equity Loan, and Not Specified                                                           1\n",
      "Payday Loan, Home Equity Loan, Auto Loan, Home Equity Loan, Debt Consolidation Loan, Not Specified, and Home Equity Loan             1\n",
      "Mortgage Loan, Not Specified, Personal Loan, Mortgage Loan, Auto Loan, Not Specified, Not Specified, Payday Loan, and Auto Loan      1\n",
      "Not Specified, Payday Loan, Auto Loan, Not Specified, Not Specified, Not Specified, and Home Equity Loan                             1\n",
      "Mortgage Loan, Home Equity Loan, Credit-Builder Loan, Credit-Builder Loan, Mortgage Loan, and Student Loan                           1\n",
      "Name: count, Length: 6259, dtype: int64\n",
      "END ------------------------------------ \n",
      "\n",
      "Column Name: Num_of_Delayed_Payment\n",
      "****************************************\n",
      "Num_of_Delayed_Payment\n",
      "19      3169\n",
      "16      3111\n",
      "17      3086\n",
      "18      3013\n",
      "15      3011\n",
      "        ... \n",
      "1608       1\n",
      "823        1\n",
      "4326       1\n",
      "2609       1\n",
      "2047       1\n",
      "Name: count, Length: 470, dtype: int64\n",
      "END ------------------------------------ \n",
      "\n",
      "Column Name: Changed_Credit_Limit\n",
      "****************************************\n",
      "Changed_Credit_Limit\n",
      "_        1102\n",
      "8.22       84\n",
      "11.5       80\n",
      "11.32      67\n",
      "9.66       65\n",
      "         ... \n",
      "27.66       1\n",
      "31.46       1\n",
      "34.57       1\n",
      "29.66       1\n",
      "-3.41       1\n",
      "Name: count, Length: 3975, dtype: int64\n",
      "END ------------------------------------ \n",
      "\n",
      "Column Name: Credit_Mix\n",
      "****************************************\n",
      "Credit_Mix\n",
      "Standard    19418\n",
      "Good        11612\n",
      "Bad         11326\n",
      "_           10693\n",
      "Name: count, dtype: int64\n",
      "END ------------------------------------ \n",
      "\n",
      "Column Name: Outstanding_Debt\n",
      "****************************************\n",
      "Outstanding_Debt\n",
      "1151.7      16\n",
      "460.46      16\n",
      "1154.86     15\n",
      "1344.45     14\n",
      "883.26      14\n",
      "            ..\n",
      "373.74_      1\n",
      "2680.87_     1\n",
      "718.95_      1\n",
      "880.43_      1\n",
      "636.43_      1\n",
      "Name: count, Length: 11407, dtype: int64\n",
      "END ------------------------------------ \n",
      "\n",
      "Column Name: Credit_History_Age\n",
      "****************************************\n",
      "Credit_History_Age\n",
      "18 Years and 2 Months     257\n",
      "19 Years and 5 Months     256\n",
      "18 Years and 4 Months     256\n",
      "15 Years and 10 Months    254\n",
      "18 Years and 11 Months    252\n",
      "                         ... \n",
      "0 Years and 2 Months       11\n",
      "0 Years and 3 Months       11\n",
      "33 Years and 8 Months       9\n",
      "33 Years and 7 Months       9\n",
      "0 Years and 1 Months        1\n",
      "Name: count, Length: 404, dtype: int64\n",
      "END ------------------------------------ \n",
      "\n",
      "Column Name: Payment_of_Min_Amount\n",
      "****************************************\n",
      "Payment_of_Min_Amount\n",
      "Yes    29670\n",
      "No     17033\n",
      "NM      6346\n",
      "Name: count, dtype: int64\n",
      "END ------------------------------------ \n",
      "\n",
      "Column Name: Amount_invested_monthly\n",
      "****************************************\n",
      "Amount_invested_monthly\n",
      "__10000__             2402\n",
      "0.0                    109\n",
      "80.41529543900253        1\n",
      "22.770030000448017       1\n",
      "113.43431858575498       1\n",
      "                      ... \n",
      "41.819845889397634       1\n",
      "49.383098985710866       1\n",
      "395.2651708201082        1\n",
      "211.49064113734264       1\n",
      "167.1638651610451        1\n",
      "Name: count, Length: 50540, dtype: int64\n",
      "END ------------------------------------ \n",
      "\n",
      "Column Name: Payment_Behaviour\n",
      "****************************************\n",
      "Payment_Behaviour\n",
      "Low_spent_Small_value_payments      13581\n",
      "High_spent_Medium_value_payments     9418\n",
      "Low_spent_Medium_value_payments      7264\n",
      "High_spent_Large_value_payments      7185\n",
      "High_spent_Small_value_payments      6096\n",
      "Low_spent_Large_value_payments       5576\n",
      "!@9#%8                               3929\n",
      "Name: count, dtype: int64\n",
      "END ------------------------------------ \n",
      "\n",
      "Column Name: Monthly_Balance\n",
      "****************************************\n",
      "Monthly_Balance\n",
      "__-333333333333333333333333333__    6\n",
      "312.49408867943663                  1\n",
      "244.69833210672775                  1\n",
      "233.34687368752728                  1\n",
      "374.9437003925682                   1\n",
      "                                   ..\n",
      "384.8090260803249                   1\n",
      "324.2687102598266                   1\n",
      "151.61897761031906                  1\n",
      "483.4601323537574                   1\n",
      "393.6736955618808                   1\n",
      "Name: count, Length: 53044, dtype: int64\n",
      "END ------------------------------------ \n",
      "\n",
      "Column Name: Credit_Score\n",
      "****************************************\n",
      "Credit_Score\n",
      "Standard    27951\n",
      "Poor        16516\n",
      "Good         8582\n",
      "Name: count, dtype: int64\n",
      "END ------------------------------------ \n"
     ]
    }
   ],
   "source": [
    "object_col = data_reduced.describe(include='O').columns\n",
    "object_col\n",
    "\n",
    "\n",
    "# data_reduced[col].value_counts(dropna=False): \n",
    "# value_counts() is a function that returns the count of unique items in a pandas Series object.\n",
    "# The argument dropna=False means it includes the NaN (Not a Number) values as well. \n",
    "# By default, the value_counts() function does not include NaN values in its count.\n",
    "\n",
    "# Column Name: \n",
    "# '+col: This prints the text 'Column Name: ' along with the name of the column.\n",
    "\n",
    "for col in object_col:\n",
    "    print('Column Name: '+col)\n",
    "    print(\"**\"*20)\n",
    "    print(data_reduced[col].value_counts(dropna=False))\n",
    "    print('END', \"--\"*18, '\\n')\n"
   ],
   "metadata": {
    "collapsed": false,
    "ExecuteTime": {
     "end_time": "2024-02-18T13:46:30.300020Z",
     "start_time": "2024-02-18T13:46:29.808471Z"
    }
   },
   "id": "d1e7e2ff0010f93f"
  },
  {
   "cell_type": "markdown",
   "source": [
    "Clear the strange values found above:"
   ],
   "metadata": {
    "collapsed": false
   },
   "id": "9d6091bfb032dd14"
  },
  {
   "cell_type": "code",
   "execution_count": 334,
   "outputs": [],
   "source": [
    "def text_cleaning(data):\n",
    "    if data is np.NaN or not isinstance(data, str):\n",
    "        return data\n",
    "    else:\n",
    "        return str(data).strip('_ ,\"')"
   ],
   "metadata": {
    "collapsed": false,
    "ExecuteTime": {
     "end_time": "2024-02-18T13:46:30.326922Z",
     "start_time": "2024-02-18T13:46:30.321028Z"
    }
   },
   "id": "ae4a850d2d106937"
  },
  {
   "cell_type": "code",
   "execution_count": 335,
   "outputs": [
    {
     "data": {
      "text/plain": "ID                              0\nCustomer_ID                     0\nMonth                           0\nName                            0\nAge                             0\nSSN                          2971\nOccupation                   3727\nAnnual_Income                   0\nMonthly_Inhand_Salary           0\nNum_Bank_Accounts               0\nNum_Credit_Card                 0\nInterest_Rate                   0\nNum_of_Loan                     0\nType_of_Loan                    0\nDelay_from_due_date             0\nNum_of_Delayed_Payment          0\nChanged_Credit_Limit         1102\nNum_Credit_Inquiries            0\nCredit_Mix                  10693\nOutstanding_Debt                0\nCredit_Utilization_Ratio        0\nCredit_History_Age              0\nPayment_of_Min_Amount           0\nTotal_EMI_per_month             0\nAmount_invested_monthly         0\nPayment_Behaviour            3929\nMonthly_Balance                 0\nCredit_Score                    0\ndtype: int64"
     },
     "execution_count": 335,
     "metadata": {},
     "output_type": "execute_result"
    }
   ],
   "source": [
    "df = data_reduced.map(text_cleaning).replace(['', 'nan', '!@9#%8', '#F%$D@*&8'], np.NaN)\n",
    "df.isna().sum()"
   ],
   "metadata": {
    "collapsed": false,
    "ExecuteTime": {
     "end_time": "2024-02-18T13:46:32.016909Z",
     "start_time": "2024-02-18T13:46:30.329146Z"
    }
   },
   "id": "3bad846639e111d2"
  },
  {
   "cell_type": "markdown",
   "source": [
    "### Fixing Data Types using value_counts(), astype(), infer_objects(), convert_dtypes() etc.\n",
    "\n",
    "- Detect strange values by Columns Convert Object Types to Numeric Types (int, float, np.int64, pd.Int64Dtype() )\n",
    "- Combining object columns\n",
    "\n",
    "\n",
    "**Changing column type in pandas by using**:\n",
    "\n",
    "1. astype() - convert (almost) any type to (almost) any other type (even if it's not necessarily sensible to do so). Also allows you to convert to categorial types (very useful).\n",
    "2. infer_objects() - a utility method to convert object columns holding Python objects to a pandas type if possible.\n",
    "3. convert_dtypes() - convert DataFrame columns to the \"best possible\" dtype that supports pd.NA (pandas' object to indicate a missing value).\n",
    "4. to_numeric() - provides functionality to safely convert non-numeric types.(See also to_datetime() and to_timedelta().)\n",
    "5. factorize() - provides sorting"
   ],
   "metadata": {
    "collapsed": false
   },
   "id": "639675d34658db20"
  },
  {
   "cell_type": "code",
   "outputs": [
    {
     "name": "stdout",
     "output_type": "stream",
     "text": [
      "<class 'pandas.core.frame.DataFrame'>\n",
      "Index: 53049 entries, 0 to 99999\n",
      "Data columns (total 20 columns):\n",
      " #   Column                   Non-Null Count  Dtype \n",
      "---  ------                   --------------  ----- \n",
      " 0   ID                       53049 non-null  object\n",
      " 1   Customer_ID              53049 non-null  object\n",
      " 2   Month                    53049 non-null  object\n",
      " 3   Name                     53049 non-null  object\n",
      " 4   Age                      53049 non-null  object\n",
      " 5   SSN                      50078 non-null  object\n",
      " 6   Occupation               49322 non-null  object\n",
      " 7   Annual_Income            53049 non-null  object\n",
      " 8   Num_of_Loan              53049 non-null  object\n",
      " 9   Type_of_Loan             53049 non-null  object\n",
      " 10  Num_of_Delayed_Payment   53049 non-null  object\n",
      " 11  Changed_Credit_Limit     51947 non-null  object\n",
      " 12  Credit_Mix               42356 non-null  object\n",
      " 13  Outstanding_Debt         53049 non-null  object\n",
      " 14  Credit_History_Age       53049 non-null  object\n",
      " 15  Payment_of_Min_Amount    53049 non-null  object\n",
      " 16  Amount_invested_monthly  53049 non-null  object\n",
      " 17  Payment_Behaviour        49120 non-null  object\n",
      " 18  Monthly_Balance          53049 non-null  object\n",
      " 19  Credit_Score             53049 non-null  object\n",
      "dtypes: object(20)\n",
      "memory usage: 8.5+ MB\n"
     ]
    }
   ],
   "source": [
    "# 20 object columns:\n",
    "df.select_dtypes('object').info()"
   ],
   "metadata": {
    "collapsed": false,
    "ExecuteTime": {
     "end_time": "2024-02-18T13:46:32.086110Z",
     "start_time": "2024-02-18T13:46:32.019876Z"
    }
   },
   "id": "427753a0c44250e1",
   "execution_count": 336
  },
  {
   "cell_type": "markdown",
   "source": [
    "This code below is performing different data transformations on each object column of the df DataFrame, using various functions available in Pandas and Numpy. Here's a breakdown of these operations:\n",
    "\n",
    "1. **df['ID'] = df.ID.apply(lambda x: int(x, 16)):**\n",
    "The hexadecimal string IDs are being converted to int type. If df['ID'] originally contains hexadecimal numbers stored as string format, this line will convert those hexadecimal numbers to decimal integers.\n",
    "\n",
    "2. **df['Customer_ID'] = df.Customer_ID.apply(lambda x: int(x[4:], 16)):**\n",
    "Here it's slicing Customer_ID values from the 5th character till the end and converting those hexadecimal strings to int type.\n",
    "\n",
    "3. **df['Month'] = pd.to_datetime(df.Month, format='%B').dt.month:**\n",
    "This line is converting the Month column to Pandas datetime format, with the assumption that df['Month'] are given as full month names ('January', 'February', etc.). It then extracts the month as an integer (1 for January, 2 for February, etc.).\n",
    "\n",
    "4. **df['Age'] = df.Age.astype(int):** \n",
    "This line is converting the Age column values into integers using the astype(int) function.\n",
    "\n",
    "5. **df['SSN'] = df.SSN.apply(lambda x: x if x is np.NaN else int(str(x).replace('-', ''))).astype(float):**\n",
    "Here, for each value in the SSN field, if the value is not NaN (Not a Number), it is converted to string format, and then all the hyphen ('-') characters are removed. The resulting string is converted to an integer and then to a float. If the value is NaN, it remains NaN.\n",
    "\n",
    "- 6-12. **For numerical columns 'Annual_Income', 'Num_of_Loan', 'Num_of_Delayed_Payment', 'Changed_Credit_Limit', 'Outstanding_Debt', 'Amount_invested_monthly', and 'Monthly_Balance'**, the DataFrame's astype method is used to convert these columns to the float or int data type.\n",
    "\n",
    "In summary, the below code does type conversion and data cleaning for specific columns of the df pandas DataFrame. The cleaning and transformation done here are necessary for a lot of data processing and machine learning tasks."
   ],
   "metadata": {
    "collapsed": false
   },
   "id": "57c585b78546c3a0"
  },
  {
   "cell_type": "code",
   "outputs": [],
   "source": [
    "df['ID']                      = df.ID.apply(lambda x: int(x, 16))\n",
    "df['Customer_ID']             = df.Customer_ID.apply(lambda x: int(x[4:], 16))\n",
    "df['Month']                   = pd.to_datetime(df.Month, format='%B').dt.month\n",
    "df['Age']                     = df.Age.astype(int)\n",
    "df['SSN']                     = df.SSN.apply(lambda x: x if x is np.NaN else int(str(x).replace('-', ''))).astype(float)\n",
    "df['Annual_Income']           = df.Annual_Income.astype(float)\n",
    "df['Num_of_Loan']             = df.Num_of_Loan.astype(int)\n",
    "df['Num_of_Delayed_Payment']  = df.Num_of_Delayed_Payment.astype(float)\n",
    "df['Changed_Credit_Limit']    = df.Changed_Credit_Limit.astype(float)\n",
    "df['Outstanding_Debt']        = df.Outstanding_Debt.astype(float)\n",
    "df['Amount_invested_monthly'] = df.Amount_invested_monthly.astype(float)\n",
    "df['Monthly_Balance']         = df.Monthly_Balance.astype(float)"
   ],
   "metadata": {
    "collapsed": false,
    "ExecuteTime": {
     "end_time": "2024-02-18T13:46:32.332822Z",
     "start_time": "2024-02-18T13:46:32.088226Z"
    }
   },
   "id": "733ca9626444fdc5",
   "execution_count": 337
  },
  {
   "cell_type": "markdown",
   "source": [
    "### Combining specific object columns"
   ],
   "metadata": {
    "collapsed": false
   },
   "id": "221b9092c091645c"
  },
  {
   "cell_type": "markdown",
   "source": [
    "#### Feature: Credit History Age"
   ],
   "metadata": {
    "collapsed": false
   },
   "id": "b762a40826dbb40c"
  },
  {
   "cell_type": "markdown",
   "source": [
    "This function below, named **Month_Converter**, takes a single argument x. The function is intended to convert a string representing a time period in years and months into total months. The function does the following:\n",
    "\n",
    "1. **if pd.notnull(x)**:\n",
    "The function first checks if x is not a null value. This is done using the function notnull() from the pandas library.\n",
    "2. **num1 = int(x.split(' ')[0])**:\n",
    "It assumes that x is a string in which the first portion before the space is the number of years. It splits the string into different parts at the spaces using split(' '), and it converts the first part num1 (which is the number of years) into an integer.\n",
    "3. **num2 = int(x.split(' ')[3]):** \n",
    "Similar to the previous step, it assumes the string follows a pattern where the 4th portion (index 3) after splitting by space is the number of months. It converts this part num2 into an integer.\n",
    "4. **return (num1*12)+num2:**\n",
    "It returns the total number of months by converting the years into months (num1*12) and adding the remaining months (num2).\n",
    "5. **else: return x:**\n",
    "If x is a null value, the function simply returns x. This is useful for handling missing data.\n",
    "\n",
    "\n",
    "The function expects input strings in the format \"5 years 2 months\" and converts them into an integer representing the total number of months (in this example, it would return 62).\n",
    "\n",
    "Do note that this function does not handle errors that might arise if the format of the string is not as expected. It's best to make sure the data fits the expected format before applying this function."
   ],
   "metadata": {
    "collapsed": false
   },
   "id": "31874c72e171bcee"
  },
  {
   "cell_type": "code",
   "outputs": [],
   "source": [
    "def Month_Converter(x):\n",
    "    \"\"\"\n",
    "    Converts a given month in the format \"Mmm yyyy\" to the total number of months\n",
    "\n",
    "    :param x: A string representing a month in the format \"Mmm yyyy\" (e.g. \"Jan 2022\")\n",
    "    :return: The total number of months corresponding to the given month (e.g. for \"Jan 2022\", it would be 20234)\n",
    "    \"\"\"\n",
    "    if pd.notnull(x):\n",
    "        num1 = int(x.split(' ')[0])\n",
    "        num2 = int(x.split(' ')[3])\n",
    "\n",
    "        return (num1*12)+num2\n",
    "    else:\n",
    "        return x\n"
   ],
   "metadata": {
    "collapsed": false,
    "ExecuteTime": {
     "end_time": "2024-02-18T13:46:32.341999Z",
     "start_time": "2024-02-18T13:46:32.335639Z"
    }
   },
   "id": "ce6e1ff142983f72",
   "execution_count": 338
  },
  {
   "cell_type": "code",
   "outputs": [
    {
     "data": {
      "text/plain": "Customer_ID\n1006                  [183.0, 184.0, 185.0, 187.0, 188.0]\n1007                                       [347.0, 349.0]\n1009    [331.0, 332.0, 333.0, 334.0, 335.0, 337.0, 338.0]\n1011                                [179.0, 183.0, 185.0]\n1013    [311.0, 313.0, 314.0, 315.0, 316.0, 317.0, 318.0]\nName: Credit_History_Age, dtype: object"
     },
     "execution_count": 339,
     "metadata": {},
     "output_type": "execute_result"
    }
   ],
   "source": [
    "#applying function Month_Converter to 'Credit_History_Age':\n",
    "df['Credit_History_Age'] = df.Credit_History_Age.apply(lambda x: Month_Converter(x)).astype(float)\n",
    "\n",
    "#check\n",
    "df.groupby('Customer_ID')['Credit_History_Age'].apply(list).head()"
   ],
   "metadata": {
    "collapsed": false,
    "ExecuteTime": {
     "end_time": "2024-02-18T13:46:33.066654Z",
     "start_time": "2024-02-18T13:46:32.344758Z"
    }
   },
   "id": "7bf6d3e99289d6bc",
   "execution_count": 339
  },
  {
   "cell_type": "markdown",
   "source": [
    "#### Feature: Type of Loan"
   ],
   "metadata": {
    "collapsed": false
   },
   "id": "6dbb75667056bbb9"
  },
  {
   "cell_type": "code",
   "outputs": [],
   "source": [],
   "metadata": {
    "collapsed": false,
    "ExecuteTime": {
     "end_time": "2024-02-18T13:46:33.071343Z",
     "start_time": "2024-02-18T13:46:33.068525Z"
    }
   },
   "id": "e61601b54229f683",
   "execution_count": 339
  },
  {
   "cell_type": "code",
   "outputs": [
    {
     "data": {
      "text/plain": "Type_of_Loan\nNot Specified                                                                                                                      874\nCredit-Builder Loan                                                                                                                800\nPersonal Loan                                                                                                                      793\nDebt Consolidation Loan                                                                                                            759\nStudent Loan                                                                                                                       751\n                                                                                                                                  ... \nCredit-Builder Loan, Home Equity Loan, Home Equity Loan, and Not Specified                                                           1\nPayday Loan, Home Equity Loan, Auto Loan, Home Equity Loan, Debt Consolidation Loan, Not Specified, and Home Equity Loan             1\nMortgage Loan, Not Specified, Personal Loan, Mortgage Loan, Auto Loan, Not Specified, Not Specified, Payday Loan, and Auto Loan      1\nNot Specified, Payday Loan, Auto Loan, Not Specified, Not Specified, Not Specified, and Home Equity Loan                             1\nMortgage Loan, Home Equity Loan, Credit-Builder Loan, Credit-Builder Loan, Mortgage Loan, and Student Loan                           1\nName: count, Length: 6259, dtype: int64"
     },
     "execution_count": 340,
     "metadata": {},
     "output_type": "execute_result"
    }
   ],
   "source": [
    "df['Type_of_Loan'].value_counts(dropna=False)"
   ],
   "metadata": {
    "collapsed": false,
    "ExecuteTime": {
     "end_time": "2024-02-18T13:46:33.084837Z",
     "start_time": "2024-02-18T13:46:33.073466Z"
    }
   },
   "id": "db59c20517e3b7e8",
   "execution_count": 340
  },
  {
   "cell_type": "markdown",
   "source": [
    "The code below contains two lines where the Pandas library in Python is used to process the DataFrame df.\n",
    "\n",
    "**The applied lambda function does the following**:\n",
    "- x.lower() - This part transforms the text to lowercase.\n",
    "- .replace('and ', '') - This part removes the word 'and' followed by a space from the string.\n",
    "- .replace(', ', ',') - This part replaces the ', ' (comma followed by a space) with ',' (just comma), effectively removing spaces after commas.\n",
    "- .strip() - This part removes any leading or trailing spaces.\n",
    "- If x is a NaN value (checked using the pd.notna(x) else x part), it remains unaltered.\n",
    "df.groupby('Customer_ID')['Type_of_Loan'].value_counts(dropna=False)\n",
    "\n",
    "The next code line groups the DataFrame by the Customer_ID, then takes the count of unique values in the Type_of_Loan column for each Customer_ID. The value_counts(dropna=False) function counts the number of each unique value in the Type_of_Loan column. The dropna=False parameter means it includes the NaN values in the count.\n",
    "\n",
    "In summary, the code first cleans up and standardizes the Type_of_Loan column, then displays the occurrence of each type of loan per customer"
   ],
   "metadata": {
    "collapsed": false
   },
   "id": "2515b494e9c7cee1"
  },
  {
   "cell_type": "code",
   "outputs": [
    {
     "data": {
      "text/plain": "Customer_ID  Type_of_Loan                                                                                \n1006         credit-builder loan,payday loan                                                                 5\n1007         home equity loan,mortgage loan,student loan                                                     2\n1009         credit-builder loan,student loan,not specified,student loan                                     7\n1011         personal loan,auto loan,auto loan                                                               3\n1013         home equity loan,mortgage loan,not specified,personal loan                                      7\n                                                                                                            ..\n50983        student loan,mortgage loan                                                                      3\n50984        home equity loan,mortgage loan,payday loan,mortgage loan,mortgage loan,payday loan              4\n50990        mortgage loan,auto loan,auto loan                                                               5\n50992        student loan,credit-builder loan,mortgage loan,payday loan,home equity loan,home equity loan    6\n50999        credit-builder loan                                                                             4\nName: count, Length: 11071, dtype: int64"
     },
     "execution_count": 341,
     "metadata": {},
     "output_type": "execute_result"
    }
   ],
   "source": [
    "df['Type_of_Loan'] = df['Type_of_Loan'].apply(lambda x: x.lower().replace('and ', '').replace(', ', ',').strip() if pd.notna(x) else x)\n",
    "\n",
    "df.groupby('Customer_ID')['Type_of_Loan'].value_counts(dropna=False)"
   ],
   "metadata": {
    "collapsed": false,
    "ExecuteTime": {
     "end_time": "2024-02-18T13:46:33.233462Z",
     "start_time": "2024-02-18T13:46:33.086828Z"
    }
   },
   "id": "2cad523dcd996eda",
   "execution_count": 341
  },
  {
   "cell_type": "markdown",
   "source": [
    "Also, I could create lists of type of loans per Customer ID, where I can map the values inside the lists into different features"
   ],
   "metadata": {
    "collapsed": false
   },
   "id": "a20281944f7c428e"
  },
  {
   "cell_type": "code",
   "outputs": [
    {
     "data": {
      "text/plain": "Customer_ID\n1006     [credit-builder loan,payday loan, credit-build...\n1007     [home equity loan,mortgage loan,student loan, ...\n1009     [credit-builder loan,student loan,not specifie...\n1011     [personal loan,auto loan,auto loan, personal l...\n1013     [home equity loan,mortgage loan,not specified,...\n                               ...                        \n50983    [student loan,mortgage loan, student loan,mort...\n50984    [home equity loan,mortgage loan,payday loan,mo...\n50990    [mortgage loan,auto loan,auto loan, mortgage l...\n50992    [student loan,credit-builder loan,mortgage loa...\n50999    [credit-builder loan, credit-builder loan, cre...\nName: Type_of_Loan, Length: 11071, dtype: object"
     },
     "execution_count": 342,
     "metadata": {},
     "output_type": "execute_result"
    }
   ],
   "source": [
    "df.groupby('Customer_ID')['Type_of_Loan'].apply(list)"
   ],
   "metadata": {
    "collapsed": false,
    "ExecuteTime": {
     "end_time": "2024-02-18T13:46:33.630477Z",
     "start_time": "2024-02-18T13:46:33.235327Z"
    }
   },
   "id": "2b48765b1db2f272",
   "execution_count": 342
  },
  {
   "cell_type": "markdown",
   "source": [],
   "metadata": {
    "collapsed": false
   },
   "id": "e646ff8d67c2ca70"
  },
  {
   "cell_type": "markdown",
   "source": [
    "Let's check the different values in the Type of Loan column:"
   ],
   "metadata": {
    "collapsed": false
   },
   "id": "df7be32f1dc67b42"
  },
  {
   "cell_type": "code",
   "outputs": [],
   "source": [
    "import re \n",
    "def get_Diff_Values_Colum(df_column, diff_value=[], sep=',', replace=''):\n",
    "    \"\"\"\n",
    "    Get the different values in a column of a DataFrame.\n",
    "\n",
    "    :param df_column: The column of the DataFrame.\n",
    "    :type df_column: pandas.Series\n",
    "    :param diff_value: Values to exclude from the result. It is an optional parameter and the default value is an empty list.\n",
    "    :type diff_value: list, optional\n",
    "    :param sep: Separator for splitting values that contain multiple elements. It is an optional parameter and the default value is ','.\n",
    "    :type sep: str, optional\n",
    "    :param replace: Characters to replace in values before processing. It is an optional parameter and the default value is an empty string.\n",
    "    :type replace: str, optional\n",
    "    :return: A dictionary containing the different values as keys and their corresponding indexes as values.\n",
    "    :rtype: dict\n",
    "\n",
    "    \"\"\"\n",
    "    column = df_column.dropna()\n",
    "    for i in column:\n",
    "        if sep not in i and i not in diff_value:\n",
    "            diff_value.append(i)\n",
    "        else:\n",
    "            for data in map(lambda x:x.strip(), re.sub(replace, '', i).split(sep)):\n",
    "                if not data in diff_value:\n",
    "                    diff_value.append(data)\n",
    "    return dict(enumerate(sorted(diff_value)))"
   ],
   "metadata": {
    "collapsed": false,
    "ExecuteTime": {
     "end_time": "2024-02-18T13:46:33.639414Z",
     "start_time": "2024-02-18T13:46:33.632658Z"
    }
   },
   "id": "678bf33ae99992b7",
   "execution_count": 343
  },
  {
   "cell_type": "code",
   "outputs": [
    {
     "data": {
      "text/plain": "{0: 'auto loan',\n 1: 'credit-builder loan',\n 2: 'debt consolidation loan',\n 3: 'home equity loan',\n 4: 'mortgage loan',\n 5: 'not specified',\n 6: 'payday loan',\n 7: 'personal loan',\n 8: 'student loan'}"
     },
     "execution_count": 344,
     "metadata": {},
     "output_type": "execute_result"
    }
   ],
   "source": [
    "get_Diff_Values_Colum(df['Type_of_Loan'])"
   ],
   "metadata": {
    "collapsed": false,
    "ExecuteTime": {
     "end_time": "2024-02-18T13:46:34.499370Z",
     "start_time": "2024-02-18T13:46:33.641567Z"
    }
   },
   "id": "f4778a47279c3641",
   "execution_count": 344
  },
  {
   "cell_type": "markdown",
   "source": [
    "We have 8 unique values  various combinations in column: Type_of_Loans"
   ],
   "metadata": {
    "collapsed": false
   },
   "id": "67cc04d8bfc194c5"
  },
  {
   "cell_type": "markdown",
   "source": [
    "### Handling missing values on df Dataframe"
   ],
   "metadata": {
    "collapsed": false
   },
   "id": "1f144524ae10047f"
  },
  {
   "cell_type": "code",
   "outputs": [
    {
     "data": {
      "text/plain": "Name                         0\nOccupation                3727\nType_of_Loan                 0\nCredit_Mix               10693\nPayment_of_Min_Amount        0\nPayment_Behaviour         3929\nCredit_Score                 0\ndtype: int64"
     },
     "execution_count": 345,
     "metadata": {},
     "output_type": "execute_result"
    }
   ],
   "source": [
    "df.select_dtypes(include = 'object').isna().sum()"
   ],
   "metadata": {
    "collapsed": false,
    "ExecuteTime": {
     "end_time": "2024-02-18T13:46:34.536252Z",
     "start_time": "2024-02-18T13:46:34.501442Z"
    }
   },
   "id": "b30f0df418ea52d3",
   "execution_count": 345
  },
  {
   "cell_type": "markdown",
   "source": [
    "I should check and handle tha Nan values of the following variables:\n",
    "- Occupation\n",
    "- Credit_Mix\n",
    "- Payment_Behaviour\n",
    "\n",
    "Below I create a function that handles missing values for Object Columns:\n"
   ],
   "metadata": {
    "collapsed": false
   },
   "id": "435884b3a0b247eb"
  },
  {
   "cell_type": "markdown",
   "source": [
    "**The below function is defined to handle missing values (NaNs) in a pandas DataFrame based on the mode of a grouped column**.\n",
    "\n",
    "**Here's a breakdown of the code**:\n",
    "\n",
    "The function first defines a nested inner function make_NaN_and_fill_mode which replaces 'None' values with 'np.NaN' if any. Then, it fills the missing values with the mode of the column, grouped by the column names stated. The mode is the value that appears most frequently in a data set. It's calculated using scipy.stats.mode.\n",
    "\n",
    "When the inplace argument is True, the original DataFrame is modified and nothing is returned. If False, a new DataFrame with the modifications is returned.\n",
    "The primary function checks if inplace is True or False.\n",
    "\n",
    "If inplace is True, it:\n",
    "- calculates and prints the count of NaN values in the column before assigning.\n",
    "- shows a sample of values in the group by column,\n",
    "- replaces None and NaN values with the mode value using the inner function,\n",
    "- shows the count of NaN values in the column after assigning,\n",
    "- shows a sample of the group by column after assigning.\n",
    "\n",
    "If inplace is False, it simply calls the make_NaN_and_fill_mode function and returns the modified DataFrame."
   ],
   "metadata": {
    "collapsed": false
   },
   "id": "d31e07357b3c4852"
  },
  {
   "cell_type": "code",
   "outputs": [],
   "source": [
    "# Reassign and Show Function\n",
    "def Object_NaN_Values_Reassign(df, groupby, column, inplace=True):\n",
    "    \"\"\"\n",
    "    :param df: The DataFrame to be modified.\n",
    "    :param groupby: The column(s) to group the data by.\n",
    "    :param column: The column to reassign NaN values.\n",
    "    :param inplace: If True, modify the DataFrame in-place. If False, return a new DataFrame with the NaN values reassigned.\n",
    "    :return: If inplace=True, returns None. If inplace=False, returns a DataFrame with reassigned NaN values.\n",
    "\n",
    "    This method reassigns NaN values in a DataFrame column based on the mode of the corresponding groupby column(s).\n",
    "    \"\"\"\n",
    "    import scipy.stats as stats\n",
    "    import pandas as pd\n",
    "    def make_NaN_and_fill_mode(df, groupby, column, inplace=True):\n",
    "        # Assign None to np.NaN\n",
    "        if df[column].isin([None]).sum():\n",
    "            df[column][df[column].isin([None])] = np.NaN\n",
    "\n",
    "        # fill with local mode\n",
    "        mode_vals = df.groupby(groupby)[column].apply(lambda x: pd.Series.mode(x)[0] if len(pd.Series.mode(x))>0 else np.NaN)\n",
    "\n",
    "        result = df[column].fillna(df[groupby].map(mode_vals))\n",
    "\n",
    "        # inplace\n",
    "        if inplace:\n",
    "            df[column]=result\n",
    "        else:\n",
    "            return result\n",
    "\n",
    "    # Run      \n",
    "    if inplace:\n",
    "        # Before Assigning NaN values   \n",
    "        if df[column].value_counts(dropna=False).index.isna().sum():\n",
    "            x = df[column].value_counts(dropna=False).loc[[np.NaN]]\n",
    "            print(f'\\nBefore Assigning: {column}:', f'have {x.values[0]} NaN Values', end='\\n')\n",
    "\n",
    "        a = df.groupby(groupby)[column].apply(list)\n",
    "        print(f'\\nBefore Assigning Example {column}:\\n', *a.head().values, sep='\\n', end='\\n')\n",
    "\n",
    "        # Assigning\n",
    "        make_NaN_and_fill_mode(df, groupby, column, inplace)\n",
    "\n",
    "        # After Assigning NaN values\n",
    "        if df[column].value_counts(dropna=False).index.isna().sum():\n",
    "            y = df[column].value_counts(dropna=False).loc[[np.NaN]]\n",
    "            print(f'\\nAfter Assigning: {column}:', f'have {y.values[0]} NaN Values', end='\\n')\n",
    "\n",
    "        b = df.groupby(groupby)[column].apply(list)\n",
    "        print(f'\\nAfter Assigning Example {column}:\\n', *b.head().values, sep='\\n', end='\\n')\n",
    "    else:\n",
    "        # Show\n",
    "        return make_NaN_and_fill_mode(df, groupby, column, inplace)"
   ],
   "metadata": {
    "collapsed": false,
    "ExecuteTime": {
     "end_time": "2024-02-18T13:46:34.550748Z",
     "start_time": "2024-02-18T13:46:34.538267Z"
    }
   },
   "id": "ed1c88d17521428f",
   "execution_count": 346
  },
  {
   "cell_type": "markdown",
   "source": [
    "**Handling Occupation variable**:"
   ],
   "metadata": {
    "collapsed": false
   },
   "id": "b8afd75beb5206be"
  },
  {
   "cell_type": "code",
   "outputs": [
    {
     "data": {
      "text/plain": "Occupation\nNaN              3727\nLawyer           3558\nMechanic         3419\nDoctor           3344\nTeacher          3341\nEntrepreneur     3326\nArchitect        3325\nEngineer         3321\nMedia_Manager    3306\nAccountant       3305\nScientist        3281\nDeveloper        3279\nWriter           3150\nMusician         3136\nJournalist       3124\nManager          3107\nName: count, dtype: int64"
     },
     "execution_count": 347,
     "metadata": {},
     "output_type": "execute_result"
    }
   ],
   "source": [
    "df['Occupation'].value_counts(dropna=False)"
   ],
   "metadata": {
    "collapsed": false,
    "ExecuteTime": {
     "end_time": "2024-02-18T13:46:34.560688Z",
     "start_time": "2024-02-18T13:46:34.552543Z"
    }
   },
   "id": "d381fb538c68b404",
   "execution_count": 347
  },
  {
   "cell_type": "code",
   "outputs": [
    {
     "name": "stdout",
     "output_type": "stream",
     "text": [
      "\n",
      "Before Assigning: Occupation: have 3727 NaN Values\n",
      "\n",
      "Before Assigning Example Occupation:\n",
      "\n",
      "['Journalist', 'Journalist', 'Journalist', nan, 'Journalist']\n",
      "['Manager', 'Manager']\n",
      "['Accountant', nan, 'Accountant', 'Accountant', 'Accountant', 'Accountant', 'Accountant']\n",
      "['Writer', nan, 'Writer']\n",
      "[nan, 'Mechanic', 'Mechanic', 'Mechanic', 'Mechanic', 'Mechanic', 'Mechanic']\n",
      "\n",
      "After Assigning: Occupation: have 8 NaN Values\n",
      "\n",
      "After Assigning Example Occupation:\n",
      "\n",
      "['Journalist', 'Journalist', 'Journalist', 'Journalist', 'Journalist']\n",
      "['Manager', 'Manager']\n",
      "['Accountant', 'Accountant', 'Accountant', 'Accountant', 'Accountant', 'Accountant', 'Accountant']\n",
      "['Writer', 'Writer', 'Writer']\n",
      "['Mechanic', 'Mechanic', 'Mechanic', 'Mechanic', 'Mechanic', 'Mechanic', 'Mechanic']\n"
     ]
    }
   ],
   "source": [
    "Object_NaN_Values_Reassign(df, 'Customer_ID', 'Occupation')"
   ],
   "metadata": {
    "collapsed": false,
    "ExecuteTime": {
     "end_time": "2024-02-18T13:46:38.550392Z",
     "start_time": "2024-02-18T13:46:34.562294Z"
    }
   },
   "id": "ced3b4c5676aab63",
   "execution_count": 348
  },
  {
   "cell_type": "markdown",
   "source": [
    "**Everything seems ok. Now I should check Credit_Mix feature**:"
   ],
   "metadata": {
    "collapsed": false
   },
   "id": "5dfbb6bcc1bd5d5b"
  },
  {
   "cell_type": "code",
   "outputs": [
    {
     "data": {
      "text/plain": "Credit_Mix\nStandard    19418\nGood        11612\nBad         11326\nNaN         10693\nName: count, dtype: int64"
     },
     "execution_count": 349,
     "metadata": {},
     "output_type": "execute_result"
    }
   ],
   "source": [
    "df['Credit_Mix'].value_counts(dropna=False)"
   ],
   "metadata": {
    "collapsed": false,
    "ExecuteTime": {
     "end_time": "2024-02-18T13:46:38.560254Z",
     "start_time": "2024-02-18T13:46:38.552184Z"
    }
   },
   "id": "1ae742503e0dc8fd",
   "execution_count": 349
  },
  {
   "cell_type": "code",
   "outputs": [
    {
     "name": "stdout",
     "output_type": "stream",
     "text": [
      "\n",
      "Before Assigning: Credit_Mix: have 10693 NaN Values\n",
      "\n",
      "Before Assigning Example Credit_Mix:\n",
      "\n",
      "['Standard', 'Standard', 'Standard', nan, 'Standard']\n",
      "['Standard', 'Standard']\n",
      "['Standard', nan, 'Standard', 'Standard', 'Standard', 'Standard', 'Standard']\n",
      "[nan, 'Standard', 'Standard']\n",
      "[nan, nan, 'Good', 'Good', nan, 'Good', nan]\n",
      "\n",
      "After Assigning: Credit_Mix: have 97 NaN Values\n",
      "\n",
      "After Assigning Example Credit_Mix:\n",
      "\n",
      "['Standard', 'Standard', 'Standard', 'Standard', 'Standard']\n",
      "['Standard', 'Standard']\n",
      "['Standard', 'Standard', 'Standard', 'Standard', 'Standard', 'Standard', 'Standard']\n",
      "['Standard', 'Standard', 'Standard']\n",
      "['Good', 'Good', 'Good', 'Good', 'Good', 'Good', 'Good']\n"
     ]
    }
   ],
   "source": [
    "Object_NaN_Values_Reassign(df, 'Customer_ID', 'Credit_Mix')"
   ],
   "metadata": {
    "collapsed": false,
    "ExecuteTime": {
     "end_time": "2024-02-18T13:46:42.533224Z",
     "start_time": "2024-02-18T13:46:38.561775Z"
    }
   },
   "id": "32c8b4fe2db82494",
   "execution_count": 350
  },
  {
   "cell_type": "code",
   "outputs": [
    {
     "data": {
      "text/plain": "Credit_Mix\nStandard    24362\nGood        14442\nBad         14148\nNaN            97\nName: count, dtype: int64"
     },
     "execution_count": 351,
     "metadata": {},
     "output_type": "execute_result"
    }
   ],
   "source": [
    "df['Credit_Mix'].value_counts(dropna=False)"
   ],
   "metadata": {
    "collapsed": false,
    "ExecuteTime": {
     "end_time": "2024-02-18T13:46:42.552342Z",
     "start_time": "2024-02-18T13:46:42.543619Z"
    }
   },
   "id": "dd9807e5c262198a",
   "execution_count": 351
  },
  {
   "cell_type": "markdown",
   "source": [
    "**In a similar way I handle the missing values of Payment_Behaviour**:"
   ],
   "metadata": {
    "collapsed": false
   },
   "id": "16b0c15d67253428"
  },
  {
   "cell_type": "code",
   "outputs": [
    {
     "name": "stdout",
     "output_type": "stream",
     "text": [
      "\n",
      "Before Assigning: Payment_Behaviour: have 3929 NaN Values\n",
      "\n",
      "Before Assigning Example Payment_Behaviour:\n",
      "\n",
      "['Low_spent_Medium_value_payments', 'Low_spent_Small_value_payments', 'High_spent_Small_value_payments', nan, 'Low_spent_Large_value_payments']\n",
      "['High_spent_Medium_value_payments', 'High_spent_Medium_value_payments']\n",
      "['High_spent_Medium_value_payments', 'High_spent_Large_value_payments', 'High_spent_Medium_value_payments', 'Low_spent_Large_value_payments', 'Low_spent_Medium_value_payments', nan, 'High_spent_Large_value_payments']\n",
      "['High_spent_Small_value_payments', 'Low_spent_Medium_value_payments', 'High_spent_Large_value_payments']\n",
      "['High_spent_Small_value_payments', 'Low_spent_Small_value_payments', 'Low_spent_Large_value_payments', nan, 'Low_spent_Large_value_payments', 'Low_spent_Medium_value_payments', 'Low_spent_Large_value_payments']\n",
      "\n",
      "After Assigning: Payment_Behaviour: have 18 NaN Values\n",
      "\n",
      "After Assigning Example Payment_Behaviour:\n",
      "\n",
      "['Low_spent_Medium_value_payments', 'Low_spent_Small_value_payments', 'High_spent_Small_value_payments', 'High_spent_Small_value_payments', 'Low_spent_Large_value_payments']\n",
      "['High_spent_Medium_value_payments', 'High_spent_Medium_value_payments']\n",
      "['High_spent_Medium_value_payments', 'High_spent_Large_value_payments', 'High_spent_Medium_value_payments', 'Low_spent_Large_value_payments', 'Low_spent_Medium_value_payments', 'High_spent_Large_value_payments', 'High_spent_Large_value_payments']\n",
      "['High_spent_Small_value_payments', 'Low_spent_Medium_value_payments', 'High_spent_Large_value_payments']\n",
      "['High_spent_Small_value_payments', 'Low_spent_Small_value_payments', 'Low_spent_Large_value_payments', 'Low_spent_Large_value_payments', 'Low_spent_Large_value_payments', 'Low_spent_Medium_value_payments', 'Low_spent_Large_value_payments']\n"
     ]
    }
   ],
   "source": [
    "Object_NaN_Values_Reassign(df, 'Customer_ID', 'Payment_Behaviour')"
   ],
   "metadata": {
    "collapsed": false,
    "ExecuteTime": {
     "end_time": "2024-02-18T13:46:46.635638Z",
     "start_time": "2024-02-18T13:46:42.554438Z"
    }
   },
   "id": "8bfda2a38bcddc1b",
   "execution_count": 352
  },
  {
   "cell_type": "code",
   "outputs": [
    {
     "data": {
      "text/plain": "Name                      0\nOccupation                8\nType_of_Loan              0\nCredit_Mix               97\nPayment_of_Min_Amount     0\nPayment_Behaviour        18\nCredit_Score              0\ndtype: int64"
     },
     "execution_count": 353,
     "metadata": {},
     "output_type": "execute_result"
    }
   ],
   "source": [
    "#check the null values:\n",
    "df.select_dtypes(include = 'object').isna().sum()"
   ],
   "metadata": {
    "collapsed": false,
    "ExecuteTime": {
     "end_time": "2024-02-18T13:46:46.672688Z",
     "start_time": "2024-02-18T13:46:46.637436Z"
    }
   },
   "id": "3765b0919f0cd51a",
   "execution_count": 353
  },
  {
   "cell_type": "markdown",
   "source": [
    "### Handling numeric variables (missing values and outliers)"
   ],
   "metadata": {
    "collapsed": false
   },
   "id": "b22461e1ced11ba3"
  },
  {
   "cell_type": "markdown",
   "source": [
    "Below I create a function that gets the lower and upper bounds for outliers based on the interquartile range (IQR). "
   ],
   "metadata": {
    "collapsed": false
   },
   "id": "b1db81cb8403291e"
  },
  {
   "cell_type": "code",
   "outputs": [],
   "source": [
    "# Define Outlier Range\n",
    "def get_iqr_lower_upper(df, column, multiply=1.5):\n",
    "    \"\"\"\n",
    "    Get the lower and upper bounds for outliers based on the interquartile range (IQR).\n",
    "\n",
    "    :param df: pandas DataFrame\n",
    "        The DataFrame containing the data.\n",
    "    :param column: str\n",
    "        The column name in the DataFrame.\n",
    "    :param multiply: float, optional\n",
    "        The multiplier to determine the threshold for outliers. Default is 1.5.\n",
    "    :return: tuple\n",
    "        A tuple containing the lower and upper bounds for outliers.\n",
    "    \"\"\"\n",
    "    q1 = df[column].quantile(0.25)\n",
    "    q3 = df[column].quantile(0.75)\n",
    "    iqr = q3 -q1\n",
    "\n",
    "    lower = q1-iqr*multiply\n",
    "    upper = q3+iqr*multiply\n",
    "    affect = df.loc[(df[column]<lower)|(df[column]>upper)].shape\n",
    "    print('Outlier.shape:', affect)\n",
    "    return lower, upper"
   ],
   "metadata": {
    "collapsed": false,
    "ExecuteTime": {
     "end_time": "2024-02-18T13:52:28.009356Z",
     "start_time": "2024-02-18T13:52:28.003176Z"
    }
   },
   "id": "dff8ed00f928a77e",
   "execution_count": 372
  },
  {
   "cell_type": "markdown",
   "source": [
    "Also, I create a function for numeric variables that identifies and re-assigns wrong numeric values in the df DataFrame based on a specified group:"
   ],
   "metadata": {
    "collapsed": false
   },
   "id": "566ff5d238347ecc"
  },
  {
   "cell_type": "code",
   "outputs": [],
   "source": [
    "# Reassign Wrong Values and Show Function\n",
    "def Numeric_Wrong_Values_Reassign_Group_Min_Max(df, groupby, column, inplace=True):\n",
    "    \"\"\"\n",
    "\n",
    "    This method, `Numeric_Wrong_Values_Reassign_Group_Min_Max`, is used to identify and reassign wrong numeric values in a pandas DataFrame based on a specified group. \n",
    "\n",
    "    :param df: The pandas DataFrame where the wrong values need to be re-assigned. \n",
    "    :param groupby: The column(s) in the DataFrame that will be used to group the data.\n",
    "    :param column: The column containing the values that need to be reassigned.\n",
    "    :param inplace: A boolean indicating whether the changes should be made directly in the DataFrame or returned as a new object. Default is True, which means the changes will be made inplace\n",
    "    *.\n",
    "    :return: If `inplace` is True, there is no return value. If `inplace` is False, the modified DataFrame will be returned.\n",
    "\n",
    "    \"\"\"\n",
    "    import scipy.stats as stats\n",
    "\n",
    "    # Identify Wrong values Range\n",
    "    def get_group_min_max(df, groupby, column):\n",
    "        cur = df[df[column].notna()].groupby(groupby)[column].apply(list)\n",
    "        x, y = cur.apply(lambda x: stats.mode(x)).apply([min, max])\n",
    "        return x[0], y[0]\n",
    "\n",
    "    # Assigning Wrong values\n",
    "    def make_group_NaN_and_fill_mode(df, groupby, column, inplace=True):\n",
    "        df_dropped = df[df[column].notna()].groupby(groupby)[column].apply(list)\n",
    "        x, y = df_dropped.apply(lambda x: stats.mode(x)).apply([min, max])\n",
    "        mini, maxi = x[0], y[0]\n",
    "\n",
    "        # assign Wrong Values to NaN\n",
    "        col = df[column].apply(lambda x: np.NaN if ((x<mini)|(x>maxi)) else x)\n",
    "\n",
    "        # fill with local mode\n",
    "        mode_by_group = df.groupby(groupby)[column].transform(lambda x: x.mode()[0] if not x.mode().empty else np.NaN)\n",
    "        result = col.fillna(mode_by_group)\n",
    "\n",
    "        # inplace\n",
    "        if inplace:\n",
    "            df[column]=result\n",
    "        else:\n",
    "            return result\n",
    "\n",
    "\n",
    "    # Run      \n",
    "    if inplace:\n",
    "        # Before Assigning NaN values   \n",
    "        if df[column].value_counts(dropna=False).index.isna().sum():\n",
    "            x = df[column].value_counts(dropna=False).loc[[np.NaN]]\n",
    "            print(f'\\nBefore Assigning: {column}:', f'have {x.values[0]} NaN Values', end='\\n')\n",
    "\n",
    "        print(\"\\nExisting Min, Max Values:\", df[column].apply([min, max]), sep='\\n', end='\\n')\n",
    "        mini, maxi = get_group_min_max(df, groupby, column)\n",
    "        print(f\"\\nGroupby by {groupby}'s Actual min, max Values:\", f'min:\\t{mini},\\nmax:\\t{ maxi}', sep='\\n', end='\\n')\n",
    "\n",
    "        a = df.groupby(groupby)[column].apply(list)\n",
    "        print(f'\\nBefore Assigning Example {column}:\\n', *a.head().values, sep='\\n', end='\\n')\n",
    "\n",
    "        # Assigning\n",
    "        make_group_NaN_and_fill_mode(df, groupby, column, inplace)\n",
    "\n",
    "        # After Assigning NaN values\n",
    "        if df[column].value_counts(dropna=False).index.isna().sum():\n",
    "            y = df[column].value_counts(dropna=False).loc[[np.NaN]]\n",
    "            print(f'\\nBefore Assigning: {column}:', f'have {y.values[0]} NaN Values', end='\\n')\n",
    "\n",
    "        b = df.groupby(groupby)[column].apply(list)\n",
    "        print(f'\\nAfter Assigning Example {column}:\\n', *b.head().values, sep='\\n', end='\\n')\n",
    "    else:\n",
    "        # Show\n",
    "        return make_group_NaN_and_fill_mode(df, groupby, column, inplace)"
   ],
   "metadata": {
    "collapsed": false,
    "ExecuteTime": {
     "end_time": "2024-02-18T13:52:31.962677Z",
     "start_time": "2024-02-18T13:52:31.946106Z"
    }
   },
   "id": "c3bcd5ed122b58a5",
   "execution_count": 373
  },
  {
   "cell_type": "code",
   "outputs": [
    {
     "data": {
      "text/plain": "-500.0"
     },
     "execution_count": 374,
     "metadata": {},
     "output_type": "execute_result"
    }
   ],
   "source": [
    "column = 'Age'\n",
    "groupby = 'Customer_ID'\n",
    "cur = df[df[column].notna()].groupby(groupby)[column].apply(list)\n",
    "x, y = cur.apply(lambda x: stats.mode(x)).apply([min, max])\n",
    "x[0]"
   ],
   "metadata": {
    "collapsed": false,
    "ExecuteTime": {
     "end_time": "2024-02-18T13:52:39.273201Z",
     "start_time": "2024-02-18T13:52:33.742071Z"
    }
   },
   "id": "1d3ee6ca2ecf1c62",
   "execution_count": 374
  },
  {
   "cell_type": "markdown",
   "source": [
    "Choosing the numeric variables that will be checked and transformed based on the above function. I will exclude SSN, ID and Customer_ID:"
   ],
   "metadata": {
    "collapsed": false
   },
   "id": "608197f75a6a6d7a"
  },
  {
   "cell_type": "code",
   "outputs": [
    {
     "name": "stdout",
     "output_type": "stream",
     "text": [
      "Selected numeric Features:\n",
      "\n",
      "['Age', 'Annual_Income', 'Monthly_Inhand_Salary', 'Num_Bank_Accounts', 'Num_Credit_Card', 'Interest_Rate', 'Num_of_Loan', 'Delay_from_due_date', 'Num_of_Delayed_Payment', 'Changed_Credit_Limit', 'Num_Credit_Inquiries', 'Outstanding_Debt', 'Credit_Utilization_Ratio', 'Credit_History_Age', 'Total_EMI_per_month', 'Amount_invested_monthly', 'Monthly_Balance']\n"
     ]
    }
   ],
   "source": [
    "cols_to_exclude = ['ID', 'Customer_ID', 'SSN']\n",
    "df_columns = df.select_dtypes(include=['int64', 'float64']).columns\n",
    "\n",
    "filtered_columns = [col for col in df_columns if col not in cols_to_exclude]\n",
    "\n",
    "print('Selected numeric Features:\\n')\n",
    "print(filtered_columns)"
   ],
   "metadata": {
    "collapsed": false,
    "ExecuteTime": {
     "end_time": "2024-02-18T13:53:08.343416Z",
     "start_time": "2024-02-18T13:53:08.323554Z"
    }
   },
   "id": "868adb9506fd65dd",
   "execution_count": 375
  },
  {
   "cell_type": "code",
   "outputs": [
    {
     "data": {
      "text/plain": "     Age  Annual_Income  Monthly_Inhand_Salary  Num_Bank_Accounts  \\\n0   23.0       19114.12            1824.843333                  3   \n6   23.0       19114.12            1824.843333                  3   \n8   28.0       34847.84            3037.986667                  2   \n9   28.0       34847.84            3037.986667                  2   \n10  28.0       34847.84            3037.986667                  2   \n\n    Num_Credit_Card  Interest_Rate  Num_of_Loan  Delay_from_due_date  \\\n0                 4              3            4                    3   \n6                 4              3            4                    3   \n8                 4              6            1                    3   \n9                 4              6            1                    7   \n10             1385              6            1                    3   \n\n    Num_of_Delayed_Payment  Changed_Credit_Limit  Num_Credit_Inquiries  \\\n0                      7.0                 11.27                   4.0   \n6                      8.0                 11.27                   4.0   \n8                      4.0                  5.42                   2.0   \n9                      1.0                  7.42                   2.0   \n10                    -1.0                  5.42                   2.0   \n\n    Outstanding_Debt  Credit_Utilization_Ratio  Credit_History_Age  \\\n0             809.98                 26.822620               265.0   \n6             809.98                 22.537593               271.0   \n8             605.03                 24.464031               319.0   \n9             605.03                 38.550848               320.0   \n10            605.03                 33.224951               321.0   \n\n    Total_EMI_per_month  Amount_invested_monthly  Monthly_Balance  \n0             49.574949                80.415295       312.494089  \n6             49.574949               178.344067       244.565317  \n8             18.816215               104.291825       470.690627  \n9             18.816215                40.391238       484.591214  \n10            18.816215                58.515976       466.466476  ",
      "text/html": "<div>\n<style scoped>\n    .dataframe tbody tr th:only-of-type {\n        vertical-align: middle;\n    }\n\n    .dataframe tbody tr th {\n        vertical-align: top;\n    }\n\n    .dataframe thead th {\n        text-align: right;\n    }\n</style>\n<table border=\"1\" class=\"dataframe\">\n  <thead>\n    <tr style=\"text-align: right;\">\n      <th></th>\n      <th>Age</th>\n      <th>Annual_Income</th>\n      <th>Monthly_Inhand_Salary</th>\n      <th>Num_Bank_Accounts</th>\n      <th>Num_Credit_Card</th>\n      <th>Interest_Rate</th>\n      <th>Num_of_Loan</th>\n      <th>Delay_from_due_date</th>\n      <th>Num_of_Delayed_Payment</th>\n      <th>Changed_Credit_Limit</th>\n      <th>Num_Credit_Inquiries</th>\n      <th>Outstanding_Debt</th>\n      <th>Credit_Utilization_Ratio</th>\n      <th>Credit_History_Age</th>\n      <th>Total_EMI_per_month</th>\n      <th>Amount_invested_monthly</th>\n      <th>Monthly_Balance</th>\n    </tr>\n  </thead>\n  <tbody>\n    <tr>\n      <th>0</th>\n      <td>23.0</td>\n      <td>19114.12</td>\n      <td>1824.843333</td>\n      <td>3</td>\n      <td>4</td>\n      <td>3</td>\n      <td>4</td>\n      <td>3</td>\n      <td>7.0</td>\n      <td>11.27</td>\n      <td>4.0</td>\n      <td>809.98</td>\n      <td>26.822620</td>\n      <td>265.0</td>\n      <td>49.574949</td>\n      <td>80.415295</td>\n      <td>312.494089</td>\n    </tr>\n    <tr>\n      <th>6</th>\n      <td>23.0</td>\n      <td>19114.12</td>\n      <td>1824.843333</td>\n      <td>3</td>\n      <td>4</td>\n      <td>3</td>\n      <td>4</td>\n      <td>3</td>\n      <td>8.0</td>\n      <td>11.27</td>\n      <td>4.0</td>\n      <td>809.98</td>\n      <td>22.537593</td>\n      <td>271.0</td>\n      <td>49.574949</td>\n      <td>178.344067</td>\n      <td>244.565317</td>\n    </tr>\n    <tr>\n      <th>8</th>\n      <td>28.0</td>\n      <td>34847.84</td>\n      <td>3037.986667</td>\n      <td>2</td>\n      <td>4</td>\n      <td>6</td>\n      <td>1</td>\n      <td>3</td>\n      <td>4.0</td>\n      <td>5.42</td>\n      <td>2.0</td>\n      <td>605.03</td>\n      <td>24.464031</td>\n      <td>319.0</td>\n      <td>18.816215</td>\n      <td>104.291825</td>\n      <td>470.690627</td>\n    </tr>\n    <tr>\n      <th>9</th>\n      <td>28.0</td>\n      <td>34847.84</td>\n      <td>3037.986667</td>\n      <td>2</td>\n      <td>4</td>\n      <td>6</td>\n      <td>1</td>\n      <td>7</td>\n      <td>1.0</td>\n      <td>7.42</td>\n      <td>2.0</td>\n      <td>605.03</td>\n      <td>38.550848</td>\n      <td>320.0</td>\n      <td>18.816215</td>\n      <td>40.391238</td>\n      <td>484.591214</td>\n    </tr>\n    <tr>\n      <th>10</th>\n      <td>28.0</td>\n      <td>34847.84</td>\n      <td>3037.986667</td>\n      <td>2</td>\n      <td>1385</td>\n      <td>6</td>\n      <td>1</td>\n      <td>3</td>\n      <td>-1.0</td>\n      <td>5.42</td>\n      <td>2.0</td>\n      <td>605.03</td>\n      <td>33.224951</td>\n      <td>321.0</td>\n      <td>18.816215</td>\n      <td>58.515976</td>\n      <td>466.466476</td>\n    </tr>\n  </tbody>\n</table>\n</div>"
     },
     "execution_count": 376,
     "metadata": {},
     "output_type": "execute_result"
    }
   ],
   "source": [
    "#checking the first 5 values per column:\n",
    "df[filtered_columns].head()"
   ],
   "metadata": {
    "collapsed": false,
    "ExecuteTime": {
     "end_time": "2024-02-18T13:53:09.722588Z",
     "start_time": "2024-02-18T13:53:09.698396Z"
    }
   },
   "id": "d2414820eab4240a",
   "execution_count": 376
  },
  {
   "cell_type": "markdown",
   "source": [
    "Checking columns for Outliers:"
   ],
   "metadata": {
    "collapsed": false
   },
   "id": "1b0cfa00b56affbb"
  },
  {
   "cell_type": "code",
   "outputs": [
    {
     "name": "stdout",
     "output_type": "stream",
     "text": [
      "Outlier.shape: (985, 28)\n"
     ]
    },
    {
     "data": {
      "text/plain": "(7.0, 58.0)"
     },
     "execution_count": 377,
     "metadata": {},
     "output_type": "execute_result"
    }
   ],
   "source": [
    "get_iqr_lower_upper(df, 'Age', multiply=1.0)"
   ],
   "metadata": {
    "collapsed": false,
    "ExecuteTime": {
     "end_time": "2024-02-18T13:53:11.528412Z",
     "start_time": "2024-02-18T13:53:11.514399Z"
    }
   },
   "id": "9b6c7d66f9c1252e",
   "execution_count": 377
  },
  {
   "cell_type": "code",
   "outputs": [
    {
     "name": "stdout",
     "output_type": "stream",
     "text": [
      "\n",
      "Existing Min, Max Values:\n",
      "min    -500.0\n",
      "max    4390.0\n",
      "Name: Age, dtype: float64\n",
      "\n",
      "Groupby by Customer_ID's Actual min, max Values:\n",
      "min:\t-500.0,\n",
      "max:\t4390.0\n",
      "\n",
      "Before Assigning Example Age:\n",
      "\n",
      "[38.0, 38.0, 38.0, 38.0, 38.0]\n",
      "[48.0, 48.0]\n",
      "[22.0, 22.0, 22.0, 22.0, 22.0, 22.0, 23.0]\n",
      "[43.0, 44.0, 44.0]\n",
      "[30.0, 30.0, 30.0, 30.0, 30.0, 30.0, 30.0]\n",
      "\n",
      "After Assigning Example Age:\n",
      "\n",
      "[38.0, 38.0, 38.0, 38.0, 38.0]\n",
      "[48.0, 48.0]\n",
      "[22.0, 22.0, 22.0, 22.0, 22.0, 22.0, 23.0]\n",
      "[43.0, 44.0, 44.0]\n",
      "[30.0, 30.0, 30.0, 30.0, 30.0, 30.0, 30.0]\n"
     ]
    }
   ],
   "source": [
    "Numeric_Wrong_Values_Reassign_Group_Min_Max(df, 'Customer_ID', 'Age')"
   ],
   "metadata": {
    "collapsed": false,
    "ExecuteTime": {
     "end_time": "2024-02-18T13:53:29.501143Z",
     "start_time": "2024-02-18T13:53:13.455377Z"
    }
   },
   "id": "11a13f53f44f7dcd",
   "execution_count": 378
  },
  {
   "cell_type": "code",
   "outputs": [
    {
     "data": {
      "text/plain": "-500.0"
     },
     "execution_count": 370,
     "metadata": {},
     "output_type": "execute_result"
    }
   ],
   "source": [
    "df['Age'].min()"
   ],
   "metadata": {
    "collapsed": false,
    "ExecuteTime": {
     "end_time": "2024-02-18T13:51:51.605741Z",
     "start_time": "2024-02-18T13:51:51.599586Z"
    }
   },
   "id": "fac5fb72d898dda0",
   "execution_count": 370
  },
  {
   "cell_type": "code",
   "outputs": [],
   "source": [],
   "metadata": {
    "collapsed": false,
    "ExecuteTime": {
     "end_time": "2024-02-18T13:47:08.503395Z",
     "start_time": "2024-02-18T13:47:08.500689Z"
    }
   },
   "id": "b71f2d706570c0c6",
   "execution_count": 361
  }
 ],
 "metadata": {
  "kernelspec": {
   "display_name": "Python 3",
   "language": "python",
   "name": "python3"
  },
  "language_info": {
   "codemirror_mode": {
    "name": "ipython",
    "version": 2
   },
   "file_extension": ".py",
   "mimetype": "text/x-python",
   "name": "python",
   "nbconvert_exporter": "python",
   "pygments_lexer": "ipython2",
   "version": "2.7.6"
  }
 },
 "nbformat": 4,
 "nbformat_minor": 5
}
