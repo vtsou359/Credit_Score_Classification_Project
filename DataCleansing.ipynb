{
 "cells": [
  {
   "cell_type": "markdown",
   "source": [
    "# Initial Data Understanding and Cleansing\n",
    "## Notebook 1\n",
    "###"
   ],
   "metadata": {
    "collapsed": false
   },
   "id": "4e659995e66ad680"
  },
  {
   "cell_type": "markdown",
   "source": [
    "### Importing needed packages:"
   ],
   "metadata": {
    "collapsed": false
   },
   "id": "73533d5396aad2b4"
  },
  {
   "cell_type": "code",
   "execution_count": 746,
   "id": "initial_id",
   "metadata": {
    "collapsed": true,
    "ExecuteTime": {
     "end_time": "2024-02-18T20:18:08.661776Z",
     "start_time": "2024-02-18T20:18:08.658600Z"
    }
   },
   "outputs": [],
   "source": [
    "# for data manipulation and analysis\n",
    "\n",
    "import numpy as np\n",
    "import pandas as pd\n",
    "\n",
    "# visualisation tools\n",
    "import matplotlib as mpl\n",
    "import matplotlib.pyplot as plt\n",
    "import seaborn as sns\n",
    "import plotly.graph_objects as go\n",
    "import plotly.express as px\n",
    "\n",
    "import scipy.stats as stats\n",
    "\n",
    "# ML libraries\n",
    "# not needed for now"
   ]
  },
  {
   "cell_type": "markdown",
   "source": [
    "### Importing the data:"
   ],
   "metadata": {
    "collapsed": false
   },
   "id": "a9b43767b5e2bcc9"
  },
  {
   "cell_type": "code",
   "execution_count": 747,
   "outputs": [
    {
     "name": "stdout",
     "output_type": "stream",
     "text": [
      "<class 'pandas.core.frame.DataFrame'>\n",
      "RangeIndex: 100000 entries, 0 to 99999\n",
      "Data columns (total 28 columns):\n",
      " #   Column                    Non-Null Count   Dtype  \n",
      "---  ------                    --------------   -----  \n",
      " 0   ID                        100000 non-null  object \n",
      " 1   Customer_ID               100000 non-null  object \n",
      " 2   Month                     100000 non-null  object \n",
      " 3   Name                      90015 non-null   object \n",
      " 4   Age                       100000 non-null  object \n",
      " 5   SSN                       100000 non-null  object \n",
      " 6   Occupation                100000 non-null  object \n",
      " 7   Annual_Income             100000 non-null  object \n",
      " 8   Monthly_Inhand_Salary     84998 non-null   float64\n",
      " 9   Num_Bank_Accounts         100000 non-null  int64  \n",
      " 10  Num_Credit_Card           100000 non-null  int64  \n",
      " 11  Interest_Rate             100000 non-null  int64  \n",
      " 12  Num_of_Loan               100000 non-null  object \n",
      " 13  Type_of_Loan              88592 non-null   object \n",
      " 14  Delay_from_due_date       100000 non-null  int64  \n",
      " 15  Num_of_Delayed_Payment    92998 non-null   object \n",
      " 16  Changed_Credit_Limit      100000 non-null  object \n",
      " 17  Num_Credit_Inquiries      98035 non-null   float64\n",
      " 18  Credit_Mix                100000 non-null  object \n",
      " 19  Outstanding_Debt          100000 non-null  object \n",
      " 20  Credit_Utilization_Ratio  100000 non-null  float64\n",
      " 21  Credit_History_Age        90970 non-null   object \n",
      " 22  Payment_of_Min_Amount     100000 non-null  object \n",
      " 23  Total_EMI_per_month       100000 non-null  float64\n",
      " 24  Amount_invested_monthly   95521 non-null   object \n",
      " 25  Payment_Behaviour         100000 non-null  object \n",
      " 26  Monthly_Balance           98800 non-null   object \n",
      " 27  Credit_Score              100000 non-null  object \n",
      "dtypes: float64(4), int64(4), object(20)\n",
      "memory usage: 21.4+ MB\n"
     ]
    }
   ],
   "source": [
    "data = pd.read_csv('data_uncleaned/train.csv', low_memory=False)\n",
    "data.info()"
   ],
   "metadata": {
    "collapsed": false,
    "ExecuteTime": {
     "end_time": "2024-02-18T20:18:10.503071Z",
     "start_time": "2024-02-18T20:18:09.777436Z"
    }
   },
   "id": "f679b04b78d6a4c2"
  },
  {
   "cell_type": "markdown",
   "source": [
    "#### Checking the shape of the dataset and missing values"
   ],
   "metadata": {
    "collapsed": false
   },
   "id": "3a5b3127de52ee1c"
  },
  {
   "cell_type": "markdown",
   "source": [
    "##### Total missing values per feature:"
   ],
   "metadata": {
    "collapsed": false
   },
   "id": "a59639927099453e"
  },
  {
   "cell_type": "code",
   "outputs": [
    {
     "data": {
      "text/plain": "ID                              0\nCustomer_ID                     0\nMonth                           0\nName                         9985\nAge                             0\nSSN                             0\nOccupation                      0\nAnnual_Income                   0\nMonthly_Inhand_Salary       15002\nNum_Bank_Accounts               0\nNum_Credit_Card                 0\nInterest_Rate                   0\nNum_of_Loan                     0\nType_of_Loan                11408\nDelay_from_due_date             0\nNum_of_Delayed_Payment       7002\nChanged_Credit_Limit            0\nNum_Credit_Inquiries         1965\nCredit_Mix                      0\nOutstanding_Debt                0\nCredit_Utilization_Ratio        0\nCredit_History_Age           9030\nPayment_of_Min_Amount           0\nTotal_EMI_per_month             0\nAmount_invested_monthly      4479\nPayment_Behaviour               0\nMonthly_Balance              1200\nCredit_Score                    0\ndtype: int64"
     },
     "execution_count": 748,
     "metadata": {},
     "output_type": "execute_result"
    }
   ],
   "source": [
    "data.isna().sum()"
   ],
   "metadata": {
    "collapsed": false,
    "ExecuteTime": {
     "end_time": "2024-02-18T20:18:10.562780Z",
     "start_time": "2024-02-18T20:18:10.505039Z"
    }
   },
   "id": "89c94b251c70f4a8",
   "execution_count": 748
  },
  {
   "cell_type": "markdown",
   "source": [
    "##### Dimensions of data:"
   ],
   "metadata": {
    "collapsed": false
   },
   "id": "339e8102669c0d3f"
  },
  {
   "cell_type": "code",
   "outputs": [
    {
     "data": {
      "text/plain": "(100000, 28)"
     },
     "execution_count": 749,
     "metadata": {},
     "output_type": "execute_result"
    }
   ],
   "source": [
    "data.shape"
   ],
   "metadata": {
    "collapsed": false,
    "ExecuteTime": {
     "end_time": "2024-02-18T20:18:10.568500Z",
     "start_time": "2024-02-18T20:18:10.564344Z"
    }
   },
   "id": "dc421fdacb3a96d0",
   "execution_count": 749
  },
  {
   "cell_type": "markdown",
   "source": [
    "The DataFrame comprises of 100,000 rows and 28 columns, each representing a certain feature of the dataset. Below a brief explanation of each column is demontrated:\n",
    "\n",
    "- Index: A default column provided by pandas, serving as a unique identifier for each row.\n",
    "- ID: Object type column which presumably contains unique identifiers for something, possibly transactions.\n",
    "- Customer_ID: Object type column generally holding unique identifiers for customers.\n",
    "- Month: A string that symbolically represents the creation date of the record.\n",
    "- Name: The names of individuals which seems to have 9985 missing values.\n",
    "- Age: Likely representing the ages of individuals.\n",
    "- SSN: Contains the Social Security Number, a unique number identifying each individual.\n",
    "- Occupation: Likely holds informations regarding the occupations of the customers.\n",
    "- Annual_Income: A string representation of an individual's annual income.\n",
    "- Monthly_Inhand_Salary: A numerical representation of the monthly salary with a mean of around 4194.2, potentially representing real-world currency. It has 15,002 missing values.\n",
    "- Num_Bank_Accounts: A numerical representation of the number of bank accounts. On average, people in this dataset have around 17 bank accounts which seems very high.\n",
    "- Num_Credit_Card: Average number of credit cards held is about 22.5.\n",
    "- Interest_Rate: Interest rates are on average about 72.5%.\n",
    "- Num_of_Loan: The number of loans held by customers.\n",
    "- Type_of_Loan: The type of loans held by customers. This column has 11,408 missing values.\n",
    "- Delay_from_due_date: The number of days of delay from the due date; averages around 21.1 days.\n",
    "- Num_of_Delayed_Payment: Number of payments that were delayed. This column has 7002 missing values.\n",
    "- Changed_Credit_Limit: This presumably holds whether the credit limit for customers was changed.\n",
    "- Num_Credit_Inquiries: The number of credit inquiries, with an average of around 27.8 inquiries. This column has 1965 missing entries.\n",
    "- Credit_Mix: Likely the type of credit in use.\n",
    "- Outstanding_Debt: Contains the outstanding debts for customers.\n",
    "- Credit_Utilization_Ratio: The ratio of the amount of credit used out of the available credit, with customers using an average around 32.3% of their available credit.\n",
    "- Credit_History_Age: Perhaps the age of the longest held credit account. This column has 9030 missing entries.\n",
    "- Payment_of_Min_Amount: Whether the customers paid their minimum due on time or not.\n",
    "- Total_EMI_per_month: The total EMI amount per month, averaged to about 1403.1.\n",
    "- Amount_invested_monthly: The amount invested every month by customers. This column has 4479 missing entries.\n",
    "- Payment_Behaviour: The payment behaviour of the customer.\n",
    "- Monthly_Balance: The monthly balance of the customers. This column has 1200 missing entries.\n",
    "- Credit_Score: The credit score of the customers."
   ],
   "metadata": {
    "collapsed": false
   },
   "id": "447fc17b9a56c345"
  },
  {
   "cell_type": "markdown",
   "source": [
    "Plotting missing values:"
   ],
   "metadata": {
    "collapsed": false
   },
   "id": "9ee748f032b555b2"
  },
  {
   "cell_type": "code",
   "execution_count": 750,
   "outputs": [
    {
     "data": {
      "text/plain": "<Figure size 1000x1000 with 1 Axes>",
      "image/png": "[encoded data removed]"
     },
     "metadata": {},
     "output_type": "display_data"
    }
   ],
   "source": [
    "# percentage of missing values plot\n",
    "plt.figure(figsize=(10,10))\n",
    "plt.title('Percentage of missing values per feature', fontsize=15)\n",
    "sns.barplot(data.isnull().mean() * 100)\n",
    "plt.xticks(rotation=90);"
   ],
   "metadata": {
    "collapsed": false,
    "ExecuteTime": {
     "end_time": "2024-02-18T20:18:11.182345Z",
     "start_time": "2024-02-18T20:18:10.571447Z"
    }
   },
   "id": "8ad31e59ae8d6ee9"
  },
  {
   "cell_type": "markdown",
   "source": [
    "The highest percentage of missing value is 14%. I should investigate if dropping all the rows with missing values is valuable for my analysis:"
   ],
   "metadata": {
    "collapsed": false
   },
   "id": "9a04d64877c4295d"
  },
  {
   "cell_type": "code",
   "execution_count": 751,
   "outputs": [
    {
     "data": {
      "text/plain": "(53049, 28)"
     },
     "execution_count": 751,
     "metadata": {},
     "output_type": "execute_result"
    }
   ],
   "source": [
    "data_reduced = data.dropna(inplace=False)\n",
    "data_reduced.shape"
   ],
   "metadata": {
    "collapsed": false,
    "ExecuteTime": {
     "end_time": "2024-02-18T20:18:11.266494Z",
     "start_time": "2024-02-18T20:18:11.183976Z"
    }
   },
   "id": "8718bca35d65e5d6"
  },
  {
   "cell_type": "markdown",
   "source": [
    "I reduced the size of the data significantly (From 100000 observations to around 53000). Is this decrease of observations changes the statistical metrics of the data?"
   ],
   "metadata": {
    "collapsed": false
   },
   "id": "4f7d7170f041b2a5"
  },
  {
   "cell_type": "code",
   "execution_count": 752,
   "outputs": [
    {
     "data": {
      "text/plain": "                             count         mean          std         min  \\\nMonthly_Inhand_Salary      84998.0  4194.170850  3183.686167  303.645417   \nNum_Bank_Accounts         100000.0    17.091280   117.404834   -1.000000   \nNum_Credit_Card           100000.0    22.474430   129.057410    0.000000   \nInterest_Rate             100000.0    72.466040   466.422621    1.000000   \nDelay_from_due_date       100000.0    21.068780    14.860104   -5.000000   \nNum_Credit_Inquiries       98035.0    27.754251   193.177339    0.000000   \nCredit_Utilization_Ratio  100000.0    32.285173     5.116875   20.000000   \nTotal_EMI_per_month       100000.0  1403.118217  8306.041270    0.000000   \n\n                                  25%          50%          75%           max  \nMonthly_Inhand_Salary     1625.568229  3093.745000  5957.448333  15204.633333  \nNum_Bank_Accounts            3.000000     6.000000     7.000000   1798.000000  \nNum_Credit_Card              4.000000     5.000000     7.000000   1499.000000  \nInterest_Rate                8.000000    13.000000    20.000000   5797.000000  \nDelay_from_due_date         10.000000    18.000000    28.000000     67.000000  \nNum_Credit_Inquiries         3.000000     6.000000     9.000000   2597.000000  \nCredit_Utilization_Ratio    28.052567    32.305784    36.496663     50.000000  \nTotal_EMI_per_month         30.306660    69.249473   161.224249  82331.000000  ",
      "text/html": "<div>\n<style scoped>\n    .dataframe tbody tr th:only-of-type {\n        vertical-align: middle;\n    }\n\n    .dataframe tbody tr th {\n        vertical-align: top;\n    }\n\n    .dataframe thead th {\n        text-align: right;\n    }\n</style>\n<table border=\"1\" class=\"dataframe\">\n  <thead>\n    <tr style=\"text-align: right;\">\n      <th></th>\n      <th>count</th>\n      <th>mean</th>\n      <th>std</th>\n      <th>min</th>\n      <th>25%</th>\n      <th>50%</th>\n      <th>75%</th>\n      <th>max</th>\n    </tr>\n  </thead>\n  <tbody>\n    <tr>\n      <th>Monthly_Inhand_Salary</th>\n      <td>84998.0</td>\n      <td>4194.170850</td>\n      <td>3183.686167</td>\n      <td>303.645417</td>\n      <td>1625.568229</td>\n      <td>3093.745000</td>\n      <td>5957.448333</td>\n      <td>15204.633333</td>\n    </tr>\n    <tr>\n      <th>Num_Bank_Accounts</th>\n      <td>100000.0</td>\n      <td>17.091280</td>\n      <td>117.404834</td>\n      <td>-1.000000</td>\n      <td>3.000000</td>\n      <td>6.000000</td>\n      <td>7.000000</td>\n      <td>1798.000000</td>\n    </tr>\n    <tr>\n      <th>Num_Credit_Card</th>\n      <td>100000.0</td>\n      <td>22.474430</td>\n      <td>129.057410</td>\n      <td>0.000000</td>\n      <td>4.000000</td>\n      <td>5.000000</td>\n      <td>7.000000</td>\n      <td>1499.000000</td>\n    </tr>\n    <tr>\n      <th>Interest_Rate</th>\n      <td>100000.0</td>\n      <td>72.466040</td>\n      <td>466.422621</td>\n      <td>1.000000</td>\n      <td>8.000000</td>\n      <td>13.000000</td>\n      <td>20.000000</td>\n      <td>5797.000000</td>\n    </tr>\n    <tr>\n      <th>Delay_from_due_date</th>\n      <td>100000.0</td>\n      <td>21.068780</td>\n      <td>14.860104</td>\n      <td>-5.000000</td>\n      <td>10.000000</td>\n      <td>18.000000</td>\n      <td>28.000000</td>\n      <td>67.000000</td>\n    </tr>\n    <tr>\n      <th>Num_Credit_Inquiries</th>\n      <td>98035.0</td>\n      <td>27.754251</td>\n      <td>193.177339</td>\n      <td>0.000000</td>\n      <td>3.000000</td>\n      <td>6.000000</td>\n      <td>9.000000</td>\n      <td>2597.000000</td>\n    </tr>\n    <tr>\n      <th>Credit_Utilization_Ratio</th>\n      <td>100000.0</td>\n      <td>32.285173</td>\n      <td>5.116875</td>\n      <td>20.000000</td>\n      <td>28.052567</td>\n      <td>32.305784</td>\n      <td>36.496663</td>\n      <td>50.000000</td>\n    </tr>\n    <tr>\n      <th>Total_EMI_per_month</th>\n      <td>100000.0</td>\n      <td>1403.118217</td>\n      <td>8306.041270</td>\n      <td>0.000000</td>\n      <td>30.306660</td>\n      <td>69.249473</td>\n      <td>161.224249</td>\n      <td>82331.000000</td>\n    </tr>\n  </tbody>\n</table>\n</div>"
     },
     "execution_count": 752,
     "metadata": {},
     "output_type": "execute_result"
    }
   ],
   "source": [
    "# generating descriptive statistics of data dataframe and then transposing the result.\n",
    "data.describe().T"
   ],
   "metadata": {
    "collapsed": false,
    "ExecuteTime": {
     "end_time": "2024-02-18T20:18:11.312800Z",
     "start_time": "2024-02-18T20:18:11.268545Z"
    }
   },
   "id": "98d52a3d61134ba9"
  },
  {
   "cell_type": "code",
   "execution_count": 753,
   "outputs": [
    {
     "data": {
      "text/plain": "                            count         mean          std         min  \\\nMonthly_Inhand_Salary     53049.0  4024.502617  3094.967739  303.645417   \nNum_Bank_Accounts         53049.0    16.842806   115.605025   -1.000000   \nNum_Credit_Card           53049.0    22.787253   129.339640    0.000000   \nInterest_Rate             53049.0    76.272352   479.226709    1.000000   \nDelay_from_due_date       53049.0    21.994119    15.220406   -5.000000   \nNum_Credit_Inquiries      53049.0    27.062866   187.185825    0.000000   \nCredit_Utilization_Ratio  53049.0    32.219031     5.057398   20.881250   \nTotal_EMI_per_month       53049.0  1445.924761  8407.429893    4.462837   \n\n                                  25%          50%          75%           max  \nMonthly_Inhand_Salary     1575.345833  2991.016667  5712.553333  15204.633333  \nNum_Bank_Accounts            4.000000     6.000000     8.000000   1798.000000  \nNum_Credit_Card              4.000000     6.000000     7.000000   1499.000000  \nInterest_Rate                8.000000    15.000000    22.000000   5797.000000  \nDelay_from_due_date         10.000000    19.000000    29.000000     67.000000  \nNum_Credit_Inquiries         3.000000     6.000000     9.000000   2594.000000  \nCredit_Utilization_Ratio    28.046338    32.251786    36.408991     49.564519  \nTotal_EMI_per_month         41.244418    78.418272   169.286269  82331.000000  ",
      "text/html": "<div>\n<style scoped>\n    .dataframe tbody tr th:only-of-type {\n        vertical-align: middle;\n    }\n\n    .dataframe tbody tr th {\n        vertical-align: top;\n    }\n\n    .dataframe thead th {\n        text-align: right;\n    }\n</style>\n<table border=\"1\" class=\"dataframe\">\n  <thead>\n    <tr style=\"text-align: right;\">\n      <th></th>\n      <th>count</th>\n      <th>mean</th>\n      <th>std</th>\n      <th>min</th>\n      <th>25%</th>\n      <th>50%</th>\n      <th>75%</th>\n      <th>max</th>\n    </tr>\n  </thead>\n  <tbody>\n    <tr>\n      <th>Monthly_Inhand_Salary</th>\n      <td>53049.0</td>\n      <td>4024.502617</td>\n      <td>3094.967739</td>\n      <td>303.645417</td>\n      <td>1575.345833</td>\n      <td>2991.016667</td>\n      <td>5712.553333</td>\n      <td>15204.633333</td>\n    </tr>\n    <tr>\n      <th>Num_Bank_Accounts</th>\n      <td>53049.0</td>\n      <td>16.842806</td>\n      <td>115.605025</td>\n      <td>-1.000000</td>\n      <td>4.000000</td>\n      <td>6.000000</td>\n      <td>8.000000</td>\n      <td>1798.000000</td>\n    </tr>\n    <tr>\n      <th>Num_Credit_Card</th>\n      <td>53049.0</td>\n      <td>22.787253</td>\n      <td>129.339640</td>\n      <td>0.000000</td>\n      <td>4.000000</td>\n      <td>6.000000</td>\n      <td>7.000000</td>\n      <td>1499.000000</td>\n    </tr>\n    <tr>\n      <th>Interest_Rate</th>\n      <td>53049.0</td>\n      <td>76.272352</td>\n      <td>479.226709</td>\n      <td>1.000000</td>\n      <td>8.000000</td>\n      <td>15.000000</td>\n      <td>22.000000</td>\n      <td>5797.000000</td>\n    </tr>\n    <tr>\n      <th>Delay_from_due_date</th>\n      <td>53049.0</td>\n      <td>21.994119</td>\n      <td>15.220406</td>\n      <td>-5.000000</td>\n      <td>10.000000</td>\n      <td>19.000000</td>\n      <td>29.000000</td>\n      <td>67.000000</td>\n    </tr>\n    <tr>\n      <th>Num_Credit_Inquiries</th>\n      <td>53049.0</td>\n      <td>27.062866</td>\n      <td>187.185825</td>\n      <td>0.000000</td>\n      <td>3.000000</td>\n      <td>6.000000</td>\n      <td>9.000000</td>\n      <td>2594.000000</td>\n    </tr>\n    <tr>\n      <th>Credit_Utilization_Ratio</th>\n      <td>53049.0</td>\n      <td>32.219031</td>\n      <td>5.057398</td>\n      <td>20.881250</td>\n      <td>28.046338</td>\n      <td>32.251786</td>\n      <td>36.408991</td>\n      <td>49.564519</td>\n    </tr>\n    <tr>\n      <th>Total_EMI_per_month</th>\n      <td>53049.0</td>\n      <td>1445.924761</td>\n      <td>8407.429893</td>\n      <td>4.462837</td>\n      <td>41.244418</td>\n      <td>78.418272</td>\n      <td>169.286269</td>\n      <td>82331.000000</td>\n    </tr>\n  </tbody>\n</table>\n</div>"
     },
     "execution_count": 753,
     "metadata": {},
     "output_type": "execute_result"
    }
   ],
   "source": [
    "data_reduced.describe().T"
   ],
   "metadata": {
    "collapsed": false,
    "ExecuteTime": {
     "end_time": "2024-02-18T20:18:11.349017Z",
     "start_time": "2024-02-18T20:18:11.314815Z"
    }
   },
   "id": "fd6e3b683750aa9b"
  },
  {
   "cell_type": "markdown",
   "source": [
    "**The characteristics of numeric features did not change significantly.**"
   ],
   "metadata": {
    "collapsed": false
   },
   "id": "7a68c53e2da05dc3"
  },
  {
   "cell_type": "markdown",
   "source": [
    "**What are the classes of my target variable?**"
   ],
   "metadata": {
    "collapsed": false
   },
   "id": "c1c85b9865b6f84b"
  },
  {
   "cell_type": "code",
   "execution_count": 754,
   "outputs": [
    {
     "data": {
      "text/plain": "array(['Good', 'Standard', 'Poor'], dtype=object)"
     },
     "execution_count": 754,
     "metadata": {},
     "output_type": "execute_result"
    }
   ],
   "source": [
    "data['Credit_Score'].unique()"
   ],
   "metadata": {
    "collapsed": false,
    "ExecuteTime": {
     "end_time": "2024-02-18T20:18:11.361759Z",
     "start_time": "2024-02-18T20:18:11.351035Z"
    }
   },
   "id": "1e7c1a085e8f25f5"
  },
  {
   "cell_type": "markdown",
   "source": [
    "Analysing the proportion of values of target variable:"
   ],
   "metadata": {
    "collapsed": false
   },
   "id": "a1d2aa5708d909cc"
  },
  {
   "cell_type": "code",
   "execution_count": 755,
   "outputs": [
    {
     "data": {
      "text/plain": "<Figure size 1100x600 with 2 Axes>",
      "image/png": "[encoded data removed]"
     },
     "metadata": {},
     "output_type": "display_data"
    },
    {
     "name": "stdout",
     "output_type": "stream",
     "text": [
      "Percentage of credit score categories:\n",
      "  Credit_Score  proportion\n",
      "0     Standard      53.174\n",
      "1         Poor      28.998\n",
      "2         Good      17.828\n",
      "\n",
      "\n",
      "\n",
      "Percentage of credit score categories after dropping all the rows with missing values:\n",
      "  Credit_Score  proportion\n",
      "0     Standard   52.689023\n",
      "1         Poor   31.133480\n",
      "2         Good   16.177496\n"
     ]
    }
   ],
   "source": [
    "fig, axs = plt.subplots(1,2, figsize=(11,6))\n",
    "\n",
    "# Plot for 'data' DataFrame\n",
    "(data['Credit_Score'].value_counts(normalize = True)*100).plot(kind='bar', ax=axs[0])\n",
    "axs[0].set_title('Percentage of credit score categories')\n",
    "axs[0].set_ylabel('Percentage')\n",
    "axs[0].set_xlabel('Credit Score Category')\n",
    "\n",
    "# Plot for 'data_reduced' DataFrame\n",
    "(data_reduced['Credit_Score'].value_counts(normalize = True)*100).plot(kind='bar', ax=axs[1])\n",
    "axs[1].set_title('Percentage of credit score categories \\n after dropping all the rows with missing values')\n",
    "axs[1].set_ylabel('Percentage')\n",
    "axs[1].set_xlabel('Credit Score Category')\n",
    "\n",
    "#plt.tight_layout()\n",
    "plt.show()\n",
    "\n",
    "#printing the precentages:\n",
    "print('Percentage of credit score categories:')\n",
    "print((data['Credit_Score'].value_counts(normalize = True)*100).reset_index())\n",
    "print('\\n\\n')\n",
    "print('Percentage of credit score categories after dropping all the rows with missing values:')\n",
    "print((data_reduced['Credit_Score'].value_counts(normalize = True)*100).reset_index())"
   ],
   "metadata": {
    "collapsed": false,
    "ExecuteTime": {
     "end_time": "2024-02-18T20:18:11.751981Z",
     "start_time": "2024-02-18T20:18:11.364075Z"
    }
   },
   "id": "5098492b19e0be12"
  },
  {
   "cell_type": "markdown",
   "source": [
    "Detecting strange values apart from the NaN Values ( using data_reduced dataframe )"
   ],
   "metadata": {
    "collapsed": false
   },
   "id": "fc3fff64dc186e8"
  },
  {
   "cell_type": "code",
   "execution_count": 756,
   "outputs": [
    {
     "name": "stdout",
     "output_type": "stream",
     "text": [
      "Column Name: ID\n",
      "****************************************\n",
      "ID\n",
      "0x1602     1\n",
      "0x19c88    1\n",
      "0x19caa    1\n",
      "0x19ca5    1\n",
      "0x19ca4    1\n",
      "          ..\n",
      "0xd94d     1\n",
      "0xd94c     1\n",
      "0xd94b     1\n",
      "0xd94a     1\n",
      "0x25fed    1\n",
      "Name: count, Length: 100000, dtype: int64\n",
      "END ------------------------------------ \n",
      "\n",
      "Column Name: Customer_ID\n",
      "****************************************\n",
      "Customer_ID\n",
      "CUS_0xd40     8\n",
      "CUS_0x9bf4    8\n",
      "CUS_0x5ae3    8\n",
      "CUS_0xbe9a    8\n",
      "CUS_0x4874    8\n",
      "             ..\n",
      "CUS_0x2eb4    8\n",
      "CUS_0x7863    8\n",
      "CUS_0x9d89    8\n",
      "CUS_0xc045    8\n",
      "CUS_0x942c    8\n",
      "Name: count, Length: 12500, dtype: int64\n",
      "END ------------------------------------ \n",
      "\n",
      "Column Name: Month\n",
      "****************************************\n",
      "Month\n",
      "January     12500\n",
      "February    12500\n",
      "March       12500\n",
      "April       12500\n",
      "May         12500\n",
      "June        12500\n",
      "July        12500\n",
      "August      12500\n",
      "Name: count, dtype: int64\n",
      "END ------------------------------------ \n",
      "\n",
      "Column Name: Name\n",
      "****************************************\n",
      "Name\n",
      "NaN               9985\n",
      "Stevex              44\n",
      "Langep              44\n",
      "Jessicad            39\n",
      "Vaughanl            39\n",
      "                  ... \n",
      "Robin Pomeroyz       4\n",
      "Matt Scuffhamk       4\n",
      "Julieno              4\n",
      "Bavierq              4\n",
      "Timothyl             3\n",
      "Name: count, Length: 10140, dtype: int64\n",
      "END ------------------------------------ \n",
      "\n",
      "Column Name: Age\n",
      "****************************************\n",
      "Age\n",
      "38      2833\n",
      "28      2829\n",
      "31      2806\n",
      "26      2792\n",
      "32      2749\n",
      "        ... \n",
      "471        1\n",
      "1520       1\n",
      "8663       1\n",
      "3363       1\n",
      "1342       1\n",
      "Name: count, Length: 1788, dtype: int64\n",
      "END ------------------------------------ \n",
      "\n",
      "Column Name: SSN\n",
      "****************************************\n",
      "SSN\n",
      "#F%$D@*&8      5572\n",
      "078-73-5990       8\n",
      "486-78-3816       8\n",
      "750-67-7525       8\n",
      "903-50-0305       8\n",
      "               ... \n",
      "856-06-6147       4\n",
      "753-72-2651       4\n",
      "331-28-1921       4\n",
      "604-62-6133       4\n",
      "286-44-9634       4\n",
      "Name: count, Length: 12501, dtype: int64\n",
      "END ------------------------------------ \n",
      "\n",
      "Column Name: Occupation\n",
      "****************************************\n",
      "Occupation\n",
      "_______          7062\n",
      "Lawyer           6575\n",
      "Architect        6355\n",
      "Engineer         6350\n",
      "Scientist        6299\n",
      "Mechanic         6291\n",
      "Accountant       6271\n",
      "Developer        6235\n",
      "Media_Manager    6232\n",
      "Teacher          6215\n",
      "Entrepreneur     6174\n",
      "Doctor           6087\n",
      "Journalist       6085\n",
      "Manager          5973\n",
      "Musician         5911\n",
      "Writer           5885\n",
      "Name: count, dtype: int64\n",
      "END ------------------------------------ \n",
      "\n",
      "Column Name: Annual_Income\n",
      "****************************************\n",
      "Annual_Income\n",
      "36585.12     16\n",
      "20867.67     16\n",
      "17273.83     16\n",
      "9141.63      15\n",
      "33029.66     15\n",
      "             ..\n",
      "20269.93_     1\n",
      "15157.25_     1\n",
      "44955.64_     1\n",
      "76650.12_     1\n",
      "4262933.0     1\n",
      "Name: count, Length: 18940, dtype: int64\n",
      "END ------------------------------------ \n",
      "\n",
      "Column Name: Num_of_Loan\n",
      "****************************************\n",
      "Num_of_Loan\n",
      "3        14386\n",
      "2        14250\n",
      "4        14016\n",
      "0        10380\n",
      "1        10083\n",
      "         ...  \n",
      "1320_        1\n",
      "103          1\n",
      "1444         1\n",
      "392          1\n",
      "966          1\n",
      "Name: count, Length: 434, dtype: int64\n",
      "END ------------------------------------ \n",
      "\n",
      "Column Name: Type_of_Loan\n",
      "****************************************\n",
      "Type_of_Loan\n",
      "NaN                                                                                                                                   11408\n",
      "Not Specified                                                                                                                          1408\n",
      "Credit-Builder Loan                                                                                                                    1280\n",
      "Personal Loan                                                                                                                          1272\n",
      "Debt Consolidation Loan                                                                                                                1264\n",
      "                                                                                                                                      ...  \n",
      "Not Specified, Mortgage Loan, Auto Loan, and Payday Loan                                                                                  8\n",
      "Payday Loan, Mortgage Loan, Debt Consolidation Loan, and Student Loan                                                                     8\n",
      "Debt Consolidation Loan, Auto Loan, Personal Loan, Debt Consolidation Loan, Student Loan, and Credit-Builder Loan                         8\n",
      "Student Loan, Auto Loan, Student Loan, Credit-Builder Loan, Home Equity Loan, Debt Consolidation Loan, and Debt Consolidation Loan        8\n",
      "Personal Loan, Auto Loan, Mortgage Loan, Student Loan, and Student Loan                                                                   8\n",
      "Name: count, Length: 6261, dtype: int64\n",
      "END ------------------------------------ \n",
      "\n",
      "Column Name: Num_of_Delayed_Payment\n",
      "****************************************\n",
      "Num_of_Delayed_Payment\n",
      "NaN     7002\n",
      "19      5327\n",
      "17      5261\n",
      "16      5173\n",
      "10      5153\n",
      "        ... \n",
      "848_       1\n",
      "4134       1\n",
      "1530       1\n",
      "1502       1\n",
      "2047       1\n",
      "Name: count, Length: 750, dtype: int64\n",
      "END ------------------------------------ \n",
      "\n",
      "Column Name: Changed_Credit_Limit\n",
      "****************************************\n",
      "Changed_Credit_Limit\n",
      "_                     2091\n",
      "8.22                   133\n",
      "11.5                   127\n",
      "11.32                  126\n",
      "7.35                   121\n",
      "                      ... \n",
      "-1.84                    1\n",
      "0.8899999999999999       1\n",
      "28.06                    1\n",
      "1.5599999999999996       1\n",
      "21.17                    1\n",
      "Name: count, Length: 4384, dtype: int64\n",
      "END ------------------------------------ \n",
      "\n",
      "Column Name: Credit_Mix\n",
      "****************************************\n",
      "Credit_Mix\n",
      "Standard    36479\n",
      "Good        24337\n",
      "_           20195\n",
      "Bad         18989\n",
      "Name: count, dtype: int64\n",
      "END ------------------------------------ \n",
      "\n",
      "Column Name: Outstanding_Debt\n",
      "****************************************\n",
      "Outstanding_Debt\n",
      "1360.45     24\n",
      "460.46      23\n",
      "1151.7      23\n",
      "1109.03     23\n",
      "467.7       16\n",
      "            ..\n",
      "245.46_      1\n",
      "645.77_      1\n",
      "174.79_      1\n",
      "1181.13_     1\n",
      "1013.53_     1\n",
      "Name: count, Length: 13178, dtype: int64\n",
      "END ------------------------------------ \n",
      "\n",
      "Column Name: Credit_History_Age\n",
      "****************************************\n",
      "Credit_History_Age\n",
      "NaN                       9030\n",
      "15 Years and 11 Months     446\n",
      "19 Years and 4 Months      445\n",
      "19 Years and 5 Months      444\n",
      "17 Years and 11 Months     443\n",
      "                          ... \n",
      "0 Years and 3 Months        20\n",
      "0 Years and 2 Months        15\n",
      "33 Years and 7 Months       14\n",
      "33 Years and 8 Months       12\n",
      "0 Years and 1 Months         2\n",
      "Name: count, Length: 405, dtype: int64\n",
      "END ------------------------------------ \n",
      "\n",
      "Column Name: Payment_of_Min_Amount\n",
      "****************************************\n",
      "Payment_of_Min_Amount\n",
      "Yes    52326\n",
      "No     35667\n",
      "NM     12007\n",
      "Name: count, dtype: int64\n",
      "END ------------------------------------ \n",
      "\n",
      "Column Name: Amount_invested_monthly\n",
      "****************************************\n",
      "Amount_invested_monthly\n",
      "NaN                   4479\n",
      "__10000__             4305\n",
      "0.0                    169\n",
      "36.66235139442514        1\n",
      "89.7384893604547         1\n",
      "                      ... \n",
      "36.541908593249026       1\n",
      "93.45116318631192        1\n",
      "140.80972223052834       1\n",
      "38.73937670100975        1\n",
      "167.1638651610451        1\n",
      "Name: count, Length: 91050, dtype: int64\n",
      "END ------------------------------------ \n",
      "\n",
      "Column Name: Payment_Behaviour\n",
      "****************************************\n",
      "Payment_Behaviour\n",
      "Low_spent_Small_value_payments      25513\n",
      "High_spent_Medium_value_payments    17540\n",
      "Low_spent_Medium_value_payments     13861\n",
      "High_spent_Large_value_payments     13721\n",
      "High_spent_Small_value_payments     11340\n",
      "Low_spent_Large_value_payments      10425\n",
      "!@9#%8                               7600\n",
      "Name: count, dtype: int64\n",
      "END ------------------------------------ \n",
      "\n",
      "Column Name: Monthly_Balance\n",
      "****************************************\n",
      "Monthly_Balance\n",
      "NaN                                 1200\n",
      "__-333333333333333333333333333__       9\n",
      "312.49408867943663                     1\n",
      "347.413889978152                       1\n",
      "254.9709216273975                      1\n",
      "                                    ... \n",
      "366.2890379762706                      1\n",
      "151.1882696261166                      1\n",
      "306.75027851710234                     1\n",
      "278.8720257394474                      1\n",
      "393.6736955618808                      1\n",
      "Name: count, Length: 98793, dtype: int64\n",
      "END ------------------------------------ \n",
      "\n",
      "Column Name: Credit_Score\n",
      "****************************************\n",
      "Credit_Score\n",
      "Standard    53174\n",
      "Poor        28998\n",
      "Good        17828\n",
      "Name: count, dtype: int64\n",
      "END ------------------------------------ \n"
     ]
    }
   ],
   "source": [
    "object_col = data.describe(include='O').columns\n",
    "object_col\n",
    "\n",
    "\n",
    "# data[col].value_counts(dropna=False): \n",
    "# value_counts() is a function that returns the count of unique items in a pandas Series object.\n",
    "# The argument dropna=False means it includes the NaN (Not a Number) values as well. \n",
    "# By default, the value_counts() function does not include NaN values in its count.\n",
    "\n",
    "# Column Name: \n",
    "# '+col: This prints the text 'Column Name: ' along with the name of the column.\n",
    "\n",
    "for col in object_col:\n",
    "    print('Column Name: '+col)\n",
    "    print(\"**\"*20)\n",
    "    print(data[col].value_counts(dropna=False))\n",
    "    print('END', \"--\"*18, '\\n')\n"
   ],
   "metadata": {
    "collapsed": false,
    "ExecuteTime": {
     "end_time": "2024-02-18T20:18:12.276991Z",
     "start_time": "2024-02-18T20:18:11.758389Z"
    }
   },
   "id": "d1e7e2ff0010f93f"
  },
  {
   "cell_type": "markdown",
   "source": [
    "**Clear the strange values on data dataframe found above. Assign the new dataframe to df**:"
   ],
   "metadata": {
    "collapsed": false
   },
   "id": "9d6091bfb032dd14"
  },
  {
   "cell_type": "code",
   "execution_count": 757,
   "outputs": [],
   "source": [
    "def text_cleaning(data):\n",
    "    if data is np.NaN or not isinstance(data, str):\n",
    "        return data\n",
    "    else:\n",
    "        return str(data).strip('_ ,\"')"
   ],
   "metadata": {
    "collapsed": false,
    "ExecuteTime": {
     "end_time": "2024-02-18T20:18:12.281978Z",
     "start_time": "2024-02-18T20:18:12.278478Z"
    }
   },
   "id": "ae4a850d2d106937"
  },
  {
   "cell_type": "code",
   "execution_count": 758,
   "outputs": [
    {
     "data": {
      "text/plain": "ID                              0\nCustomer_ID                     0\nMonth                           0\nName                         9985\nAge                             0\nSSN                          5572\nOccupation                   7062\nAnnual_Income                   0\nMonthly_Inhand_Salary       15002\nNum_Bank_Accounts               0\nNum_Credit_Card                 0\nInterest_Rate                   0\nNum_of_Loan                     0\nType_of_Loan                11408\nDelay_from_due_date             0\nNum_of_Delayed_Payment       7002\nChanged_Credit_Limit         2091\nNum_Credit_Inquiries         1965\nCredit_Mix                  20195\nOutstanding_Debt                0\nCredit_Utilization_Ratio        0\nCredit_History_Age           9030\nPayment_of_Min_Amount           0\nTotal_EMI_per_month             0\nAmount_invested_monthly      4479\nPayment_Behaviour            7600\nMonthly_Balance              1200\nCredit_Score                    0\ndtype: int64"
     },
     "execution_count": 758,
     "metadata": {},
     "output_type": "execute_result"
    }
   ],
   "source": [
    "df = data.map(text_cleaning).replace(['', 'nan', '!@9#%8', '#F%$D@*&8'], np.NaN)\n",
    "df.isna().sum()"
   ],
   "metadata": {
    "collapsed": false,
    "ExecuteTime": {
     "end_time": "2024-02-18T20:18:13.817006Z",
     "start_time": "2024-02-18T20:18:12.283446Z"
    }
   },
   "id": "3bad846639e111d2"
  },
  {
   "cell_type": "markdown",
   "source": [
    "**I continue with the df dataframe**"
   ],
   "metadata": {
    "collapsed": false
   },
   "id": "dd9d111046d4f46c"
  },
  {
   "cell_type": "markdown",
   "source": [
    "### Fixing Data Types using value_counts(), astype(), infer_objects(), convert_dtypes() etc.\n",
    "\n",
    "#### Changing column type in pandas by using:\n",
    "\n",
    "1. astype() - convert (almost) any type to (almost) any other type (even if it's not necessarily sensible to do so). Also allows you to convert to categorial types (very useful).\n",
    "2. infer_objects() - a utility method to convert object columns holding Python objects to a pandas type if possible.\n",
    "3. convert_dtypes() - convert DataFrame columns to the \"best possible\" dtype that supports pd.NA (pandas' object to indicate a missing value).\n",
    "4. to_numeric() - provides functionality to safely convert non-numeric types.(See also to_datetime() and to_timedelta().)\n",
    "5. factorize() - provides sorting"
   ],
   "metadata": {
    "collapsed": false
   },
   "id": "639675d34658db20"
  },
  {
   "cell_type": "code",
   "outputs": [
    {
     "name": "stdout",
     "output_type": "stream",
     "text": [
      "<class 'pandas.core.frame.DataFrame'>\n",
      "RangeIndex: 100000 entries, 0 to 99999\n",
      "Data columns (total 20 columns):\n",
      " #   Column                   Non-Null Count   Dtype \n",
      "---  ------                   --------------   ----- \n",
      " 0   ID                       100000 non-null  object\n",
      " 1   Customer_ID              100000 non-null  object\n",
      " 2   Month                    100000 non-null  object\n",
      " 3   Name                     90015 non-null   object\n",
      " 4   Age                      100000 non-null  object\n",
      " 5   SSN                      94428 non-null   object\n",
      " 6   Occupation               92938 non-null   object\n",
      " 7   Annual_Income            100000 non-null  object\n",
      " 8   Num_of_Loan              100000 non-null  object\n",
      " 9   Type_of_Loan             88592 non-null   object\n",
      " 10  Num_of_Delayed_Payment   92998 non-null   object\n",
      " 11  Changed_Credit_Limit     97909 non-null   object\n",
      " 12  Credit_Mix               79805 non-null   object\n",
      " 13  Outstanding_Debt         100000 non-null  object\n",
      " 14  Credit_History_Age       90970 non-null   object\n",
      " 15  Payment_of_Min_Amount    100000 non-null  object\n",
      " 16  Amount_invested_monthly  95521 non-null   object\n",
      " 17  Payment_Behaviour        92400 non-null   object\n",
      " 18  Monthly_Balance          98800 non-null   object\n",
      " 19  Credit_Score             100000 non-null  object\n",
      "dtypes: object(20)\n",
      "memory usage: 15.3+ MB\n"
     ]
    }
   ],
   "source": [
    "# 20 object columns:\n",
    "df.select_dtypes('object').info()"
   ],
   "metadata": {
    "collapsed": false,
    "ExecuteTime": {
     "end_time": "2024-02-18T20:18:13.905991Z",
     "start_time": "2024-02-18T20:18:13.819296Z"
    }
   },
   "id": "427753a0c44250e1",
   "execution_count": 759
  },
  {
   "cell_type": "markdown",
   "source": [
    "This code below is performing different data transformations on each object column of the df DataFrame, using various functions available in Pandas and Numpy. Here's a breakdown of these operations:\n",
    "\n",
    "1. **df['ID'] = df.ID.apply(lambda x: int(x, 16)):**\n",
    "The hexadecimal string IDs are being converted to int type. If df['ID'] originally contains hexadecimal numbers stored as string format, this line will convert those hexadecimal numbers to decimal integers.\n",
    "\n",
    "2. **df['Customer_ID'] = df.Customer_ID.apply(lambda x: int(x[4:], 16)):**\n",
    "Here it's slicing Customer_ID values from the 5th character till the end and converting those hexadecimal strings to int type.\n",
    "\n",
    "3. **df['Month'] = pd.to_datetime(df.Month, format='%B').dt.month:**\n",
    "This line is converting the Month column to Pandas datetime format, with the assumption that df['Month'] are given as full month names ('January', 'February', etc.). It then extracts the month as an integer (1 for January, 2 for February, etc.).\n",
    "\n",
    "4. **df['Age'] = df.Age.astype(int):** \n",
    "This line is converting the Age column values into integers using the astype(int) function.\n",
    "\n",
    "5. **df['SSN'] = df.SSN.apply(lambda x: x if x is np.NaN else int(str(x).replace('-', ''))).astype(float):**\n",
    "Here, for each value in the SSN field, if the value is not NaN (Not a Number), it is converted to string format, and then all the hyphen ('-') characters are removed. The resulting string is converted to an integer and then to a float. If the value is NaN, it remains NaN.\n",
    "\n",
    "- 6-12. **For numerical columns 'Annual_Income', 'Num_of_Loan', 'Num_of_Delayed_Payment', 'Changed_Credit_Limit', 'Outstanding_Debt', 'Amount_invested_monthly', and 'Monthly_Balance'**, the DataFrame's astype method is used to convert these columns to the float or int data type.\n",
    "\n",
    "In summary, the below code does type conversion and data cleaning for specific columns of the df pandas DataFrame. The cleaning and transformation done here are necessary for a lot of data processing and machine learning tasks."
   ],
   "metadata": {
    "collapsed": false
   },
   "id": "57c585b78546c3a0"
  },
  {
   "cell_type": "code",
   "outputs": [],
   "source": [
    "df['ID']                      = df.ID.apply(lambda x: int(x, 16))\n",
    "df['Customer_ID']             = df.Customer_ID.apply(lambda x: int(x[4:], 16))\n",
    "df['Month']                   = pd.to_datetime(df.Month, format='%B').dt.month\n",
    "df['Age']                     = df.Age.astype(int)\n",
    "df['SSN']                     = df.SSN.apply(lambda x: x if x is np.NaN else int(str(x).replace('-', ''))).astype(float)\n",
    "df['Annual_Income']           = df.Annual_Income.astype(float)\n",
    "df['Num_of_Loan']             = df.Num_of_Loan.astype(int)\n",
    "df['Num_of_Delayed_Payment']  = df.Num_of_Delayed_Payment.astype(float)\n",
    "df['Changed_Credit_Limit']    = df.Changed_Credit_Limit.astype(float)\n",
    "df['Outstanding_Debt']        = df.Outstanding_Debt.astype(float)\n",
    "df['Amount_invested_monthly'] = df.Amount_invested_monthly.astype(float)\n",
    "df['Monthly_Balance']         = df.Monthly_Balance.astype(float)"
   ],
   "metadata": {
    "collapsed": false,
    "ExecuteTime": {
     "end_time": "2024-02-18T20:18:14.178628Z",
     "start_time": "2024-02-18T20:18:13.907773Z"
    }
   },
   "id": "733ca9626444fdc5",
   "execution_count": 760
  },
  {
   "cell_type": "markdown",
   "source": [
    "#### Combining specific object columns\n",
    "##### Feature: Credit History Age"
   ],
   "metadata": {
    "collapsed": false
   },
   "id": "221b9092c091645c"
  },
  {
   "cell_type": "markdown",
   "source": [
    "This function below, named **Month_Converter**, takes a single argument x. The function is intended to convert a string representing a time period in years and months into total months. The function does the following:\n",
    "\n",
    "1. **if pd.notnull(x)**:\n",
    "The function first checks if x is not a null value. This is done using the function notnull() from the pandas library.\n",
    "2. **num1 = int(x.split(' ')[0])**:\n",
    "It assumes that x is a string in which the first portion before the space is the number of years. It splits the string into different parts at the spaces using split(' '), and it converts the first part num1 (which is the number of years) into an integer.\n",
    "3. **num2 = int(x.split(' ')[3]):** \n",
    "Similar to the previous step, it assumes the string follows a pattern where the 4th portion (index 3) after splitting by space is the number of months. It converts this part num2 into an integer.\n",
    "4. **return (num1*12)+num2:**\n",
    "It returns the total number of months by converting the years into months (num1*12) and adding the remaining months (num2).\n",
    "5. **else: return x:**\n",
    "If x is a null value, the function simply returns x. This is useful for handling missing data.\n",
    "\n",
    "\n",
    "The function expects input strings in the format \"5 years 2 months\" and converts them into an integer representing the total number of months (in this example, it would return 62).\n",
    "\n",
    "Do note that this function does not handle errors that might arise if the format of the string is not as expected. It's best to make sure the data fits the expected format before applying this function."
   ],
   "metadata": {
    "collapsed": false
   },
   "id": "31874c72e171bcee"
  },
  {
   "cell_type": "code",
   "outputs": [],
   "source": [
    "def Month_Converter(x):\n",
    "    \"\"\"\n",
    "    Converts a given month in the format \"Mmm yyyy\" to the total number of months\n",
    "\n",
    "    :param x: A string representing a month in the format \"Mmm yyyy\" (e.g. \"Jan 2022\")\n",
    "    :return: The total number of months corresponding to the given month (e.g. for \"Jan 2022\", it would be 20234)\n",
    "    \"\"\"\n",
    "    if pd.notnull(x):\n",
    "        num1 = int(x.split(' ')[0])\n",
    "        num2 = int(x.split(' ')[3])\n",
    "\n",
    "        return (num1*12)+num2\n",
    "    else:\n",
    "        return x\n"
   ],
   "metadata": {
    "collapsed": false,
    "ExecuteTime": {
     "end_time": "2024-02-18T20:18:14.183179Z",
     "start_time": "2024-02-18T20:18:14.179819Z"
    }
   },
   "id": "ce6e1ff142983f72",
   "execution_count": 761
  },
  {
   "cell_type": "code",
   "outputs": [
    {
     "data": {
      "text/plain": "Customer_ID\n1006    [182.0, 183.0, 184.0, 185.0, 186.0, 187.0, 188...\n1007    [346.0, 347.0, 348.0, 349.0, 350.0, nan, 352.0...\n1008    [292.0, 293.0, 294.0, nan, 296.0, 297.0, 298.0...\n1009    [331.0, 332.0, 333.0, 334.0, 335.0, 336.0, 337...\n1011    [179.0, 180.0, nan, 182.0, 183.0, 184.0, 185.0...\nName: Credit_History_Age, dtype: object"
     },
     "execution_count": 762,
     "metadata": {},
     "output_type": "execute_result"
    }
   ],
   "source": [
    "#applying function Month_Converter to 'Credit_History_Age':\n",
    "df['Credit_History_Age'] = df.Credit_History_Age.apply(lambda x: Month_Converter(x)).astype(float)\n",
    "\n",
    "#check\n",
    "df.groupby('Customer_ID')['Credit_History_Age'].apply(list).head()"
   ],
   "metadata": {
    "collapsed": false,
    "ExecuteTime": {
     "end_time": "2024-02-18T20:18:14.637897Z",
     "start_time": "2024-02-18T20:18:14.184520Z"
    }
   },
   "id": "7bf6d3e99289d6bc",
   "execution_count": 762
  },
  {
   "cell_type": "markdown",
   "source": [
    "##### Feature: Type of Loan"
   ],
   "metadata": {
    "collapsed": false
   },
   "id": "6dbb75667056bbb9"
  },
  {
   "cell_type": "code",
   "outputs": [
    {
     "data": {
      "text/plain": "Type_of_Loan\nNaN                                                                                                                                   11408\nNot Specified                                                                                                                          1408\nCredit-Builder Loan                                                                                                                    1280\nPersonal Loan                                                                                                                          1272\nDebt Consolidation Loan                                                                                                                1264\n                                                                                                                                      ...  \nNot Specified, Mortgage Loan, Auto Loan, and Payday Loan                                                                                  8\nPayday Loan, Mortgage Loan, Debt Consolidation Loan, and Student Loan                                                                     8\nDebt Consolidation Loan, Auto Loan, Personal Loan, Debt Consolidation Loan, Student Loan, and Credit-Builder Loan                         8\nStudent Loan, Auto Loan, Student Loan, Credit-Builder Loan, Home Equity Loan, Debt Consolidation Loan, and Debt Consolidation Loan        8\nPersonal Loan, Auto Loan, Mortgage Loan, Student Loan, and Student Loan                                                                   8\nName: count, Length: 6261, dtype: int64"
     },
     "execution_count": 763,
     "metadata": {},
     "output_type": "execute_result"
    }
   ],
   "source": [
    "df['Type_of_Loan'].value_counts(dropna=False)"
   ],
   "metadata": {
    "collapsed": false,
    "ExecuteTime": {
     "end_time": "2024-02-18T20:18:14.648220Z",
     "start_time": "2024-02-18T20:18:14.639433Z"
    }
   },
   "id": "db59c20517e3b7e8",
   "execution_count": 763
  },
  {
   "cell_type": "markdown",
   "source": [
    "The code below contains two lines where the Pandas library in Python is used to process the DataFrame df.\n",
    "\n",
    "**The applied lambda function does the following**:\n",
    "- x.lower() - This part transforms the text to lowercase.\n",
    "- .replace('and ', '') - This part removes the word 'and' followed by a space from the string.\n",
    "- .replace(', ', ',') - This part replaces the ', ' (comma followed by a space) with ',' (just comma), effectively removing spaces after commas.\n",
    "- .strip() - This part removes any leading or trailing spaces.\n",
    "- If x is a NaN value (checked using the pd.notna(x) else x part), it remains unaltered.\n",
    "df.groupby('Customer_ID')['Type_of_Loan'].value_counts(dropna=False)\n",
    "\n",
    "The next code line groups the DataFrame by the Customer_ID, then takes the count of unique values in the Type_of_Loan column for each Customer_ID. The value_counts(dropna=False) function counts the number of each unique value in the Type_of_Loan column. The dropna=False parameter means it includes the NaN values in the count.\n",
    "\n",
    "In summary, the code first cleans up and standardizes the Type_of_Loan column, then displays the occurrence of each type of loan per customer"
   ],
   "metadata": {
    "collapsed": false
   },
   "id": "2515b494e9c7cee1"
  },
  {
   "cell_type": "code",
   "outputs": [
    {
     "data": {
      "text/plain": "Customer_ID  Type_of_Loan                                                                                \n1006         credit-builder loan,payday loan                                                                 8\n1007         home equity loan,mortgage loan,student loan                                                     8\n1008         NaN                                                                                             8\n1009         credit-builder loan,student loan,not specified,student loan                                     8\n1011         personal loan,auto loan,auto loan                                                               8\n                                                                                                            ..\n50984        home equity loan,mortgage loan,payday loan,mortgage loan,mortgage loan,payday loan              8\n50990        mortgage loan,auto loan,auto loan                                                               8\n50992        student loan,credit-builder loan,mortgage loan,payday loan,home equity loan,home equity loan    8\n50996        NaN                                                                                             8\n50999        credit-builder loan                                                                             8\nName: count, Length: 12500, dtype: int64"
     },
     "execution_count": 764,
     "metadata": {},
     "output_type": "execute_result"
    }
   ],
   "source": [
    "df['Type_of_Loan'] = df['Type_of_Loan'].apply(lambda x: x.lower().replace('and ', '').replace(', ', ',').strip() if pd.notna(x) else x)\n",
    "\n",
    "df.groupby('Customer_ID')['Type_of_Loan'].value_counts(dropna=False)"
   ],
   "metadata": {
    "collapsed": false,
    "ExecuteTime": {
     "end_time": "2024-02-18T20:18:14.805623Z",
     "start_time": "2024-02-18T20:18:14.649414Z"
    }
   },
   "id": "2cad523dcd996eda",
   "execution_count": 764
  },
  {
   "cell_type": "markdown",
   "source": [
    "Also, I could create lists of type of loans per Customer ID, where I can map the values inside the lists into different features"
   ],
   "metadata": {
    "collapsed": false
   },
   "id": "a20281944f7c428e"
  },
  {
   "cell_type": "code",
   "outputs": [
    {
     "data": {
      "text/plain": "Customer_ID\n1006     [credit-builder loan,payday loan, credit-build...\n1007     [home equity loan,mortgage loan,student loan, ...\n1008              [nan, nan, nan, nan, nan, nan, nan, nan]\n1009     [credit-builder loan,student loan,not specifie...\n1011     [personal loan,auto loan,auto loan, personal l...\n                               ...                        \n50984    [home equity loan,mortgage loan,payday loan,mo...\n50990    [mortgage loan,auto loan,auto loan, mortgage l...\n50992    [student loan,credit-builder loan,mortgage loa...\n50996             [nan, nan, nan, nan, nan, nan, nan, nan]\n50999    [credit-builder loan, credit-builder loan, cre...\nName: Type_of_Loan, Length: 12500, dtype: object"
     },
     "execution_count": 765,
     "metadata": {},
     "output_type": "execute_result"
    }
   ],
   "source": [
    "df.groupby('Customer_ID')['Type_of_Loan'].apply(list)"
   ],
   "metadata": {
    "collapsed": false,
    "ExecuteTime": {
     "end_time": "2024-02-18T20:18:15.103207Z",
     "start_time": "2024-02-18T20:18:14.807045Z"
    }
   },
   "id": "2b48765b1db2f272",
   "execution_count": 765
  },
  {
   "cell_type": "markdown",
   "source": [],
   "metadata": {
    "collapsed": false
   },
   "id": "e646ff8d67c2ca70"
  },
  {
   "cell_type": "markdown",
   "source": [
    "Let's check the different values in the Type of Loan column:"
   ],
   "metadata": {
    "collapsed": false
   },
   "id": "df7be32f1dc67b42"
  },
  {
   "cell_type": "code",
   "outputs": [],
   "source": [
    "import re \n",
    "def get_Diff_Values_Colum(df_column, diff_value=[], sep=',', replace=''):\n",
    "    \"\"\"\n",
    "    Get the different values in a column of a DataFrame.\n",
    "\n",
    "    :param df_column: The column of the DataFrame.\n",
    "    :type df_column: pandas.Series\n",
    "    :param diff_value: Values to exclude from the result. It is an optional parameter and the default value is an empty list.\n",
    "    :type diff_value: list, optional\n",
    "    :param sep: Separator for splitting values that contain multiple elements. It is an optional parameter and the default value is ','.\n",
    "    :type sep: str, optional\n",
    "    :param replace: Characters to replace in values before processing. It is an optional parameter and the default value is an empty string.\n",
    "    :type replace: str, optional\n",
    "    :return: A dictionary containing the different values as keys and their corresponding indexes as values.\n",
    "    :rtype: dict\n",
    "\n",
    "    \"\"\"\n",
    "    column = df_column.dropna()\n",
    "    for i in column:\n",
    "        if sep not in i and i not in diff_value:\n",
    "            diff_value.append(i)\n",
    "        else:\n",
    "            for data in map(lambda x:x.strip(), re.sub(replace, '', i).split(sep)):\n",
    "                if not data in diff_value:\n",
    "                    diff_value.append(data)\n",
    "    return dict(enumerate(sorted(diff_value)))"
   ],
   "metadata": {
    "collapsed": false,
    "ExecuteTime": {
     "end_time": "2024-02-18T20:18:15.109680Z",
     "start_time": "2024-02-18T20:18:15.104776Z"
    }
   },
   "id": "678bf33ae99992b7",
   "execution_count": 766
  },
  {
   "cell_type": "code",
   "outputs": [
    {
     "data": {
      "text/plain": "{0: 'auto loan',\n 1: 'credit-builder loan',\n 2: 'debt consolidation loan',\n 3: 'home equity loan',\n 4: 'mortgage loan',\n 5: 'not specified',\n 6: 'payday loan',\n 7: 'personal loan',\n 8: 'student loan'}"
     },
     "execution_count": 767,
     "metadata": {},
     "output_type": "execute_result"
    }
   ],
   "source": [
    "get_Diff_Values_Colum(df['Type_of_Loan'])"
   ],
   "metadata": {
    "collapsed": false,
    "ExecuteTime": {
     "end_time": "2024-02-18T20:18:16.045792Z",
     "start_time": "2024-02-18T20:18:15.111392Z"
    }
   },
   "id": "f4778a47279c3641",
   "execution_count": 767
  },
  {
   "cell_type": "markdown",
   "source": [
    "We have 8 unique values  various combinations in column: Type_of_Loans"
   ],
   "metadata": {
    "collapsed": false
   },
   "id": "67cc04d8bfc194c5"
  },
  {
   "cell_type": "markdown",
   "source": [
    "### Handling missing values on df Dataframe"
   ],
   "metadata": {
    "collapsed": false
   },
   "id": "1f144524ae10047f"
  },
  {
   "cell_type": "code",
   "outputs": [
    {
     "data": {
      "text/plain": "Name                      9985\nOccupation                7062\nType_of_Loan             11408\nCredit_Mix               20195\nPayment_of_Min_Amount        0\nPayment_Behaviour         7600\nCredit_Score                 0\ndtype: int64"
     },
     "execution_count": 768,
     "metadata": {},
     "output_type": "execute_result"
    }
   ],
   "source": [
    "df.select_dtypes(include = 'object').isna().sum()"
   ],
   "metadata": {
    "collapsed": false,
    "ExecuteTime": {
     "end_time": "2024-02-18T20:18:16.092289Z",
     "start_time": "2024-02-18T20:18:16.047285Z"
    }
   },
   "id": "b30f0df418ea52d3",
   "execution_count": 768
  },
  {
   "cell_type": "markdown",
   "source": [
    "I should check and handle tha Nan values of the following variables:\n",
    "- Occupation\n",
    "- Credit_Mix\n",
    "- Payment_Behaviour\n",
    "\n",
    "Below I create a function that handles missing values for Object Columns:\n"
   ],
   "metadata": {
    "collapsed": false
   },
   "id": "435884b3a0b247eb"
  },
  {
   "cell_type": "markdown",
   "source": [
    "**The below function is defined to handle missing values (NaNs) in a pandas DataFrame based on the mode of a grouped column**.\n",
    "\n",
    "**Here's a breakdown of the code**:\n",
    "\n",
    "The function first defines a nested inner function make_NaN_and_fill_mode which replaces 'None' values with 'np.NaN' if any. Then, it fills the missing values with the mode of the column, grouped by the column names stated. The mode is the value that appears most frequently in a data set. It's calculated using scipy.stats.mode.\n",
    "\n",
    "When the inplace argument is True, the original DataFrame is modified and nothing is returned. If False, a new DataFrame with the modifications is returned.\n",
    "The primary function checks if inplace is True or False.\n",
    "\n",
    "If inplace is True, it:\n",
    "- calculates and prints the count of NaN values in the column before assigning.\n",
    "- shows a sample of values in the group by column,\n",
    "- replaces None and NaN values with the mode value using the inner function,\n",
    "- shows the count of NaN values in the column after assigning,\n",
    "- shows a sample of the group by column after assigning.\n",
    "\n",
    "If inplace is False, it simply calls the make_NaN_and_fill_mode function and returns the modified DataFrame."
   ],
   "metadata": {
    "collapsed": false
   },
   "id": "d31e07357b3c4852"
  },
  {
   "cell_type": "code",
   "outputs": [],
   "source": [
    "# Reassign and Show Function\n",
    "def Object_NaN_Values_Reassign(df, groupby, column, inplace=True):\n",
    "    \"\"\"\n",
    "    :param df: The DataFrame to be modified.\n",
    "    :param groupby: The column(s) to group the data by.\n",
    "    :param column: The column to reassign NaN values.\n",
    "    :param inplace: If True, modify the DataFrame in-place. If False, return a new DataFrame with the NaN values reassigned.\n",
    "    :return: If inplace=True, returns None. If inplace=False, returns a DataFrame with reassigned NaN values.\n",
    "\n",
    "    This method reassigns NaN values in a DataFrame column based on the mode of the corresponding groupby column(s).\n",
    "    \"\"\"\n",
    "    import scipy.stats as stats\n",
    "    import pandas as pd\n",
    "    def make_NaN_and_fill_mode(df, groupby, column, inplace=True):\n",
    "        # Assign None to np.NaN\n",
    "        if df[column].isin([None]).sum():\n",
    "            df[column][df[column].isin([None])] = np.NaN\n",
    "\n",
    "        # fill with local mode\n",
    "        mode_vals = df.groupby(groupby)[column].apply(lambda x: pd.Series.mode(x)[0] if len(pd.Series.mode(x))>0 else np.NaN)\n",
    "\n",
    "        result = df[column].fillna(df[groupby].map(mode_vals))\n",
    "\n",
    "        # inplace\n",
    "        if inplace:\n",
    "            df[column]=result\n",
    "        else:\n",
    "            return result\n",
    "\n",
    "    # Run      \n",
    "    if inplace:\n",
    "        # Before Assigning NaN values   \n",
    "        if df[column].value_counts(dropna=False).index.isna().sum():\n",
    "            x = df[column].value_counts(dropna=False).loc[[np.NaN]]\n",
    "            print(f'\\nBefore Assigning: {column}:', f'have {x.values[0]} NaN Values', end='\\n')\n",
    "\n",
    "        a = df.groupby(groupby)[column].apply(list)\n",
    "        print(f'\\nBefore Assigning Example {column}:\\n', *a.head().values, sep='\\n', end='\\n')\n",
    "\n",
    "        # Assigning\n",
    "        make_NaN_and_fill_mode(df, groupby, column, inplace)\n",
    "\n",
    "        # After Assigning NaN values\n",
    "        if df[column].value_counts(dropna=False).index.isna().sum():\n",
    "            y = df[column].value_counts(dropna=False).loc[[np.NaN]]\n",
    "            print(f'\\nAfter Assigning: {column}:', f'have {y.values[0]} NaN Values', end='\\n')\n",
    "\n",
    "        b = df.groupby(groupby)[column].apply(list)\n",
    "        print(f'\\nAfter Assigning Example {column}:\\n', *b.head().values, sep='\\n', end='\\n')\n",
    "    else:\n",
    "        # Show\n",
    "        return make_NaN_and_fill_mode(df, groupby, column, inplace)"
   ],
   "metadata": {
    "collapsed": false,
    "ExecuteTime": {
     "end_time": "2024-02-18T20:18:16.104065Z",
     "start_time": "2024-02-18T20:18:16.094049Z"
    }
   },
   "id": "ed1c88d17521428f",
   "execution_count": 769
  },
  {
   "cell_type": "markdown",
   "source": [
    "**Handling Occupation variable**:"
   ],
   "metadata": {
    "collapsed": false
   },
   "id": "b8afd75beb5206be"
  },
  {
   "cell_type": "code",
   "outputs": [
    {
     "data": {
      "text/plain": "Occupation\nNaN              7062\nLawyer           6575\nArchitect        6355\nEngineer         6350\nScientist        6299\nMechanic         6291\nAccountant       6271\nDeveloper        6235\nMedia_Manager    6232\nTeacher          6215\nEntrepreneur     6174\nDoctor           6087\nJournalist       6085\nManager          5973\nMusician         5911\nWriter           5885\nName: count, dtype: int64"
     },
     "execution_count": 770,
     "metadata": {},
     "output_type": "execute_result"
    }
   ],
   "source": [
    "df['Occupation'].value_counts(dropna=False)"
   ],
   "metadata": {
    "collapsed": false,
    "ExecuteTime": {
     "end_time": "2024-02-18T20:18:16.113287Z",
     "start_time": "2024-02-18T20:18:16.105751Z"
    }
   },
   "id": "d381fb538c68b404",
   "execution_count": 770
  },
  {
   "cell_type": "code",
   "outputs": [
    {
     "name": "stdout",
     "output_type": "stream",
     "text": [
      "\n",
      "Before Assigning: Occupation: have 7062 NaN Values\n",
      "\n",
      "Before Assigning Example Occupation:\n",
      "\n",
      "['Journalist', 'Journalist', 'Journalist', 'Journalist', 'Journalist', nan, 'Journalist', 'Journalist']\n",
      "['Manager', 'Manager', nan, 'Manager', 'Manager', 'Manager', 'Manager', 'Manager']\n",
      "['Developer', 'Developer', 'Developer', 'Developer', 'Developer', 'Developer', 'Developer', 'Developer']\n",
      "['Accountant', nan, 'Accountant', 'Accountant', 'Accountant', 'Accountant', 'Accountant', 'Accountant']\n",
      "['Writer', 'Writer', 'Writer', 'Writer', nan, 'Writer', 'Writer', 'Writer']\n",
      "\n",
      "After Assigning Example Occupation:\n",
      "\n",
      "['Journalist', 'Journalist', 'Journalist', 'Journalist', 'Journalist', 'Journalist', 'Journalist', 'Journalist']\n",
      "['Manager', 'Manager', 'Manager', 'Manager', 'Manager', 'Manager', 'Manager', 'Manager']\n",
      "['Developer', 'Developer', 'Developer', 'Developer', 'Developer', 'Developer', 'Developer', 'Developer']\n",
      "['Accountant', 'Accountant', 'Accountant', 'Accountant', 'Accountant', 'Accountant', 'Accountant', 'Accountant']\n",
      "['Writer', 'Writer', 'Writer', 'Writer', 'Writer', 'Writer', 'Writer', 'Writer']\n"
     ]
    }
   ],
   "source": [
    "Object_NaN_Values_Reassign(df, 'Customer_ID', 'Occupation')"
   ],
   "metadata": {
    "collapsed": false,
    "ExecuteTime": {
     "end_time": "2024-02-18T20:18:19.408861Z",
     "start_time": "2024-02-18T20:18:16.115404Z"
    }
   },
   "id": "ced3b4c5676aab63",
   "execution_count": 771
  },
  {
   "cell_type": "markdown",
   "source": [
    "**Everything seems ok. Now I should check Credit_Mix feature**:"
   ],
   "metadata": {
    "collapsed": false
   },
   "id": "5dfbb6bcc1bd5d5b"
  },
  {
   "cell_type": "code",
   "outputs": [
    {
     "data": {
      "text/plain": "Credit_Mix\nStandard    36479\nGood        24337\nNaN         20195\nBad         18989\nName: count, dtype: int64"
     },
     "execution_count": 772,
     "metadata": {},
     "output_type": "execute_result"
    }
   ],
   "source": [
    "df['Credit_Mix'].value_counts(dropna=False)"
   ],
   "metadata": {
    "collapsed": false,
    "ExecuteTime": {
     "end_time": "2024-02-18T20:18:19.417738Z",
     "start_time": "2024-02-18T20:18:19.410245Z"
    }
   },
   "id": "1ae742503e0dc8fd",
   "execution_count": 772
  },
  {
   "cell_type": "code",
   "outputs": [
    {
     "name": "stdout",
     "output_type": "stream",
     "text": [
      "\n",
      "Before Assigning: Credit_Mix: have 20195 NaN Values\n",
      "\n",
      "Before Assigning Example Credit_Mix:\n",
      "\n",
      "['Standard', 'Standard', 'Standard', 'Standard', 'Standard', nan, 'Standard', 'Standard']\n",
      "[nan, 'Standard', 'Standard', 'Standard', nan, 'Standard', nan, 'Standard']\n",
      "[nan, 'Standard', 'Standard', nan, 'Standard', 'Standard', 'Standard', 'Standard']\n",
      "['Standard', nan, 'Standard', 'Standard', 'Standard', 'Standard', 'Standard', 'Standard']\n",
      "[nan, nan, 'Standard', 'Standard', 'Standard', 'Standard', 'Standard', 'Standard']\n",
      "\n",
      "After Assigning Example Credit_Mix:\n",
      "\n",
      "['Standard', 'Standard', 'Standard', 'Standard', 'Standard', 'Standard', 'Standard', 'Standard']\n",
      "['Standard', 'Standard', 'Standard', 'Standard', 'Standard', 'Standard', 'Standard', 'Standard']\n",
      "['Standard', 'Standard', 'Standard', 'Standard', 'Standard', 'Standard', 'Standard', 'Standard']\n",
      "['Standard', 'Standard', 'Standard', 'Standard', 'Standard', 'Standard', 'Standard', 'Standard']\n",
      "['Standard', 'Standard', 'Standard', 'Standard', 'Standard', 'Standard', 'Standard', 'Standard']\n"
     ]
    }
   ],
   "source": [
    "Object_NaN_Values_Reassign(df, 'Customer_ID', 'Credit_Mix')"
   ],
   "metadata": {
    "collapsed": false,
    "ExecuteTime": {
     "end_time": "2024-02-18T20:18:22.314844Z",
     "start_time": "2024-02-18T20:18:19.419426Z"
    }
   },
   "id": "32c8b4fe2db82494",
   "execution_count": 773
  },
  {
   "cell_type": "code",
   "outputs": [
    {
     "data": {
      "text/plain": "Credit_Mix\nStandard    45848\nGood        30384\nBad         23768\nName: count, dtype: int64"
     },
     "execution_count": 774,
     "metadata": {},
     "output_type": "execute_result"
    }
   ],
   "source": [
    "df['Credit_Mix'].value_counts(dropna=False)"
   ],
   "metadata": {
    "collapsed": false,
    "ExecuteTime": {
     "end_time": "2024-02-18T20:18:22.328805Z",
     "start_time": "2024-02-18T20:18:22.322773Z"
    }
   },
   "id": "dd9807e5c262198a",
   "execution_count": 774
  },
  {
   "cell_type": "markdown",
   "source": [
    "**In a similar way I handle the missing values of Payment_Behaviour**:"
   ],
   "metadata": {
    "collapsed": false
   },
   "id": "16b0c15d67253428"
  },
  {
   "cell_type": "code",
   "outputs": [
    {
     "name": "stdout",
     "output_type": "stream",
     "text": [
      "\n",
      "Before Assigning: Payment_Behaviour: have 7600 NaN Values\n",
      "\n",
      "Before Assigning Example Payment_Behaviour:\n",
      "\n",
      "['High_spent_Medium_value_payments', 'Low_spent_Medium_value_payments', 'Low_spent_Small_value_payments', 'High_spent_Small_value_payments', 'Low_spent_Large_value_payments', nan, 'Low_spent_Large_value_payments', 'Low_spent_Small_value_payments']\n",
      "['High_spent_Medium_value_payments', 'High_spent_Medium_value_payments', 'Low_spent_Small_value_payments', 'High_spent_Medium_value_payments', 'Low_spent_Small_value_payments', nan, 'Low_spent_Small_value_payments', 'Low_spent_Small_value_payments']\n",
      "['High_spent_Small_value_payments', 'Low_spent_Large_value_payments', 'Low_spent_Small_value_payments', 'High_spent_Small_value_payments', 'High_spent_Medium_value_payments', 'High_spent_Small_value_payments', 'Low_spent_Large_value_payments', 'Low_spent_Large_value_payments']\n",
      "['High_spent_Medium_value_payments', 'High_spent_Large_value_payments', 'High_spent_Medium_value_payments', 'Low_spent_Large_value_payments', 'Low_spent_Medium_value_payments', 'Low_spent_Large_value_payments', nan, 'High_spent_Large_value_payments']\n",
      "['High_spent_Small_value_payments', 'Low_spent_Small_value_payments', 'High_spent_Medium_value_payments', 'Low_spent_Large_value_payments', 'Low_spent_Medium_value_payments', 'Low_spent_Small_value_payments', 'High_spent_Large_value_payments', 'Low_spent_Medium_value_payments']\n",
      "\n",
      "After Assigning Example Payment_Behaviour:\n",
      "\n",
      "['High_spent_Medium_value_payments', 'Low_spent_Medium_value_payments', 'Low_spent_Small_value_payments', 'High_spent_Small_value_payments', 'Low_spent_Large_value_payments', 'Low_spent_Large_value_payments', 'Low_spent_Large_value_payments', 'Low_spent_Small_value_payments']\n",
      "['High_spent_Medium_value_payments', 'High_spent_Medium_value_payments', 'Low_spent_Small_value_payments', 'High_spent_Medium_value_payments', 'Low_spent_Small_value_payments', 'Low_spent_Small_value_payments', 'Low_spent_Small_value_payments', 'Low_spent_Small_value_payments']\n",
      "['High_spent_Small_value_payments', 'Low_spent_Large_value_payments', 'Low_spent_Small_value_payments', 'High_spent_Small_value_payments', 'High_spent_Medium_value_payments', 'High_spent_Small_value_payments', 'Low_spent_Large_value_payments', 'Low_spent_Large_value_payments']\n",
      "['High_spent_Medium_value_payments', 'High_spent_Large_value_payments', 'High_spent_Medium_value_payments', 'Low_spent_Large_value_payments', 'Low_spent_Medium_value_payments', 'Low_spent_Large_value_payments', 'High_spent_Large_value_payments', 'High_spent_Large_value_payments']\n",
      "['High_spent_Small_value_payments', 'Low_spent_Small_value_payments', 'High_spent_Medium_value_payments', 'Low_spent_Large_value_payments', 'Low_spent_Medium_value_payments', 'Low_spent_Small_value_payments', 'High_spent_Large_value_payments', 'Low_spent_Medium_value_payments']\n"
     ]
    }
   ],
   "source": [
    "Object_NaN_Values_Reassign(df, 'Customer_ID', 'Payment_Behaviour')"
   ],
   "metadata": {
    "collapsed": false,
    "ExecuteTime": {
     "end_time": "2024-02-18T20:18:25.211744Z",
     "start_time": "2024-02-18T20:18:22.329835Z"
    }
   },
   "id": "8bfda2a38bcddc1b",
   "execution_count": 775
  },
  {
   "cell_type": "code",
   "outputs": [
    {
     "data": {
      "text/plain": "Name                      9985\nOccupation                   0\nType_of_Loan             11408\nCredit_Mix                   0\nPayment_of_Min_Amount        0\nPayment_Behaviour            0\nCredit_Score                 0\ndtype: int64"
     },
     "execution_count": 776,
     "metadata": {},
     "output_type": "execute_result"
    }
   ],
   "source": [
    "#check the null values:\n",
    "df.select_dtypes(include = 'object').isna().sum()"
   ],
   "metadata": {
    "collapsed": false,
    "ExecuteTime": {
     "end_time": "2024-02-18T20:18:25.258297Z",
     "start_time": "2024-02-18T20:18:25.213661Z"
    }
   },
   "id": "3765b0919f0cd51a",
   "execution_count": 776
  },
  {
   "cell_type": "markdown",
   "source": [
    "### Handling numeric variables (missing values and outliers)"
   ],
   "metadata": {
    "collapsed": false
   },
   "id": "b22461e1ced11ba3"
  },
  {
   "cell_type": "markdown",
   "source": [
    "Below I create a function that gets the lower and upper bounds for outliers based on the interquartile range (IQR). "
   ],
   "metadata": {
    "collapsed": false
   },
   "id": "b1db81cb8403291e"
  },
  {
   "cell_type": "code",
   "outputs": [],
   "source": [
    "# Define Outlier Range\n",
    "def get_iqr_lower_upper(df, column, multiply=1.5):\n",
    "    \"\"\"\n",
    "    Get the lower and upper bounds for outliers based on the interquartile range (IQR).\n",
    "\n",
    "    :param df: pandas DataFrame\n",
    "        The DataFrame containing the data.\n",
    "    :param column: str\n",
    "        The column name in the DataFrame.\n",
    "    :param multiply: float, optional\n",
    "        The multiplier to determine the threshold for outliers. Default is 1.5.\n",
    "    :return: tuple\n",
    "        A tuple containing the lower and upper bounds for outliers.\n",
    "    \"\"\"\n",
    "    q1 = df[column].quantile(0.25)\n",
    "    q3 = df[column].quantile(0.75)\n",
    "    iqr = q3 -q1\n",
    "\n",
    "    lower = q1-iqr*multiply\n",
    "    upper = q3+iqr*multiply\n",
    "    affect = df.loc[(df[column]<lower)|(df[column]>upper)].shape\n",
    "    print('Outlier.shape:', affect)\n",
    "    return lower, upper"
   ],
   "metadata": {
    "collapsed": false,
    "ExecuteTime": {
     "end_time": "2024-02-18T20:18:25.264461Z",
     "start_time": "2024-02-18T20:18:25.259847Z"
    }
   },
   "id": "dff8ed00f928a77e",
   "execution_count": 777
  },
  {
   "cell_type": "markdown",
   "source": [
    "Also, I create a function for numeric variables that identifies and re-assigns wrong numeric values in the df DataFrame based on a specified group (Customer_ID):"
   ],
   "metadata": {
    "collapsed": false
   },
   "id": "566ff5d238347ecc"
  },
  {
   "cell_type": "code",
   "outputs": [],
   "source": [
    "# Reassign Wrong Values and Show Function\n",
    "def Numeric_Wrong_Values_Reassign_Group_Min_Max(df, groupby, column, inplace=True):\n",
    "    \"\"\"\n",
    "\n",
    "    This method, `Numeric_Wrong_Values_Reassign_Group_Min_Max`, is used to identify and reassign wrong numeric values in a pandas DataFrame based on a specified group. \n",
    "\n",
    "    :param df: The pandas DataFrame where the wrong values need to be re-assigned. \n",
    "    :param groupby: The column(s) in the DataFrame that will be used to group the data.\n",
    "    :param column: The column containing the values that need to be reassigned.\n",
    "    :param inplace: A boolean indicating whether the changes should be made directly in the DataFrame or returned as a new object. Default is True, which means the changes will be made inplace\n",
    "    *.\n",
    "    :return: If `inplace` is True, there is no return value. If `inplace` is False, the modified DataFrame will be returned.\n",
    "\n",
    "    \"\"\"\n",
    "    # Identify Wrong values Range\n",
    "    def get_group_min_max(df = df, groupby = groupby, column = column):\n",
    "        cur = df[df[column].notna()].groupby(groupby)[column].apply(list)\n",
    "        x, y = cur.apply(lambda x: stats.mode(x)).apply([min, max])\n",
    "        return x[0], y[0]\n",
    "\n",
    "    # Assigning Wrong values\n",
    "    def make_group_NaN_and_fill_mode(df = df, groupby = groupby, column = column, inplace=True):\n",
    "        df_dropped = df[df[column].notna()].groupby(groupby)[column].apply(list)\n",
    "        x, y = df_dropped.apply(lambda x: stats.mode(x)).apply([min, max])\n",
    "        mini, maxi = x[0], y[0]\n",
    "\n",
    "        # assign Wrong Values to NaN\n",
    "        col = df[column].apply(lambda x: np.NaN if ((x<mini)|(x>maxi)) else x)\n",
    "\n",
    "        # fill with local mode\n",
    "        mode_by_group = df.groupby(groupby)[column].transform(lambda x: x.mode()[0] if not x.mode().empty else np.NaN)\n",
    "        result = col.fillna(mode_by_group)\n",
    "\n",
    "        # inplace\n",
    "        if inplace:\n",
    "            df[column]=result\n",
    "        else:\n",
    "            return result\n",
    "\n",
    "\n",
    "    # Run      \n",
    "    if inplace:\n",
    "        print('***************************', end='\\n')\n",
    "        # Before Assigning NaN values   \n",
    "        if df[column].value_counts(dropna=False).index.isna().sum():\n",
    "            x = df[column].value_counts(dropna=False).loc[[np.NaN]]\n",
    "            print(f'\\nBefore Assigning: {column}:', f'have {x.values[0]} NaN Values', end='\\n')\n",
    "\n",
    "        print(\"\\nExisting Min, Max Values:\", df[column].apply([min, max]), sep='\\n', end='\\n')\n",
    "        mini, maxi = get_group_min_max(df, groupby, column)\n",
    "        print(f\"\\nGroupby by {groupby}'s Actual min, max Values:\", f'min:\\t{mini},\\nmax:\\t{ maxi}', sep='\\n', end='\\n')\n",
    "\n",
    "        a = df.groupby(groupby)[column].apply(list)\n",
    "        print(f'\\nBefore Assigning Example {column}:\\n', *a.head().values, sep='\\n', end='\\n')\n",
    "\n",
    "        # Assigning\n",
    "        make_group_NaN_and_fill_mode(df, groupby, column, inplace)\n",
    "\n",
    "        # After Assigning NaN values\n",
    "        if df[column].value_counts(dropna=False).index.isna().sum():\n",
    "            y = df[column].value_counts(dropna=False).loc[[np.NaN]]\n",
    "            print(f'\\nBefore Assigning: {column}:', f'have {y.values[0]} NaN Values', end='\\n')\n",
    "\n",
    "        b = df.groupby(groupby)[column].apply(list)\n",
    "        print(f'\\nAfter Assigning Example {column}:\\n', *b.head().values, sep='\\n', end='\\n')\n",
    "\n",
    "        print('***************************', end='\\n')\n",
    "    else:\n",
    "        # Show\n",
    "        return make_group_NaN_and_fill_mode(df, groupby, column, inplace)"
   ],
   "metadata": {
    "collapsed": false,
    "ExecuteTime": {
     "end_time": "2024-02-18T20:18:25.279603Z",
     "start_time": "2024-02-18T20:18:25.266505Z"
    }
   },
   "id": "c3bcd5ed122b58a5",
   "execution_count": 778
  },
  {
   "cell_type": "markdown",
   "source": [
    "Choosing the numeric variables that will be checked and transformed based on the above function. I will exclude SSN, ID and Customer_ID:"
   ],
   "metadata": {
    "collapsed": false
   },
   "id": "608197f75a6a6d7a"
  },
  {
   "cell_type": "code",
   "outputs": [
    {
     "name": "stdout",
     "output_type": "stream",
     "text": [
      "Selected numeric Features:\n",
      "\n",
      "['Annual_Income', 'Monthly_Inhand_Salary', 'Num_Bank_Accounts', 'Num_Credit_Card', 'Interest_Rate', 'Num_of_Loan', 'Delay_from_due_date', 'Num_of_Delayed_Payment', 'Changed_Credit_Limit', 'Num_Credit_Inquiries', 'Outstanding_Debt', 'Credit_Utilization_Ratio', 'Total_EMI_per_month', 'Amount_invested_monthly', 'Monthly_Balance']\n"
     ]
    }
   ],
   "source": [
    "cols_to_exclude = ['ID', 'Customer_ID', 'SSN', 'Credit_History_Age', 'Age']\n",
    "df_columns = df.select_dtypes(include=['int64', 'float64']).columns\n",
    "\n",
    "filtered_columns_without_Age = [col for col in df_columns if col not in cols_to_exclude]\n",
    "\n",
    "print('Selected numeric Features:\\n')\n",
    "print(filtered_columns_without_Age)"
   ],
   "metadata": {
    "collapsed": false,
    "ExecuteTime": {
     "end_time": "2024-02-18T20:18:25.320185Z",
     "start_time": "2024-02-18T20:18:25.281142Z"
    }
   },
   "id": "868adb9506fd65dd",
   "execution_count": 779
  },
  {
   "cell_type": "code",
   "outputs": [
    {
     "data": {
      "text/plain": "   Annual_Income  Monthly_Inhand_Salary  Num_Bank_Accounts  Num_Credit_Card  \\\n0       19114.12            1824.843333                  3                4   \n1       19114.12                    NaN                  3                4   \n2       19114.12                    NaN                  3                4   \n3       19114.12                    NaN                  3                4   \n4       19114.12            1824.843333                  3                4   \n\n   Interest_Rate  Num_of_Loan  Delay_from_due_date  Num_of_Delayed_Payment  \\\n0              3            4                    3                     7.0   \n1              3            4                   -1                     NaN   \n2              3            4                    3                     7.0   \n3              3            4                    5                     4.0   \n4              3            4                    6                     NaN   \n\n   Changed_Credit_Limit  Num_Credit_Inquiries  Outstanding_Debt  \\\n0                 11.27                   4.0            809.98   \n1                 11.27                   4.0            809.98   \n2                   NaN                   4.0            809.98   \n3                  6.27                   4.0            809.98   \n4                 11.27                   4.0            809.98   \n\n   Credit_Utilization_Ratio  Credit_History_Age  Total_EMI_per_month  \\\n0                 26.822620               265.0            49.574949   \n1                 31.944960                 NaN            49.574949   \n2                 28.609352               267.0            49.574949   \n3                 31.377862               268.0            49.574949   \n4                 24.797347               269.0            49.574949   \n\n   Amount_invested_monthly  Monthly_Balance  \n0                80.415295       312.494089  \n1               118.280222       284.629162  \n2                81.699521       331.209863  \n3               199.458074       223.451310  \n4                41.420153       341.489231  ",
      "text/html": "<div>\n<style scoped>\n    .dataframe tbody tr th:only-of-type {\n        vertical-align: middle;\n    }\n\n    .dataframe tbody tr th {\n        vertical-align: top;\n    }\n\n    .dataframe thead th {\n        text-align: right;\n    }\n</style>\n<table border=\"1\" class=\"dataframe\">\n  <thead>\n    <tr style=\"text-align: right;\">\n      <th></th>\n      <th>Annual_Income</th>\n      <th>Monthly_Inhand_Salary</th>\n      <th>Num_Bank_Accounts</th>\n      <th>Num_Credit_Card</th>\n      <th>Interest_Rate</th>\n      <th>Num_of_Loan</th>\n      <th>Delay_from_due_date</th>\n      <th>Num_of_Delayed_Payment</th>\n      <th>Changed_Credit_Limit</th>\n      <th>Num_Credit_Inquiries</th>\n      <th>Outstanding_Debt</th>\n      <th>Credit_Utilization_Ratio</th>\n      <th>Credit_History_Age</th>\n      <th>Total_EMI_per_month</th>\n      <th>Amount_invested_monthly</th>\n      <th>Monthly_Balance</th>\n    </tr>\n  </thead>\n  <tbody>\n    <tr>\n      <th>0</th>\n      <td>19114.12</td>\n      <td>1824.843333</td>\n      <td>3</td>\n      <td>4</td>\n      <td>3</td>\n      <td>4</td>\n      <td>3</td>\n      <td>7.0</td>\n      <td>11.27</td>\n      <td>4.0</td>\n      <td>809.98</td>\n      <td>26.822620</td>\n      <td>265.0</td>\n      <td>49.574949</td>\n      <td>80.415295</td>\n      <td>312.494089</td>\n    </tr>\n    <tr>\n      <th>1</th>\n      <td>19114.12</td>\n      <td>NaN</td>\n      <td>3</td>\n      <td>4</td>\n      <td>3</td>\n      <td>4</td>\n      <td>-1</td>\n      <td>NaN</td>\n      <td>11.27</td>\n      <td>4.0</td>\n      <td>809.98</td>\n      <td>31.944960</td>\n      <td>NaN</td>\n      <td>49.574949</td>\n      <td>118.280222</td>\n      <td>284.629162</td>\n    </tr>\n    <tr>\n      <th>2</th>\n      <td>19114.12</td>\n      <td>NaN</td>\n      <td>3</td>\n      <td>4</td>\n      <td>3</td>\n      <td>4</td>\n      <td>3</td>\n      <td>7.0</td>\n      <td>NaN</td>\n      <td>4.0</td>\n      <td>809.98</td>\n      <td>28.609352</td>\n      <td>267.0</td>\n      <td>49.574949</td>\n      <td>81.699521</td>\n      <td>331.209863</td>\n    </tr>\n    <tr>\n      <th>3</th>\n      <td>19114.12</td>\n      <td>NaN</td>\n      <td>3</td>\n      <td>4</td>\n      <td>3</td>\n      <td>4</td>\n      <td>5</td>\n      <td>4.0</td>\n      <td>6.27</td>\n      <td>4.0</td>\n      <td>809.98</td>\n      <td>31.377862</td>\n      <td>268.0</td>\n      <td>49.574949</td>\n      <td>199.458074</td>\n      <td>223.451310</td>\n    </tr>\n    <tr>\n      <th>4</th>\n      <td>19114.12</td>\n      <td>1824.843333</td>\n      <td>3</td>\n      <td>4</td>\n      <td>3</td>\n      <td>4</td>\n      <td>6</td>\n      <td>NaN</td>\n      <td>11.27</td>\n      <td>4.0</td>\n      <td>809.98</td>\n      <td>24.797347</td>\n      <td>269.0</td>\n      <td>49.574949</td>\n      <td>41.420153</td>\n      <td>341.489231</td>\n    </tr>\n  </tbody>\n</table>\n</div>"
     },
     "execution_count": 780,
     "metadata": {},
     "output_type": "execute_result"
    }
   ],
   "source": [
    "#checking the first 5 values per column:\n",
    "df[filtered_columns_without_Age].head()"
   ],
   "metadata": {
    "collapsed": false,
    "ExecuteTime": {
     "end_time": "2024-02-18T20:18:25.340510Z",
     "start_time": "2024-02-18T20:18:25.321761Z"
    }
   },
   "id": "d2414820eab4240a",
   "execution_count": 780
  },
  {
   "cell_type": "markdown",
   "source": [
    "Checking columns for Outliers:"
   ],
   "metadata": {
    "collapsed": false
   },
   "id": "1b0cfa00b56affbb"
  },
  {
   "cell_type": "code",
   "outputs": [
    {
     "name": "stdout",
     "output_type": "stream",
     "text": [
      "Outlier.shape: (2781, 28)\n"
     ]
    },
    {
     "data": {
      "text/plain": "(-3.0, 69.0)"
     },
     "execution_count": 781,
     "metadata": {},
     "output_type": "execute_result"
    }
   ],
   "source": [
    "get_iqr_lower_upper(df, 'Age', multiply= 1.5)"
   ],
   "metadata": {
    "collapsed": false,
    "ExecuteTime": {
     "end_time": "2024-02-18T20:18:25.353245Z",
     "start_time": "2024-02-18T20:18:25.341890Z"
    }
   },
   "id": "9b6c7d66f9c1252e",
   "execution_count": 781
  },
  {
   "cell_type": "markdown",
   "source": [
    "Fixing the values of the numeric variables ('ID', 'Customer_ID', 'SSN' are not included) :"
   ],
   "metadata": {
    "collapsed": false
   },
   "id": "1268e1cf20228e99"
  },
  {
   "cell_type": "code",
   "outputs": [
    {
     "name": "stdout",
     "output_type": "stream",
     "text": [
      "***************************\n",
      "\n",
      "Existing Min, Max Values:\n",
      "min    -500\n",
      "max    8698\n",
      "Name: Age, dtype: int64\n",
      "\n",
      "Groupby by Customer_ID's Actual min, max Values:\n",
      "min:\t14,\n",
      "max:\t56\n",
      "\n",
      "Before Assigning Example Age:\n",
      "\n",
      "[37, 38, 38, 8153, 38, 38, 38, 38]\n",
      "[48, 48, 48, 48, 48, 48, 48, 48]\n",
      "[3452, 37, 37, 37, 37, 37, 37, 37]\n",
      "[22, 22, 22, 22, 22, 22, 22, 23]\n",
      "[43, 44, 44, 44, 44, 44, 44, 44]\n",
      "\n",
      "After Assigning Example Age:\n",
      "\n",
      "[37.0, 38.0, 38.0, 38.0, 38.0, 38.0, 38.0, 38.0]\n",
      "[48.0, 48.0, 48.0, 48.0, 48.0, 48.0, 48.0, 48.0]\n",
      "[37.0, 37.0, 37.0, 37.0, 37.0, 37.0, 37.0, 37.0]\n",
      "[22.0, 22.0, 22.0, 22.0, 22.0, 22.0, 22.0, 23.0]\n",
      "[43.0, 44.0, 44.0, 44.0, 44.0, 44.0, 44.0, 44.0]\n",
      "***************************\n"
     ]
    }
   ],
   "source": [
    "Numeric_Wrong_Values_Reassign_Group_Min_Max(df, 'Customer_ID', 'Age')"
   ],
   "metadata": {
    "collapsed": false,
    "ExecuteTime": {
     "end_time": "2024-02-18T20:18:37.352155Z",
     "start_time": "2024-02-18T20:18:25.354985Z"
    }
   },
   "id": "97c5a546fb058b5",
   "execution_count": 782
  },
  {
   "cell_type": "markdown",
   "source": [
    "Applying the above function to fix the values of numeric features contained in the list filtered_columns_without_Age:"
   ],
   "metadata": {
    "collapsed": false
   },
   "id": "a67e1e3b96d32dbd"
  },
  {
   "cell_type": "code",
   "outputs": [
    {
     "name": "stdout",
     "output_type": "stream",
     "text": [
      "***************************\n",
      "\n",
      "Existing Min, Max Values:\n",
      "min        7005.93\n",
      "max    24198062.00\n",
      "Name: Annual_Income, dtype: float64\n",
      "\n",
      "Groupby by Customer_ID's Actual min, max Values:\n",
      "min:\t7005.93,\n",
      "max:\t179987.28\n",
      "\n",
      "Before Assigning Example Annual_Income:\n",
      "\n",
      "[16756.18, 16756.18, 16756.18, 16756.18, 16756.18, 16756.18, 16756.18, 16756.18]\n",
      "[21212.91, 21212.91, 21212.91, 21212.91, 21212.91, 21212.91, 21212.91, 21212.91]\n",
      "[33540.43, 33540.43, 33540.43, 33540.43, 33540.43, 33540.43, 33540.43, 33540.43]\n",
      "[80983.64, 80983.64, 80983.64, 80983.64, 80983.64, 80983.64, 80983.64, 80983.64]\n",
      "[104142.56, 104142.56, 104142.56, 104142.56, 104142.56, 104142.56, 104142.56, 104142.56]\n",
      "\n",
      "After Assigning Example Annual_Income:\n",
      "\n",
      "[16756.18, 16756.18, 16756.18, 16756.18, 16756.18, 16756.18, 16756.18, 16756.18]\n",
      "[21212.91, 21212.91, 21212.91, 21212.91, 21212.91, 21212.91, 21212.91, 21212.91]\n",
      "[33540.43, 33540.43, 33540.43, 33540.43, 33540.43, 33540.43, 33540.43, 33540.43]\n",
      "[80983.64, 80983.64, 80983.64, 80983.64, 80983.64, 80983.64, 80983.64, 80983.64]\n",
      "[104142.56, 104142.56, 104142.56, 104142.56, 104142.56, 104142.56, 104142.56, 104142.56]\n",
      "***************************\n",
      "***************************\n",
      "\n",
      "Before Assigning: Monthly_Inhand_Salary: have 15002 NaN Values\n",
      "\n",
      "Existing Min, Max Values:\n",
      "min      303.645417\n",
      "max    15204.633333\n",
      "Name: Monthly_Inhand_Salary, dtype: float64\n",
      "\n",
      "Groupby by Customer_ID's Actual min, max Values:\n",
      "min:\t303.6454166666666,\n",
      "max:\t15204.633333333331\n",
      "\n",
      "Before Assigning Example Monthly_Inhand_Salary:\n",
      "\n",
      "[1331.3483333333334, 1331.3483333333334, 1331.3483333333334, 1331.3483333333334, 1331.3483333333334, 1331.3483333333334, 1331.3483333333334, 1331.3483333333334]\n",
      "[1496.7425, 1496.7425, 1496.7425, 1496.7425, nan, 1496.7425, 1496.7425, 1496.7425]\n",
      "[2655.035833333333, 2655.035833333333, 2655.035833333333, 2655.035833333333, 2655.035833333333, 2655.035833333333, 2655.035833333333, 2655.035833333333]\n",
      "[6692.636666666666, 6692.636666666666, 6692.636666666666, 6692.636666666666, 6692.636666666666, 6692.636666666666, 6692.636666666666, 6692.636666666666]\n",
      "[8433.546666666667, 8433.546666666667, 8433.546666666667, 8433.546666666667, 8433.546666666667, 8433.546666666667, 8433.546666666667, nan]\n",
      "\n",
      "After Assigning Example Monthly_Inhand_Salary:\n",
      "\n",
      "[1331.3483333333334, 1331.3483333333334, 1331.3483333333334, 1331.3483333333334, 1331.3483333333334, 1331.3483333333334, 1331.3483333333334, 1331.3483333333334]\n",
      "[1496.7425, 1496.7425, 1496.7425, 1496.7425, 1496.7425, 1496.7425, 1496.7425, 1496.7425]\n",
      "[2655.035833333333, 2655.035833333333, 2655.035833333333, 2655.035833333333, 2655.035833333333, 2655.035833333333, 2655.035833333333, 2655.035833333333]\n",
      "[6692.636666666666, 6692.636666666666, 6692.636666666666, 6692.636666666666, 6692.636666666666, 6692.636666666666, 6692.636666666666, 6692.636666666666]\n",
      "[8433.546666666667, 8433.546666666667, 8433.546666666667, 8433.546666666667, 8433.546666666667, 8433.546666666667, 8433.546666666667, 8433.546666666667]\n",
      "***************************\n",
      "***************************\n",
      "\n",
      "Existing Min, Max Values:\n",
      "min      -1\n",
      "max    1798\n",
      "Name: Num_Bank_Accounts, dtype: int64\n",
      "\n",
      "Groupby by Customer_ID's Actual min, max Values:\n",
      "min:\t-1,\n",
      "max:\t10\n",
      "\n",
      "Before Assigning Example Num_Bank_Accounts:\n",
      "\n",
      "[9, 9, 9, 9, 9, 9, 9, 9]\n",
      "[3, 3, 3, 1174, 3, 3, 3, 3]\n",
      "[6, 6, 6, 6, 6, 6, 6, 6]\n",
      "[6, 6, 6, 6, 6, 6, 6, 6]\n",
      "[3, 3, 3, 3, 3, 3, 3, 3]\n",
      "\n",
      "After Assigning Example Num_Bank_Accounts:\n",
      "\n",
      "[9.0, 9.0, 9.0, 9.0, 9.0, 9.0, 9.0, 9.0]\n",
      "[3.0, 3.0, 3.0, 3.0, 3.0, 3.0, 3.0, 3.0]\n",
      "[6.0, 6.0, 6.0, 6.0, 6.0, 6.0, 6.0, 6.0]\n",
      "[6.0, 6.0, 6.0, 6.0, 6.0, 6.0, 6.0, 6.0]\n",
      "[3.0, 3.0, 3.0, 3.0, 3.0, 3.0, 3.0, 3.0]\n",
      "***************************\n",
      "***************************\n",
      "\n",
      "Existing Min, Max Values:\n",
      "min       0\n",
      "max    1499\n",
      "Name: Num_Credit_Card, dtype: int64\n",
      "\n",
      "Groupby by Customer_ID's Actual min, max Values:\n",
      "min:\t0,\n",
      "max:\t11\n",
      "\n",
      "Before Assigning Example Num_Credit_Card:\n",
      "\n",
      "[6, 6, 6, 6, 6, 6, 6, 6]\n",
      "[4, 4, 4, 4, 4, 4, 4, 888]\n",
      "[3, 3, 3, 3, 3, 3, 3, 3]\n",
      "[3, 3, 3, 3, 725, 3, 3, 3]\n",
      "[5, 5, 5, 5, 5, 5, 5, 5]\n",
      "\n",
      "After Assigning Example Num_Credit_Card:\n",
      "\n",
      "[6.0, 6.0, 6.0, 6.0, 6.0, 6.0, 6.0, 6.0]\n",
      "[4.0, 4.0, 4.0, 4.0, 4.0, 4.0, 4.0, 4.0]\n",
      "[3.0, 3.0, 3.0, 3.0, 3.0, 3.0, 3.0, 3.0]\n",
      "[3.0, 3.0, 3.0, 3.0, 3.0, 3.0, 3.0, 3.0]\n",
      "[5.0, 5.0, 5.0, 5.0, 5.0, 5.0, 5.0, 5.0]\n",
      "***************************\n",
      "***************************\n",
      "\n",
      "Existing Min, Max Values:\n",
      "min       1\n",
      "max    5797\n",
      "Name: Interest_Rate, dtype: int64\n",
      "\n",
      "Groupby by Customer_ID's Actual min, max Values:\n",
      "min:\t1,\n",
      "max:\t34\n",
      "\n",
      "Before Assigning Example Interest_Rate:\n",
      "\n",
      "[22, 22, 22, 22, 22, 22, 22, 22]\n",
      "[10, 10, 10, 10, 10, 10, 10, 10]\n",
      "[17, 17, 17, 17, 17, 17, 17, 17]\n",
      "[15, 15, 15, 15, 15, 15, 15, 15]\n",
      "[5, 5, 5, 5, 5, 5, 5, 5]\n",
      "\n",
      "After Assigning Example Interest_Rate:\n",
      "\n",
      "[22.0, 22.0, 22.0, 22.0, 22.0, 22.0, 22.0, 22.0]\n",
      "[10.0, 10.0, 10.0, 10.0, 10.0, 10.0, 10.0, 10.0]\n",
      "[17.0, 17.0, 17.0, 17.0, 17.0, 17.0, 17.0, 17.0]\n",
      "[15.0, 15.0, 15.0, 15.0, 15.0, 15.0, 15.0, 15.0]\n",
      "[5.0, 5.0, 5.0, 5.0, 5.0, 5.0, 5.0, 5.0]\n",
      "***************************\n",
      "***************************\n",
      "\n",
      "Existing Min, Max Values:\n",
      "min    -100\n",
      "max    1496\n",
      "Name: Num_of_Loan, dtype: int64\n",
      "\n",
      "Groupby by Customer_ID's Actual min, max Values:\n",
      "min:\t0,\n",
      "max:\t9\n",
      "\n",
      "Before Assigning Example Num_of_Loan:\n",
      "\n",
      "[2, 2, 2, 2, 2, 2, 2, 2]\n",
      "[3, 3, 3, 3, -100, 3, 3, 3]\n",
      "[0, 0, 0, 0, 0, 0, 0, 0]\n",
      "[4, 4, 4, 4, 4, 4, 4, 4]\n",
      "[3, 3, 3, 3, 3, 3, 3, 3]\n",
      "\n",
      "After Assigning Example Num_of_Loan:\n",
      "\n",
      "[2.0, 2.0, 2.0, 2.0, 2.0, 2.0, 2.0, 2.0]\n",
      "[3.0, 3.0, 3.0, 3.0, 3.0, 3.0, 3.0, 3.0]\n",
      "[0.0, 0.0, 0.0, 0.0, 0.0, 0.0, 0.0, 0.0]\n",
      "[4.0, 4.0, 4.0, 4.0, 4.0, 4.0, 4.0, 4.0]\n",
      "[3.0, 3.0, 3.0, 3.0, 3.0, 3.0, 3.0, 3.0]\n",
      "***************************\n",
      "***************************\n",
      "\n",
      "Existing Min, Max Values:\n",
      "min    -5\n",
      "max    67\n",
      "Name: Delay_from_due_date, dtype: int64\n",
      "\n",
      "Groupby by Customer_ID's Actual min, max Values:\n",
      "min:\t-5,\n",
      "max:\t62\n",
      "\n",
      "Before Assigning Example Delay_from_due_date:\n",
      "\n",
      "[48, 48, 48, 48, 48, 48, 48, 48]\n",
      "[19, 19, 19, 19, 19, 19, 19, 16]\n",
      "[25, 28, 22, 26, 26, 26, 26, 26]\n",
      "[19, 19, 19, 19, 19, 19, 19, 19]\n",
      "[15, 15, 20, 16, 20, 20, 20, 24]\n",
      "\n",
      "After Assigning Example Delay_from_due_date:\n",
      "\n",
      "[48.0, 48.0, 48.0, 48.0, 48.0, 48.0, 48.0, 48.0]\n",
      "[19.0, 19.0, 19.0, 19.0, 19.0, 19.0, 19.0, 16.0]\n",
      "[25.0, 28.0, 22.0, 26.0, 26.0, 26.0, 26.0, 26.0]\n",
      "[19.0, 19.0, 19.0, 19.0, 19.0, 19.0, 19.0, 19.0]\n",
      "[15.0, 15.0, 20.0, 16.0, 20.0, 20.0, 20.0, 24.0]\n",
      "***************************\n",
      "***************************\n",
      "\n",
      "Before Assigning: Num_of_Delayed_Payment: have 7002 NaN Values\n",
      "\n",
      "Existing Min, Max Values:\n",
      "min      -3.0\n",
      "max    4397.0\n",
      "Name: Num_of_Delayed_Payment, dtype: float64\n",
      "\n",
      "Groupby by Customer_ID's Actual min, max Values:\n",
      "min:\t-2.0,\n",
      "max:\t28.0\n",
      "\n",
      "Before Assigning Example Num_of_Delayed_Payment:\n",
      "\n",
      "[10.0, 12.0, 12.0, 13.0, nan, 12.0, 11.0, 12.0]\n",
      "[19.0, 19.0, 19.0, 19.0, 19.0, 21.0, 20.0, 19.0]\n",
      "[11.0, 11.0, 11.0, nan, 11.0, nan, 11.0, 13.0]\n",
      "[18.0, 18.0, 18.0, 18.0, 18.0, nan, 20.0, 18.0]\n",
      "[17.0, 16.0, 14.0, nan, 17.0, 14.0, 11.0, 14.0]\n",
      "\n",
      "After Assigning Example Num_of_Delayed_Payment:\n",
      "\n",
      "[10.0, 12.0, 12.0, 13.0, 12.0, 12.0, 11.0, 12.0]\n",
      "[19.0, 19.0, 19.0, 19.0, 19.0, 21.0, 20.0, 19.0]\n",
      "[11.0, 11.0, 11.0, 11.0, 11.0, 11.0, 11.0, 13.0]\n",
      "[18.0, 18.0, 18.0, 18.0, 18.0, 18.0, 20.0, 18.0]\n",
      "[17.0, 16.0, 14.0, 14.0, 17.0, 14.0, 11.0, 14.0]\n",
      "***************************\n",
      "***************************\n",
      "\n",
      "Before Assigning: Changed_Credit_Limit: have 2091 NaN Values\n",
      "\n",
      "Existing Min, Max Values:\n",
      "min    -6.49\n",
      "max    36.97\n",
      "Name: Changed_Credit_Limit, dtype: float64\n",
      "\n",
      "Groupby by Customer_ID's Actual min, max Values:\n",
      "min:\t-5.01,\n",
      "max:\t29.98\n",
      "\n",
      "Before Assigning Example Changed_Credit_Limit:\n",
      "\n",
      "[10.66, 10.66, 10.66, 10.66, 10.66, 10.66, 10.66, 10.66]\n",
      "[12.13, 5.13, 5.13, 5.13, 5.13, 2.13, 5.13, 5.13]\n",
      "[14.11, 14.11, 14.11, 14.11, 14.11, 14.11, 14.11, 14.11]\n",
      "[16.91, 16.91, 16.91, 16.91, 16.91, 16.91, 19.91, 16.91]\n",
      "[15.28, 15.28, 15.28, 15.28, 19.28, 15.28, 15.28, 15.28]\n",
      "\n",
      "After Assigning Example Changed_Credit_Limit:\n",
      "\n",
      "[10.66, 10.66, 10.66, 10.66, 10.66, 10.66, 10.66, 10.66]\n",
      "[12.13, 5.13, 5.13, 5.13, 5.13, 2.13, 5.13, 5.13]\n",
      "[14.11, 14.11, 14.11, 14.11, 14.11, 14.11, 14.11, 14.11]\n",
      "[16.91, 16.91, 16.91, 16.91, 16.91, 16.91, 19.91, 16.91]\n",
      "[15.28, 15.28, 15.28, 15.28, 19.28, 15.28, 15.28, 15.28]\n",
      "***************************\n",
      "***************************\n",
      "\n",
      "Before Assigning: Num_Credit_Inquiries: have 1965 NaN Values\n",
      "\n",
      "Existing Min, Max Values:\n",
      "min       0.0\n",
      "max    2597.0\n",
      "Name: Num_Credit_Inquiries, dtype: float64\n",
      "\n",
      "Groupby by Customer_ID's Actual min, max Values:\n",
      "min:\t0.0,\n",
      "max:\t17.0\n",
      "\n",
      "Before Assigning Example Num_Credit_Inquiries:\n",
      "\n",
      "[nan, 8.0, 8.0, 8.0, 8.0, 8.0, 8.0, 8.0]\n",
      "[1.0, 1.0, 1.0, 1.0, 1196.0, 1.0, 1.0, 1.0]\n",
      "[6.0, 10.0, 10.0, 10.0, 10.0, 10.0, 10.0, 10.0]\n",
      "[7.0, 7.0, 7.0, 7.0, 7.0, 7.0, 7.0, 7.0]\n",
      "[6.0, 6.0, 6.0, 6.0, 6.0, 6.0, 6.0, 692.0]\n",
      "\n",
      "After Assigning Example Num_Credit_Inquiries:\n",
      "\n",
      "[8.0, 8.0, 8.0, 8.0, 8.0, 8.0, 8.0, 8.0]\n",
      "[1.0, 1.0, 1.0, 1.0, 1.0, 1.0, 1.0, 1.0]\n",
      "[6.0, 10.0, 10.0, 10.0, 10.0, 10.0, 10.0, 10.0]\n",
      "[7.0, 7.0, 7.0, 7.0, 7.0, 7.0, 7.0, 7.0]\n",
      "[6.0, 6.0, 6.0, 6.0, 6.0, 6.0, 6.0, 6.0]\n",
      "***************************\n",
      "***************************\n",
      "\n",
      "Existing Min, Max Values:\n",
      "min       0.23\n",
      "max    4998.07\n",
      "Name: Outstanding_Debt, dtype: float64\n",
      "\n",
      "Groupby by Customer_ID's Actual min, max Values:\n",
      "min:\t0.23,\n",
      "max:\t4998.07\n",
      "\n",
      "Before Assigning Example Outstanding_Debt:\n",
      "\n",
      "[1941.73, 1941.73, 1941.73, 1941.73, 1941.73, 1941.73, 1941.73, 1941.73]\n",
      "[993.15, 993.15, 993.15, 993.15, 993.15, 993.15, 993.15, 993.15]\n",
      "[1138.97, 1138.97, 1138.97, 1138.97, 1138.97, 1138.97, 1138.97, 1138.97]\n",
      "[982.44, 982.44, 982.44, 982.44, 982.44, 982.44, 982.44, 982.44]\n",
      "[1371.8, 1371.8, 1371.8, 1371.8, 1371.8, 1371.8, 1371.8, 1371.8]\n",
      "\n",
      "After Assigning Example Outstanding_Debt:\n",
      "\n",
      "[1941.73, 1941.73, 1941.73, 1941.73, 1941.73, 1941.73, 1941.73, 1941.73]\n",
      "[993.15, 993.15, 993.15, 993.15, 993.15, 993.15, 993.15, 993.15]\n",
      "[1138.97, 1138.97, 1138.97, 1138.97, 1138.97, 1138.97, 1138.97, 1138.97]\n",
      "[982.44, 982.44, 982.44, 982.44, 982.44, 982.44, 982.44, 982.44]\n",
      "[1371.8, 1371.8, 1371.8, 1371.8, 1371.8, 1371.8, 1371.8, 1371.8]\n",
      "***************************\n",
      "***************************\n",
      "\n",
      "Existing Min, Max Values:\n",
      "min    20.0\n",
      "max    50.0\n",
      "Name: Credit_Utilization_Ratio, dtype: float64\n",
      "\n",
      "Groupby by Customer_ID's Actual min, max Values:\n",
      "min:\t20.0,\n",
      "max:\t38.112156538421054\n",
      "\n",
      "Before Assigning Example Credit_Utilization_Ratio:\n",
      "\n",
      "[37.50111071792645, 34.71219303817161, 32.190497044745214, 33.725603208917626, 38.75526963880079, 27.197483720372038, 23.92441415360184, 25.812502017879236]\n",
      "[35.26898268006693, 37.65563824729004, 30.002611789154702, 37.47495182470145, 35.00431973748047, 35.558387732417046, 40.63315625911026, 38.91186246876629]\n",
      "[27.81624367045088, 28.344653717555488, 33.265152007065595, 28.32911097993429, 30.188910422231068, 25.153072158598604, 32.725142841148184, 23.68388953549105]\n",
      "[39.75512589865463, 27.643970347970296, 34.8338413934824, 36.99605550422624, 39.714598697336, 37.80411799395437, 33.39388420698539, 27.28075142717725]\n",
      "[26.89018964694569, 36.63375350184156, 36.18740911022528, 30.47606543023181, 35.93288486047006, 32.785393807194986, 33.64784862447917, 36.33950238493088]\n",
      "\n",
      "After Assigning Example Credit_Utilization_Ratio:\n",
      "\n",
      "[37.50111071792645, 34.71219303817161, 32.190497044745214, 33.725603208917626, 23.92441415360184, 27.197483720372038, 23.92441415360184, 25.812502017879236]\n",
      "[35.26898268006693, 37.65563824729004, 30.002611789154702, 37.47495182470145, 35.00431973748047, 35.558387732417046, 30.002611789154702, 30.002611789154702]\n",
      "[27.81624367045088, 28.344653717555488, 33.265152007065595, 28.32911097993429, 30.188910422231068, 25.153072158598604, 32.725142841148184, 23.68388953549105]\n",
      "[27.28075142717725, 27.643970347970296, 34.8338413934824, 36.99605550422624, 27.28075142717725, 37.80411799395437, 33.39388420698539, 27.28075142717725]\n",
      "[26.89018964694569, 36.63375350184156, 36.18740911022528, 30.47606543023181, 35.93288486047006, 32.785393807194986, 33.64784862447917, 36.33950238493088]\n",
      "***************************\n",
      "***************************\n",
      "\n",
      "Existing Min, Max Values:\n",
      "min        0.0\n",
      "max    82331.0\n",
      "Name: Total_EMI_per_month, dtype: float64\n",
      "\n",
      "Groupby by Customer_ID's Actual min, max Values:\n",
      "min:\t0.0,\n",
      "max:\t1779.1032538262775\n",
      "\n",
      "Before Assigning Example Total_EMI_per_month:\n",
      "\n",
      "[27.44208910654816, 27.44208910654816, 27.44208910654816, 27.44208910654816, 27.44208910654816, 27.44208910654816, 27.44208910654816, 32972.0]\n",
      "[45.74570037068675, 45.74570037068675, 45.74570037068675, 45.74570037068675, 45.74570037068675, 45.74570037068675, 45.74570037068675, 45.74570037068675]\n",
      "[0.0, 0.0, 0.0, 0.0, 0.0, 0.0, 0.0, 0.0]\n",
      "[188.45659522353543, 188.45659522353543, 188.45659522353543, 188.45659522353543, 188.45659522353543, 188.45659522353543, 188.45659522353543, 188.45659522353543]\n",
      "[257.7386460249556, 257.7386460249556, 257.7386460249556, 257.7386460249556, 257.7386460249556, 257.7386460249556, 257.7386460249556, 257.7386460249556]\n",
      "\n",
      "After Assigning Example Total_EMI_per_month:\n",
      "\n",
      "[27.44208910654816, 27.44208910654816, 27.44208910654816, 27.44208910654816, 27.44208910654816, 27.44208910654816, 27.44208910654816, 27.44208910654816]\n",
      "[45.74570037068675, 45.74570037068675, 45.74570037068675, 45.74570037068675, 45.74570037068675, 45.74570037068675, 45.74570037068675, 45.74570037068675]\n",
      "[0.0, 0.0, 0.0, 0.0, 0.0, 0.0, 0.0, 0.0]\n",
      "[188.45659522353543, 188.45659522353543, 188.45659522353543, 188.45659522353543, 188.45659522353543, 188.45659522353543, 188.45659522353543, 188.45659522353543]\n",
      "[257.7386460249556, 257.7386460249556, 257.7386460249556, 257.7386460249556, 257.7386460249556, 257.7386460249556, 257.7386460249556, 257.7386460249556]\n",
      "***************************\n",
      "***************************\n",
      "\n",
      "Before Assigning: Amount_invested_monthly: have 4479 NaN Values\n",
      "\n",
      "Existing Min, Max Values:\n",
      "min        0.0\n",
      "max    10000.0\n",
      "Name: Amount_invested_monthly, dtype: float64\n",
      "\n",
      "Groupby by Customer_ID's Actual min, max Values:\n",
      "min:\t0.0,\n",
      "max:\t10000.0\n",
      "\n",
      "Before Assigning Example Amount_invested_monthly:\n",
      "\n",
      "[45.30106826949194, 90.07842318605292, 61.73271462991577, 56.4949816634165, 51.726244263612, 60.82828780912217, 95.6486475869488, 66.71824831147686]\n",
      "[30.373471914127194, 44.31995483866171, nan, 62.81248610216079, 148.30956484525, 10000.0, 59.30896122323683, 118.54244614778156]\n",
      "[118.8806978910128, nan, 337.1997406214716, 170.8689598433119, 74.1980692925824, 105.4573791889266, 197.85037247610126, 165.20443547590202]\n",
      "[149.37725143584314, 146.97809602243544, 101.12020124815511, 492.3974911743151, 264.1791118544216, 261.69017894140734, 200.64143588981403, 126.07161584554541]\n",
      "[292.2127037381353, nan, 187.59489650806347, 275.635709774446, 487.8062062008502, nan, 124.29952362711306, 481.7990883470461]\n",
      "\n",
      "After Assigning Example Amount_invested_monthly:\n",
      "\n",
      "[45.30106826949194, 90.07842318605292, 61.73271462991577, 56.4949816634165, 51.726244263612, 60.82828780912217, 95.6486475869488, 66.71824831147686]\n",
      "[30.373471914127194, 44.31995483866171, 30.373471914127194, 62.81248610216079, 148.30956484525, 10000.0, 59.30896122323683, 118.54244614778156]\n",
      "[118.8806978910128, 74.1980692925824, 337.1997406214716, 170.8689598433119, 74.1980692925824, 105.4573791889266, 197.85037247610126, 165.20443547590202]\n",
      "[149.37725143584314, 146.97809602243544, 101.12020124815511, 492.3974911743151, 264.1791118544216, 261.69017894140734, 200.64143588981403, 126.07161584554541]\n",
      "[292.2127037381353, 124.29952362711306, 187.59489650806347, 275.635709774446, 487.8062062008502, 124.29952362711306, 124.29952362711306, 481.7990883470461]\n",
      "***************************\n",
      "***************************\n",
      "\n",
      "Before Assigning: Monthly_Balance: have 1200 NaN Values\n",
      "\n",
      "Existing Min, Max Values:\n",
      "min   -3.333333e+26\n",
      "max    1.602041e+03\n",
      "Name: Monthly_Balance, dtype: float64\n",
      "\n",
      "Groupby by Customer_ID's Actual min, max Values:\n",
      "min:\t-3.333333333333333e+26,\n",
      "max:\t1183.9306960885192\n",
      "\n",
      "Before Assigning Example Monthly_Balance:\n",
      "\n",
      "[310.39167595729333, 295.61432104073225, 333.9600295968694, 309.1977625633686, 323.9664999631732, 334.864456417663, 280.04409663983637, 328.97449591530835]\n",
      "[323.5550777151861, 309.6085947906515, 265.4874646531188, 291.11606352715245, 245.61898478406326, 239.46481499922072, 334.61958840607645, 275.3861034815317]\n",
      "[406.62288544232047, 350.39351957834924, 218.30384271186168, 354.63462349002145, 441.30551404075095, 420.04620414440666, 337.6532108572321, 370.2991478574313]\n",
      "[581.4298200072883, 573.8289754206959, 629.6868701949761, 258.40958026881617, 496.6279595887097, 489.116892501724, 560.1656355533173, 594.7354555975859]\n",
      "[553.4033169035758, 228.71773015063442, 648.0211241336477, 579.9803108672652, 377.809814440861, nan, 701.3164970145981, 383.81693229466515]\n",
      "\n",
      "After Assigning Example Monthly_Balance:\n",
      "\n",
      "[310.39167595729333, 295.61432104073225, 333.9600295968694, 309.1977625633686, 323.9664999631732, 334.864456417663, 280.04409663983637, 328.97449591530835]\n",
      "[323.5550777151861, 309.6085947906515, 265.4874646531188, 291.11606352715245, 245.61898478406326, 239.46481499922072, 334.61958840607645, 275.3861034815317]\n",
      "[406.62288544232047, 350.39351957834924, 218.30384271186168, 354.63462349002145, 441.30551404075095, 420.04620414440666, 337.6532108572321, 370.2991478574313]\n",
      "[581.4298200072883, 573.8289754206959, 629.6868701949761, 258.40958026881617, 496.6279595887097, 489.116892501724, 560.1656355533173, 594.7354555975859]\n",
      "[553.4033169035758, 228.71773015063442, 648.0211241336477, 579.9803108672652, 377.809814440861, 228.71773015063442, 701.3164970145981, 383.81693229466515]\n",
      "***************************\n"
     ]
    }
   ],
   "source": [
    "for cols in filtered_columns_without_Age:\n",
    "    Numeric_Wrong_Values_Reassign_Group_Min_Max(df, 'Customer_ID', cols)"
   ],
   "metadata": {
    "collapsed": false,
    "ExecuteTime": {
     "end_time": "2024-02-18T20:21:31.119725Z",
     "start_time": "2024-02-18T20:18:37.353852Z"
    }
   },
   "id": "11a13f53f44f7dcd",
   "execution_count": 783
  },
  {
   "cell_type": "markdown",
   "source": [
    "The code below:\n",
    "Use the apply() method. The function defined here is a lambda function, which applies interpolate(), bfill(), and ffill() methods:\n",
    "\n",
    "- interpolate(): This function fills missing values in the Credit_History_Age column with interpolated values (values that fall between the two surrounding values).\n",
    "- bfill(): Stands for 'backward fill' and will fill the missing values in the Credit_History_Age column with the value in the next row of the DataFrame within each group.\n",
    "- ffill(): Stands for 'forward fill' and will fill the missing values in the Credit_History_Age column with the value in the previous row of the DataFrame within each group.\n",
    "\n",
    "So, in essence, this line of code is filling the missing values in the Credit_History_Age column for each customer (grouped by Customer_ID) with interpolated values and then using the backward fill and forward fill methods to replace all remaining missing values."
   ],
   "metadata": {
    "collapsed": false
   },
   "id": "4cc1293b445e0645"
  },
  {
   "cell_type": "code",
   "outputs": [],
   "source": [
    "df['Credit_History_Age'] = df.groupby('Customer_ID')['Credit_History_Age'].apply(lambda x: x.interpolate().bfill().ffill()).reset_index(level=0, drop=True)"
   ],
   "metadata": {
    "collapsed": false,
    "ExecuteTime": {
     "end_time": "2024-02-18T20:21:36.544756Z",
     "start_time": "2024-02-18T20:21:31.120943Z"
    }
   },
   "id": "fac5fb72d898dda0",
   "execution_count": 784
  },
  {
   "cell_type": "markdown",
   "source": [
    "Checking df Dataframe:"
   ],
   "metadata": {
    "collapsed": false
   },
   "id": "540381e2192f3354"
  },
  {
   "cell_type": "code",
   "outputs": [
    {
     "data": {
      "text/plain": "ID                              0\nCustomer_ID                     0\nMonth                           0\nName                         9985\nAge                             0\nSSN                          5572\nOccupation                      0\nAnnual_Income                   0\nMonthly_Inhand_Salary           0\nNum_Bank_Accounts               0\nNum_Credit_Card                 0\nInterest_Rate                   0\nNum_of_Loan                     0\nType_of_Loan                11408\nDelay_from_due_date             0\nNum_of_Delayed_Payment          0\nChanged_Credit_Limit            0\nNum_Credit_Inquiries            0\nCredit_Mix                      0\nOutstanding_Debt                0\nCredit_Utilization_Ratio        0\nCredit_History_Age              0\nPayment_of_Min_Amount           0\nTotal_EMI_per_month             0\nAmount_invested_monthly         0\nPayment_Behaviour               0\nMonthly_Balance                 0\nCredit_Score                    0\ndtype: int64"
     },
     "execution_count": 785,
     "metadata": {},
     "output_type": "execute_result"
    }
   ],
   "source": [
    "df.isna().sum()"
   ],
   "metadata": {
    "collapsed": false,
    "ExecuteTime": {
     "end_time": "2024-02-18T20:21:36.596695Z",
     "start_time": "2024-02-18T20:21:36.546868Z"
    }
   },
   "id": "b71f2d706570c0c6",
   "execution_count": 785
  },
  {
   "cell_type": "code",
   "outputs": [
    {
     "data": {
      "text/plain": "(100000, 28)"
     },
     "execution_count": 786,
     "metadata": {},
     "output_type": "execute_result"
    }
   ],
   "source": [
    "df.shape"
   ],
   "metadata": {
    "collapsed": false,
    "ExecuteTime": {
     "end_time": "2024-02-18T20:21:36.603589Z",
     "start_time": "2024-02-18T20:21:36.598804Z"
    }
   },
   "id": "631e92908104954e",
   "execution_count": 786
  },
  {
   "cell_type": "markdown",
   "source": [
    "**Extra checks on variables**:\n",
    "- Num_Bank_Accounts\n",
    "- Delay_from_due_date\n",
    "- Num_of_Delayed_Payment\n",
    "- Monthly_Balance (has negative strange numbers)\n",
    "- Amount_invested_monthly (has positive strange number)"
   ],
   "metadata": {
    "collapsed": false
   },
   "id": "872ccba46ba2d7e"
  },
  {
   "cell_type": "markdown",
   "source": [
    "Finding the Customer IDs which have 'Num_Bank_Accounts' < 0 :"
   ],
   "metadata": {
    "collapsed": false
   },
   "id": "f381f758857213da"
  },
  {
   "cell_type": "code",
   "outputs": [
    {
     "data": {
      "text/plain": "array([20266, 43128, 17340, 22931])"
     },
     "execution_count": 787,
     "metadata": {},
     "output_type": "execute_result"
    }
   ],
   "source": [
    "df[df['Num_Bank_Accounts']<0]['Customer_ID'].unique()"
   ],
   "metadata": {
    "collapsed": false,
    "ExecuteTime": {
     "end_time": "2024-02-18T20:21:36.611369Z",
     "start_time": "2024-02-18T20:21:36.605119Z"
    }
   },
   "id": "5d892e7422ff83eb",
   "execution_count": 787
  },
  {
   "cell_type": "markdown",
   "source": [
    "4 Customer IDs have 'Num_Bank_Accounts' < 0. Now I will replace it to zero:"
   ],
   "metadata": {
    "collapsed": false
   },
   "id": "feab5e07e6b360f0"
  },
  {
   "cell_type": "code",
   "outputs": [],
   "source": [
    "df.loc[df['Num_Bank_Accounts']<0, 'Num_Bank_Accounts'] = 0"
   ],
   "metadata": {
    "collapsed": false,
    "ExecuteTime": {
     "end_time": "2024-02-18T20:21:36.616725Z",
     "start_time": "2024-02-18T20:21:36.613086Z"
    }
   },
   "id": "72d828564b6e016e",
   "execution_count": 788
  },
  {
   "cell_type": "markdown",
   "source": [
    "Finding the Customer IDs which have 'Delay_from_due_date' < 0 :"
   ],
   "metadata": {
    "collapsed": false
   },
   "id": "fd975bed7dd47eef"
  },
  {
   "cell_type": "code",
   "outputs": [
    {
     "data": {
      "text/plain": "array([ 3392, 10314, 47624, 49323, 29152,  8970,  6806, 50592, 39249,\n       37013, 10251, 35602, 21293, 25414, 33107,  7486,  8086, 34447,\n       16606, 34429, 46990, 46716,  1345, 23479, 47754, 34344, 18364,\n       48117, 26588, 13075, 37628,  6099, 25714, 35593, 11139,  9918,\n       34581, 11176,  3111, 50221, 24967,  2341, 39348, 31884, 43042,\n       45474, 45380, 17203, 38196, 20457, 39199,  5636, 48972, 34701,\n       29149, 47242, 41376, 49612, 27608, 18007, 34215, 39945, 35520,\n       45442, 25254,  1933, 46251, 30833,  7980, 14398, 42740, 20552,\n       14909,  7702, 31516, 33829, 49400, 24126, 10147,  2738,  8668,\n       38566, 38293, 44761, 30315, 21183,  9085, 23713, 49882, 12828,\n        7344,  5703, 31079, 29088, 28707, 22029, 28014, 42133, 30982,\n       26811,  2227,  6345, 17242, 41487,  1645, 36766, 38938, 42510,\n       50037, 31866, 14850, 19248, 18498, 21096, 20132, 47316, 11167,\n       49593, 44503, 43834, 43059, 18461, 13949, 22966, 35079, 10548,\n       44315,  8292, 35615,  7485, 20759, 40630, 12335,  4640,  2228,\n       18818, 36719, 17544, 19677, 49115, 45389, 49133,  5232, 11652,\n       18501, 50778, 16972, 13181, 33902, 35432, 27011,  4578, 39919,\n       19185, 14465,  1144, 17514, 48100, 11127,  4713, 42520,  1052,\n        4086, 13422,  4923, 32180, 32314, 15100, 15995, 11733, 40657,\n       35586, 41419, 25283,  9905, 46996, 23374,  3556, 20348, 20322,\n       30549, 50332, 46863,  6244,  4170, 14905, 32587,  4022,  7868,\n        9919, 10584, 17886, 33967,  3408,  4798, 38650, 28671, 19407,\n       20990, 19569, 30646, 45057, 43561, 27791, 50666, 17732, 43661,\n       32770, 49291, 14000, 30071,  3439, 14560,  4399, 24918, 18373,\n       50944, 35210, 33603, 34631, 46221, 22325, 14396,  5019, 38132,\n       28888,  1786, 30568, 32271, 29222, 19882, 30566, 36059, 37429,\n       19166,  3567, 40741, 30792, 30190, 15567, 50771, 21532, 16604,\n       17874, 28188, 28827, 46283, 21138, 38145, 20589, 40664, 36086,\n       40069, 17191, 13081, 32882, 21921, 19936, 15725, 41515,  3023,\n       39370,  6356, 47463, 50522, 12034, 48842, 23767,  6436, 19765,\n       32471, 45156, 39563, 27247, 23666, 30287, 47800,  9100,  3002,\n       26268,  6287, 45374, 20785, 20563, 36107, 10984, 28563, 21124,\n       20119, 23525, 10668, 41734, 18447, 36640, 47140, 34908, 12248,\n       26347, 16183,  7871,  2694, 33960, 15964, 43533, 26066, 28165,\n        8208, 29691, 50732, 32303, 48926, 36907,  6027, 26907, 10200,\n        3267, 15696, 30239, 27561, 25860, 43159, 29427,  4134, 20083,\n       49210,  9803, 20074, 38904, 49137, 19535, 20533, 21015, 35663,\n       30841, 33858, 43904, 30645, 37431,  3053, 18473,  2366, 29862,\n       13369, 13717, 19420, 17318,  2958,  4063, 19702, 40208, 20034,\n        2617, 27869,  9494, 45737,  7257, 11268,  2547, 39694,  1979,\n        4024, 45750,  7894, 35000, 18722, 13920, 24078, 32252, 41116,\n       36424, 42727, 33226, 48453, 39603, 11782, 40356, 30554, 29952,\n       11068, 42015, 40807,  9688, 24150, 24758, 45149,  5706, 21186,\n       22566, 32102, 39436, 22579, 32554, 44925, 39716, 10591, 34073,\n        5897, 48234,  9289,  2899, 46111,  1503,  2424,  2587, 24088,\n       25352, 34226, 33004, 11920, 44650, 30030, 13004, 47386, 33771,\n        1221, 28661, 14444, 18046, 22942, 36097, 34538, 30417, 22030,\n        8125, 18477, 15772, 31098, 19988, 46491, 34572,  5692,  2825])"
     },
     "execution_count": 789,
     "metadata": {},
     "output_type": "execute_result"
    }
   ],
   "source": [
    "df[df['Delay_from_due_date']<0]['Customer_ID'].unique()"
   ],
   "metadata": {
    "collapsed": false,
    "ExecuteTime": {
     "end_time": "2024-02-18T20:21:36.625612Z",
     "start_time": "2024-02-18T20:21:36.618292Z"
    }
   },
   "id": "59bfa56faa575e09",
   "execution_count": 789
  },
  {
   "cell_type": "markdown",
   "source": [
    "I will fill them with Nan values and then apply Numeric_Wrong_Values_Reassign_Group_Min_Max() :"
   ],
   "metadata": {
    "collapsed": false
   },
   "id": "75fea81ab77079c2"
  },
  {
   "cell_type": "code",
   "outputs": [
    {
     "name": "stdout",
     "output_type": "stream",
     "text": [
      "***************************\n",
      "\n",
      "Before Assigning: Delay_from_due_date: have 591 NaN Values\n",
      "\n",
      "Existing Min, Max Values:\n",
      "min     0.0\n",
      "max    62.0\n",
      "Name: Delay_from_due_date, dtype: float64\n",
      "\n",
      "Groupby by Customer_ID's Actual min, max Values:\n",
      "min:\t0.0,\n",
      "max:\t62.0\n",
      "\n",
      "Before Assigning Example Delay_from_due_date:\n",
      "\n",
      "[48.0, 48.0, 48.0, 48.0, 48.0, 48.0, 48.0, 48.0]\n",
      "[19.0, 19.0, 19.0, 19.0, 19.0, 19.0, 19.0, 16.0]\n",
      "[25.0, 28.0, 22.0, 26.0, 26.0, 26.0, 26.0, 26.0]\n",
      "[19.0, 19.0, 19.0, 19.0, 19.0, 19.0, 19.0, 19.0]\n",
      "[15.0, 15.0, 20.0, 16.0, 20.0, 20.0, 20.0, 24.0]\n",
      "\n",
      "After Assigning Example Delay_from_due_date:\n",
      "\n",
      "[48.0, 48.0, 48.0, 48.0, 48.0, 48.0, 48.0, 48.0]\n",
      "[19.0, 19.0, 19.0, 19.0, 19.0, 19.0, 19.0, 16.0]\n",
      "[25.0, 28.0, 22.0, 26.0, 26.0, 26.0, 26.0, 26.0]\n",
      "[19.0, 19.0, 19.0, 19.0, 19.0, 19.0, 19.0, 19.0]\n",
      "[15.0, 15.0, 20.0, 16.0, 20.0, 20.0, 20.0, 24.0]\n",
      "***************************\n"
     ]
    }
   ],
   "source": [
    "df.loc[df['Delay_from_due_date']<0, 'Delay_from_due_date'] = None\n",
    "Numeric_Wrong_Values_Reassign_Group_Min_Max(df, 'Customer_ID', 'Delay_from_due_date')"
   ],
   "metadata": {
    "collapsed": false,
    "ExecuteTime": {
     "end_time": "2024-02-18T20:21:48.295325Z",
     "start_time": "2024-02-18T20:21:36.627172Z"
    }
   },
   "id": "37d6ae89162dbdf0",
   "execution_count": 790
  },
  {
   "cell_type": "markdown",
   "source": [
    "Finding the Customer IDs which have 'Changed_Credit_Limit' < 0 :"
   ],
   "metadata": {
    "collapsed": false
   },
   "id": "938c812127c6fe"
  },
  {
   "cell_type": "code",
   "outputs": [
    {
     "data": {
      "text/plain": "array([47249, 47624, 44166, ..., 18822,  8324, 14124])"
     },
     "execution_count": 791,
     "metadata": {},
     "output_type": "execute_result"
    }
   ],
   "source": [
    "df[df['Changed_Credit_Limit']<0]['Customer_ID'].unique()"
   ],
   "metadata": {
    "collapsed": false,
    "ExecuteTime": {
     "end_time": "2024-02-18T20:21:48.303710Z",
     "start_time": "2024-02-18T20:21:48.296619Z"
    }
   },
   "id": "a22349e8af41cb5a",
   "execution_count": 791
  },
  {
   "cell_type": "markdown",
   "source": [
    "I will fill them with Nan values and then apply Numeric_Wrong_Values_Reassign_Group_Min_Max() :"
   ],
   "metadata": {
    "collapsed": false
   },
   "id": "b95c51d08f82ad5d"
  },
  {
   "cell_type": "code",
   "outputs": [
    {
     "name": "stdout",
     "output_type": "stream",
     "text": [
      "***************************\n",
      "\n",
      "Before Assigning: Changed_Credit_Limit: have 1463 NaN Values\n",
      "\n",
      "Existing Min, Max Values:\n",
      "min     0.00\n",
      "max    29.98\n",
      "Name: Changed_Credit_Limit, dtype: float64\n",
      "\n",
      "Groupby by Customer_ID's Actual min, max Values:\n",
      "min:\t0.5,\n",
      "max:\t29.98\n",
      "\n",
      "Before Assigning Example Changed_Credit_Limit:\n",
      "\n",
      "[10.66, 10.66, 10.66, 10.66, 10.66, 10.66, 10.66, 10.66]\n",
      "[12.13, 5.13, 5.13, 5.13, 5.13, 2.13, 5.13, 5.13]\n",
      "[14.11, 14.11, 14.11, 14.11, 14.11, 14.11, 14.11, 14.11]\n",
      "[16.91, 16.91, 16.91, 16.91, 16.91, 16.91, 19.91, 16.91]\n",
      "[15.28, 15.28, 15.28, 15.28, 19.28, 15.28, 15.28, 15.28]\n",
      "\n",
      "After Assigning Example Changed_Credit_Limit:\n",
      "\n",
      "[10.66, 10.66, 10.66, 10.66, 10.66, 10.66, 10.66, 10.66]\n",
      "[12.13, 5.13, 5.13, 5.13, 5.13, 2.13, 5.13, 5.13]\n",
      "[14.11, 14.11, 14.11, 14.11, 14.11, 14.11, 14.11, 14.11]\n",
      "[16.91, 16.91, 16.91, 16.91, 16.91, 16.91, 19.91, 16.91]\n",
      "[15.28, 15.28, 15.28, 15.28, 19.28, 15.28, 15.28, 15.28]\n",
      "***************************\n"
     ]
    }
   ],
   "source": [
    "df.loc[df['Changed_Credit_Limit']<0, 'Changed_Credit_Limit'] = None\n",
    "Numeric_Wrong_Values_Reassign_Group_Min_Max(df, 'Customer_ID', 'Changed_Credit_Limit')"
   ],
   "metadata": {
    "collapsed": false,
    "ExecuteTime": {
     "end_time": "2024-02-18T20:22:00.399628Z",
     "start_time": "2024-02-18T20:21:48.305401Z"
    }
   },
   "id": "c3d354430b5ac415",
   "execution_count": 792
  },
  {
   "cell_type": "markdown",
   "source": [
    "Finding the Customer IDs which have 'Num_of_Delayed_Payment' < 0 :"
   ],
   "metadata": {
    "collapsed": false
   },
   "id": "9aae5b594d2a59a0"
  },
  {
   "cell_type": "code",
   "outputs": [
    {
     "data": {
      "text/plain": "array([ 8625, 29152, 45940, 10251,  3333,  3929, 21293,  4426, 25414,\n       16167, 21322, 10123, 35188, 26218, 28910, 32265, 11773, 47754,\n       14290, 20016, 19075, 49507, 13075, 48148, 45080,  4477, 37628,\n       35058, 19758, 17488, 11148, 13654, 36050, 33615, 11176,  4829,\n       48209, 34440, 44404, 47715, 10269, 39909, 26631, 31123, 39182,\n       13666,  9624,  3559, 15614, 47448, 19145, 25434, 33042,  1604,\n       48331, 11426, 13888, 41376, 48578, 44043,  5136, 27608,  2221,\n       29037, 35859, 18007, 45442, 48633, 16890, 43386, 23420, 25655,\n        2170,  4483,  5754, 32772,  8778,  3626, 26972,  8668, 15729,\n       37190, 10351, 17846, 38293, 20868, 30410, 50983, 11542, 45048,\n       21518, 35124, 29088, 22029, 39733, 21719, 11988, 44699, 42964,\n       37741, 36766, 13582, 39656, 31866, 23184,  5843, 50902, 20553,\n       35440, 44118, 21037, 32270, 44792, 44787, 24955, 43895, 47613,\n       15925, 18596,  8978, 41665, 49076,  4640, 17192, 13592, 47760,\n       31094,  8727, 28775, 19677, 23884, 24105,  3317, 49221, 19921,\n       10646, 41452, 28359, 47830, 29895, 27354, 17578, 35377, 23330,\n        8729, 50375, 23386, 11602, 27743, 11245, 30931, 33209,  6127,\n       40577, 30481, 38181, 26041, 48857, 45668, 34436, 16975, 38259,\n       15832, 47105, 23911, 47108, 15100, 32240, 48899, 49130, 42764,\n        6387, 23374, 12439, 17247, 15495, 28140,  2994, 32561, 14905,\n        3780, 43379, 31061, 50602, 41838, 20751, 48090, 27257, 43862,\n        7226, 34875, 28017,  3408,  3749,  5300, 48528, 38650, 23469,\n       38754, 20201, 47166,  2354, 30361, 49623,  4662, 37993, 17732,\n       49405, 14000, 28929, 38697,  4399, 32479, 35541,  9339, 45946,\n       14409,  1968, 15425, 20952, 12863, 33775, 27909, 25867, 43993,\n       15769, 34791, 28101, 23903, 27481, 42599, 47534,  8196, 50207,\n       46960, 19640, 50771, 37624, 10541, 17923, 24997,  8487, 20589,\n        1146, 48913, 32066, 24812, 39279, 28633, 15866,  7929, 26327,\n       16508, 44892, 12693, 26312, 37702, 44669, 31263,  3841, 10941,\n       20147, 10448, 50447, 44956,  5976, 14766, 36007,  2895, 23666,\n       15554,  2340, 29036, 14869, 40554,  8560, 36162,  8653, 46241,\n       36107, 21124, 23525, 30396, 10074, 22006, 30021, 18665, 18447,\n       35838,  6128, 26296, 50358, 25388, 40697, 17743, 46962, 28165,\n       45975, 18941, 11649, 24911, 29705, 32353, 40111,  3920,  3267,\n       16852, 12451, 29928, 34779, 12528, 46648, 15555,  9468, 39490,\n       42806,  9803, 49867, 33230,  5356, 49137, 38534, 27619, 30841,\n       24878, 20060, 33751, 33854, 42478, 28398, 47381, 25999, 10007,\n       29827, 42881, 19966, 25079, 41393, 11218, 13920, 26258, 42192,\n       35384, 39259, 47850, 13832, 11757,  9176, 45858, 19111, 26910,\n        9713, 48753, 15230, 39266, 11782, 40356, 48973,  7136, 11068,\n        8575, 40807, 30718, 21519, 16952, 39025, 32554, 44925, 40914,\n       41106,  2424,  3028, 19094, 30030, 23067, 33771, 37245, 27265,\n       10010, 40803, 35341, 41413, 32197, 42344, 15772, 40156, 12920,\n       42604,  4345,  1348, 14124])"
     },
     "execution_count": 793,
     "metadata": {},
     "output_type": "execute_result"
    }
   ],
   "source": [
    "df[df['Num_of_Delayed_Payment']<0]['Customer_ID'].unique()"
   ],
   "metadata": {
    "collapsed": false,
    "ExecuteTime": {
     "end_time": "2024-02-18T20:22:00.408227Z",
     "start_time": "2024-02-18T20:22:00.401066Z"
    }
   },
   "id": "c32068721333303b",
   "execution_count": 793
  },
  {
   "cell_type": "markdown",
   "source": [
    "I will fill them with Nan values and then apply Numeric_Wrong_Values_Reassign_Group_Min_Max() :"
   ],
   "metadata": {
    "collapsed": false
   },
   "id": "ef9ad0d883e89879"
  },
  {
   "cell_type": "code",
   "outputs": [
    {
     "name": "stdout",
     "output_type": "stream",
     "text": [
      "***************************\n",
      "\n",
      "Before Assigning: Num_of_Delayed_Payment: have 561 NaN Values\n",
      "\n",
      "Existing Min, Max Values:\n",
      "min     0.0\n",
      "max    28.0\n",
      "Name: Num_of_Delayed_Payment, dtype: float64\n",
      "\n",
      "Groupby by Customer_ID's Actual min, max Values:\n",
      "min:\t0.0,\n",
      "max:\t28.0\n",
      "\n",
      "Before Assigning Example Num_of_Delayed_Payment:\n",
      "\n",
      "[10.0, 12.0, 12.0, 13.0, 12.0, 12.0, 11.0, 12.0]\n",
      "[19.0, 19.0, 19.0, 19.0, 19.0, 21.0, 20.0, 19.0]\n",
      "[11.0, 11.0, 11.0, 11.0, 11.0, 11.0, 11.0, 13.0]\n",
      "[18.0, 18.0, 18.0, 18.0, 18.0, 18.0, 20.0, 18.0]\n",
      "[17.0, 16.0, 14.0, 14.0, 17.0, 14.0, 11.0, 14.0]\n",
      "\n",
      "After Assigning Example Num_of_Delayed_Payment:\n",
      "\n",
      "[10.0, 12.0, 12.0, 13.0, 12.0, 12.0, 11.0, 12.0]\n",
      "[19.0, 19.0, 19.0, 19.0, 19.0, 21.0, 20.0, 19.0]\n",
      "[11.0, 11.0, 11.0, 11.0, 11.0, 11.0, 11.0, 13.0]\n",
      "[18.0, 18.0, 18.0, 18.0, 18.0, 18.0, 20.0, 18.0]\n",
      "[17.0, 16.0, 14.0, 14.0, 17.0, 14.0, 11.0, 14.0]\n",
      "***************************\n"
     ]
    }
   ],
   "source": [
    "df.loc[df['Num_of_Delayed_Payment']<0, 'Num_of_Delayed_Payment'] = None\n",
    "Numeric_Wrong_Values_Reassign_Group_Min_Max(df, 'Customer_ID', 'Num_of_Delayed_Payment')"
   ],
   "metadata": {
    "collapsed": false,
    "ExecuteTime": {
     "end_time": "2024-02-18T20:22:11.306013Z",
     "start_time": "2024-02-18T20:22:00.409481Z"
    }
   },
   "id": "69626da4b3bf8d3d",
   "execution_count": 794
  },
  {
   "cell_type": "markdown",
   "source": [
    "Finding the Customer IDs which have 'Monthly_Balance' < 0 :"
   ],
   "metadata": {
    "collapsed": false
   },
   "id": "494bf34a1fc98caf"
  },
  {
   "cell_type": "code",
   "outputs": [
    {
     "data": {
      "text/plain": "array([39045, 23184, 10381, 34281, 11127, 49262, 22515, 16831, 12158])"
     },
     "execution_count": 795,
     "metadata": {},
     "output_type": "execute_result"
    }
   ],
   "source": [
    "df[df['Monthly_Balance']<0]['Customer_ID'].unique()"
   ],
   "metadata": {
    "collapsed": false,
    "ExecuteTime": {
     "end_time": "2024-02-18T20:22:11.312721Z",
     "start_time": "2024-02-18T20:22:11.307274Z"
    }
   },
   "id": "a8c1e03b4db7c868",
   "execution_count": 795
  },
  {
   "cell_type": "markdown",
   "source": [
    "I will fill them with Nan values and then apply Numeric_Wrong_Values_Reassign_Group_Min_Max() :"
   ],
   "metadata": {
    "collapsed": false
   },
   "id": "1f8be941e5efa19a"
  },
  {
   "cell_type": "code",
   "outputs": [
    {
     "name": "stdout",
     "output_type": "stream",
     "text": [
      "***************************\n",
      "\n",
      "Before Assigning: Monthly_Balance: have 9 NaN Values\n",
      "\n",
      "Existing Min, Max Values:\n",
      "min       0.007760\n",
      "max    1183.930696\n",
      "Name: Monthly_Balance, dtype: float64\n",
      "\n",
      "Groupby by Customer_ID's Actual min, max Values:\n",
      "min:\t0.007759664775335295,\n",
      "max:\t1183.9306960885192\n",
      "\n",
      "Before Assigning Example Monthly_Balance:\n",
      "\n",
      "[310.39167595729333, 295.61432104073225, 333.9600295968694, 309.1977625633686, 323.9664999631732, 334.864456417663, 280.04409663983637, 328.97449591530835]\n",
      "[323.5550777151861, 309.6085947906515, 265.4874646531188, 291.11606352715245, 245.61898478406326, 239.46481499922072, 334.61958840607645, 275.3861034815317]\n",
      "[406.62288544232047, 350.39351957834924, 218.30384271186168, 354.63462349002145, 441.30551404075095, 420.04620414440666, 337.6532108572321, 370.2991478574313]\n",
      "[581.4298200072883, 573.8289754206959, 629.6868701949761, 258.40958026881617, 496.6279595887097, 489.116892501724, 560.1656355533173, 594.7354555975859]\n",
      "[553.4033169035758, 228.71773015063442, 648.0211241336477, 579.9803108672652, 377.809814440861, 228.71773015063442, 701.3164970145981, 383.81693229466515]\n",
      "\n",
      "After Assigning Example Monthly_Balance:\n",
      "\n",
      "[310.39167595729333, 295.61432104073225, 333.9600295968694, 309.1977625633686, 323.9664999631732, 334.864456417663, 280.04409663983637, 328.97449591530835]\n",
      "[323.5550777151861, 309.6085947906515, 265.4874646531188, 291.11606352715245, 245.61898478406326, 239.46481499922072, 334.61958840607645, 275.3861034815317]\n",
      "[406.62288544232047, 350.39351957834924, 218.30384271186168, 354.63462349002145, 441.30551404075095, 420.04620414440666, 337.6532108572321, 370.2991478574313]\n",
      "[581.4298200072883, 573.8289754206959, 629.6868701949761, 258.40958026881617, 496.6279595887097, 489.116892501724, 560.1656355533173, 594.7354555975859]\n",
      "[553.4033169035758, 228.71773015063442, 648.0211241336477, 579.9803108672652, 377.809814440861, 228.71773015063442, 701.3164970145981, 383.81693229466515]\n",
      "***************************\n"
     ]
    }
   ],
   "source": [
    "df.loc[df['Monthly_Balance']<0, 'Monthly_Balance'] = None\n",
    "Numeric_Wrong_Values_Reassign_Group_Min_Max(df, 'Customer_ID', 'Monthly_Balance')"
   ],
   "metadata": {
    "collapsed": false,
    "ExecuteTime": {
     "end_time": "2024-02-18T20:22:23.052969Z",
     "start_time": "2024-02-18T20:22:11.314090Z"
    }
   },
   "id": "a98eb1cf87306e8d",
   "execution_count": 796
  },
  {
   "cell_type": "markdown",
   "source": [
    "Plotting the boxplot of variable: 'Amount_invested_monthly'"
   ],
   "metadata": {
    "collapsed": false
   },
   "id": "9f6430cad4c39dc4"
  },
  {
   "cell_type": "code",
   "outputs": [
    {
     "data": {
      "text/plain": "<Figure size 640x480 with 1 Axes>",
      "image/png": "[encoded data removed]"
     },
     "metadata": {},
     "output_type": "display_data"
    }
   ],
   "source": [
    "df['Amount_invested_monthly'].plot(kind='box', vert=0);"
   ],
   "metadata": {
    "collapsed": false,
    "ExecuteTime": {
     "end_time": "2024-02-18T20:22:23.261380Z",
     "start_time": "2024-02-18T20:22:23.054069Z"
    }
   },
   "id": "bf83baf495915570",
   "execution_count": 797
  },
  {
   "cell_type": "markdown",
   "source": [],
   "metadata": {
    "collapsed": false
   },
   "id": "c9db98ce2285b65b"
  },
  {
   "cell_type": "markdown",
   "source": [
    "I will fill them with Nan values and then apply the lambda function.\n",
    "\n",
    "In other words, for each of these groups (Customer IDs), a transformation is applied to the Amount_invested_monthly column. This transformation calculates the mode (most frequently occurring value) of Amount_invested_monthly.\n",
    "\n",
    "In addition, there is a special condition handled here - if the mode of Amount_invested_monthly for any customer group is empty (can occur when all values are None because of the previous operation), it replaces those occurrences with np.NaN."
   ],
   "metadata": {
    "collapsed": false
   },
   "id": "c1baa2331993cbe"
  },
  {
   "cell_type": "code",
   "outputs": [],
   "source": [
    "df.loc[df['Amount_invested_monthly']>=10000, 'Amount_invested_monthly'] = None\n",
    "\n",
    "df['Amount_invested_monthly'] = df.groupby('Customer_ID')['Amount_invested_monthly'].transform(lambda x: x.mode()[0] if not x.mode().empty else np.NaN)"
   ],
   "metadata": {
    "collapsed": false,
    "ExecuteTime": {
     "end_time": "2024-02-18T20:22:26.659114Z",
     "start_time": "2024-02-18T20:22:23.262715Z"
    }
   },
   "id": "76549bc2728a89de",
   "execution_count": 798
  },
  {
   "cell_type": "markdown",
   "source": [
    "**Now I wil drop SSN, Month and the Name of the customer as I will not use these variables anymore (sensitive data)**"
   ],
   "metadata": {
    "collapsed": false
   },
   "id": "4f28e8beaddec8d0"
  },
  {
   "cell_type": "code",
   "outputs": [],
   "source": [
    "df = df.drop(['Name', 'SSN'], axis=1)"
   ],
   "metadata": {
    "collapsed": false,
    "ExecuteTime": {
     "end_time": "2024-02-18T20:22:26.717674Z",
     "start_time": "2024-02-18T20:22:26.661038Z"
    }
   },
   "id": "801ce4c2ff2347a7",
   "execution_count": 799
  },
  {
   "cell_type": "markdown",
   "source": [
    "Also, I should better handle the missing Values of Type_of_Loan feature by filling the NaN values with 'No Data':"
   ],
   "metadata": {
    "collapsed": false
   },
   "id": "cba022aec3f6bd95"
  },
  {
   "cell_type": "code",
   "outputs": [],
   "source": [
    "df['Type_of_Loan'].replace([np.NaN], 'No Data', inplace=True)"
   ],
   "metadata": {
    "collapsed": false,
    "ExecuteTime": {
     "end_time": "2024-02-18T20:22:26.730930Z",
     "start_time": "2024-02-18T20:22:26.719355Z"
    }
   },
   "id": "20962e2e95ea3fc5",
   "execution_count": 800
  },
  {
   "cell_type": "markdown",
   "source": [
    "#### Final Checks of df Dataframe before exporting"
   ],
   "metadata": {
    "collapsed": false
   },
   "id": "4f2d51025c6f5ec4"
  },
  {
   "cell_type": "code",
   "outputs": [
    {
     "name": "stdout",
     "output_type": "stream",
     "text": [
      "<class 'pandas.core.frame.DataFrame'>\n",
      "RangeIndex: 100000 entries, 0 to 99999\n",
      "Data columns (total 26 columns):\n",
      " #   Column                    Non-Null Count   Dtype  \n",
      "---  ------                    --------------   -----  \n",
      " 0   ID                        100000 non-null  int64  \n",
      " 1   Customer_ID               100000 non-null  int64  \n",
      " 2   Month                     100000 non-null  int32  \n",
      " 3   Age                       100000 non-null  float64\n",
      " 4   Occupation                100000 non-null  object \n",
      " 5   Annual_Income             100000 non-null  float64\n",
      " 6   Monthly_Inhand_Salary     100000 non-null  float64\n",
      " 7   Num_Bank_Accounts         100000 non-null  float64\n",
      " 8   Num_Credit_Card           100000 non-null  float64\n",
      " 9   Interest_Rate             100000 non-null  float64\n",
      " 10  Num_of_Loan               100000 non-null  float64\n",
      " 11  Type_of_Loan              100000 non-null  object \n",
      " 12  Delay_from_due_date       100000 non-null  float64\n",
      " 13  Num_of_Delayed_Payment    100000 non-null  float64\n",
      " 14  Changed_Credit_Limit      100000 non-null  float64\n",
      " 15  Num_Credit_Inquiries      100000 non-null  float64\n",
      " 16  Credit_Mix                100000 non-null  object \n",
      " 17  Outstanding_Debt          100000 non-null  float64\n",
      " 18  Credit_Utilization_Ratio  100000 non-null  float64\n",
      " 19  Credit_History_Age        100000 non-null  float64\n",
      " 20  Payment_of_Min_Amount     100000 non-null  object \n",
      " 21  Total_EMI_per_month       100000 non-null  float64\n",
      " 22  Amount_invested_monthly   100000 non-null  float64\n",
      " 23  Payment_Behaviour         100000 non-null  object \n",
      " 24  Monthly_Balance           100000 non-null  float64\n",
      " 25  Credit_Score              100000 non-null  object \n",
      "dtypes: float64(17), int32(1), int64(2), object(6)\n",
      "memory usage: 19.5+ MB\n"
     ]
    }
   ],
   "source": [
    "df.info()"
   ],
   "metadata": {
    "collapsed": false,
    "ExecuteTime": {
     "end_time": "2024-02-18T20:22:26.768650Z",
     "start_time": "2024-02-18T20:22:26.732790Z"
    }
   },
   "id": "b3f70beda2c6b7a0",
   "execution_count": 801
  },
  {
   "cell_type": "code",
   "outputs": [
    {
     "name": "stdout",
     "output_type": "stream",
     "text": [
      "Total NaN values: 0\n"
     ]
    }
   ],
   "source": [
    "print('Total NaN values: '+str(df.isna().sum().sum()) )"
   ],
   "metadata": {
    "collapsed": false,
    "ExecuteTime": {
     "end_time": "2024-02-18T20:22:26.796354Z",
     "start_time": "2024-02-18T20:22:26.770076Z"
    }
   },
   "id": "494ae7124a5cd449",
   "execution_count": 802
  },
  {
   "cell_type": "code",
   "outputs": [
    {
     "data": {
      "text/plain": "                             count          mean           std          min  \\\nID                        100000.0  80631.500000  43301.486619  5634.000000   \nCustomer_ID               100000.0  25982.666640  14340.543051  1006.000000   \nMonth                     100000.0      4.500000      2.291299     1.000000   \nAge                       100000.0     33.311180     10.764783    14.000000   \nAnnual_Income             100000.0  50505.123449  38299.422093  7005.930000   \nMonthly_Inhand_Salary     100000.0   4198.350924   3187.402015   303.645417   \nNum_Bank_Accounts         100000.0      5.368750      2.593095     0.000000   \nNum_Credit_Card           100000.0      5.533680      2.067126     0.000000   \nInterest_Rate             100000.0     14.532080      8.741330     1.000000   \nNum_of_Loan               100000.0      3.532880      2.446356     0.000000   \nDelay_from_due_date       100000.0     21.081420     14.804237     0.000000   \nNum_of_Delayed_Payment    100000.0     13.324800      6.269772     0.000000   \nChanged_Credit_Limit      100000.0     10.470323      6.609481     0.500000   \nNum_Credit_Inquiries      100000.0      5.778590      3.861341     0.000000   \nOutstanding_Debt          100000.0   1426.220376   1155.129026     0.230000   \nCredit_Utilization_Ratio  100000.0     30.158834      4.402526    20.000000   \nCredit_History_Age        100000.0    221.207040     99.679734     1.000000   \nTotal_EMI_per_month       100000.0    107.506430    131.835019     0.000000   \nAmount_invested_monthly   100000.0     64.503471     48.007734     0.000000   \nMonthly_Balance           100000.0    394.017932    201.689576     0.007760   \n\n                                   25%           50%            75%  \\\nID                        43132.750000  80631.500000  118130.250000   \nCustomer_ID               13664.500000  25777.000000   38385.000000   \nMonth                         2.750000      4.500000       6.250000   \nAge                          24.000000     33.000000      42.000000   \nAnnual_Income             19342.972500  36999.705000   71683.470000   \nMonthly_Inhand_Salary      1626.761667   3095.978333    5961.637500   \nNum_Bank_Accounts             3.000000      5.000000       7.000000   \nNum_Credit_Card               4.000000      5.000000       7.000000   \nInterest_Rate                 7.000000     13.000000      20.000000   \nNum_of_Loan                   2.000000      3.000000       5.000000   \nDelay_from_due_date          10.000000     18.000000      28.000000   \nNum_of_Delayed_Payment        9.000000     14.000000      18.000000   \nChanged_Credit_Limit          5.380000      9.400000      14.850000   \nNum_Credit_Inquiries          3.000000      5.000000       8.000000   \nOutstanding_Debt            566.072500   1166.155000    1945.962500   \nCredit_Utilization_Ratio     26.384087     29.910565      33.942687   \nCredit_History_Age          144.000000    219.000000     302.000000   \nTotal_EMI_per_month          29.236416     66.417096     147.047371   \nAmount_invested_monthly      32.524401     51.511546      82.087065   \nMonthly_Balance             268.190628    334.515040     464.580996   \n\n                                    max  \nID                        155629.000000  \nCustomer_ID                50999.000000  \nMonth                          8.000000  \nAge                           56.000000  \nAnnual_Income             179987.280000  \nMonthly_Inhand_Salary      15204.633333  \nNum_Bank_Accounts             10.000000  \nNum_Credit_Card               11.000000  \nInterest_Rate                 34.000000  \nNum_of_Loan                    9.000000  \nDelay_from_due_date           62.000000  \nNum_of_Delayed_Payment        28.000000  \nChanged_Credit_Limit          29.980000  \nNum_Credit_Inquiries          17.000000  \nOutstanding_Debt            4998.070000  \nCredit_Utilization_Ratio      38.112157  \nCredit_History_Age           404.000000  \nTotal_EMI_per_month         1779.103254  \nAmount_invested_monthly      510.726237  \nMonthly_Balance             1183.930696  ",
      "text/html": "<div>\n<style scoped>\n    .dataframe tbody tr th:only-of-type {\n        vertical-align: middle;\n    }\n\n    .dataframe tbody tr th {\n        vertical-align: top;\n    }\n\n    .dataframe thead th {\n        text-align: right;\n    }\n</style>\n<table border=\"1\" class=\"dataframe\">\n  <thead>\n    <tr style=\"text-align: right;\">\n      <th></th>\n      <th>count</th>\n      <th>mean</th>\n      <th>std</th>\n      <th>min</th>\n      <th>25%</th>\n      <th>50%</th>\n      <th>75%</th>\n      <th>max</th>\n    </tr>\n  </thead>\n  <tbody>\n    <tr>\n      <th>ID</th>\n      <td>100000.0</td>\n      <td>80631.500000</td>\n      <td>43301.486619</td>\n      <td>5634.000000</td>\n      <td>43132.750000</td>\n      <td>80631.500000</td>\n      <td>118130.250000</td>\n      <td>155629.000000</td>\n    </tr>\n    <tr>\n      <th>Customer_ID</th>\n      <td>100000.0</td>\n      <td>25982.666640</td>\n      <td>14340.543051</td>\n      <td>1006.000000</td>\n      <td>13664.500000</td>\n      <td>25777.000000</td>\n      <td>38385.000000</td>\n      <td>50999.000000</td>\n    </tr>\n    <tr>\n      <th>Month</th>\n      <td>100000.0</td>\n      <td>4.500000</td>\n      <td>2.291299</td>\n      <td>1.000000</td>\n      <td>2.750000</td>\n      <td>4.500000</td>\n      <td>6.250000</td>\n      <td>8.000000</td>\n    </tr>\n    <tr>\n      <th>Age</th>\n      <td>100000.0</td>\n      <td>33.311180</td>\n      <td>10.764783</td>\n      <td>14.000000</td>\n      <td>24.000000</td>\n      <td>33.000000</td>\n      <td>42.000000</td>\n      <td>56.000000</td>\n    </tr>\n    <tr>\n      <th>Annual_Income</th>\n      <td>100000.0</td>\n      <td>50505.123449</td>\n      <td>38299.422093</td>\n      <td>7005.930000</td>\n      <td>19342.972500</td>\n      <td>36999.705000</td>\n      <td>71683.470000</td>\n      <td>179987.280000</td>\n    </tr>\n    <tr>\n      <th>Monthly_Inhand_Salary</th>\n      <td>100000.0</td>\n      <td>4198.350924</td>\n      <td>3187.402015</td>\n      <td>303.645417</td>\n      <td>1626.761667</td>\n      <td>3095.978333</td>\n      <td>5961.637500</td>\n      <td>15204.633333</td>\n    </tr>\n    <tr>\n      <th>Num_Bank_Accounts</th>\n      <td>100000.0</td>\n      <td>5.368750</td>\n      <td>2.593095</td>\n      <td>0.000000</td>\n      <td>3.000000</td>\n      <td>5.000000</td>\n      <td>7.000000</td>\n      <td>10.000000</td>\n    </tr>\n    <tr>\n      <th>Num_Credit_Card</th>\n      <td>100000.0</td>\n      <td>5.533680</td>\n      <td>2.067126</td>\n      <td>0.000000</td>\n      <td>4.000000</td>\n      <td>5.000000</td>\n      <td>7.000000</td>\n      <td>11.000000</td>\n    </tr>\n    <tr>\n      <th>Interest_Rate</th>\n      <td>100000.0</td>\n      <td>14.532080</td>\n      <td>8.741330</td>\n      <td>1.000000</td>\n      <td>7.000000</td>\n      <td>13.000000</td>\n      <td>20.000000</td>\n      <td>34.000000</td>\n    </tr>\n    <tr>\n      <th>Num_of_Loan</th>\n      <td>100000.0</td>\n      <td>3.532880</td>\n      <td>2.446356</td>\n      <td>0.000000</td>\n      <td>2.000000</td>\n      <td>3.000000</td>\n      <td>5.000000</td>\n      <td>9.000000</td>\n    </tr>\n    <tr>\n      <th>Delay_from_due_date</th>\n      <td>100000.0</td>\n      <td>21.081420</td>\n      <td>14.804237</td>\n      <td>0.000000</td>\n      <td>10.000000</td>\n      <td>18.000000</td>\n      <td>28.000000</td>\n      <td>62.000000</td>\n    </tr>\n    <tr>\n      <th>Num_of_Delayed_Payment</th>\n      <td>100000.0</td>\n      <td>13.324800</td>\n      <td>6.269772</td>\n      <td>0.000000</td>\n      <td>9.000000</td>\n      <td>14.000000</td>\n      <td>18.000000</td>\n      <td>28.000000</td>\n    </tr>\n    <tr>\n      <th>Changed_Credit_Limit</th>\n      <td>100000.0</td>\n      <td>10.470323</td>\n      <td>6.609481</td>\n      <td>0.500000</td>\n      <td>5.380000</td>\n      <td>9.400000</td>\n      <td>14.850000</td>\n      <td>29.980000</td>\n    </tr>\n    <tr>\n      <th>Num_Credit_Inquiries</th>\n      <td>100000.0</td>\n      <td>5.778590</td>\n      <td>3.861341</td>\n      <td>0.000000</td>\n      <td>3.000000</td>\n      <td>5.000000</td>\n      <td>8.000000</td>\n      <td>17.000000</td>\n    </tr>\n    <tr>\n      <th>Outstanding_Debt</th>\n      <td>100000.0</td>\n      <td>1426.220376</td>\n      <td>1155.129026</td>\n      <td>0.230000</td>\n      <td>566.072500</td>\n      <td>1166.155000</td>\n      <td>1945.962500</td>\n      <td>4998.070000</td>\n    </tr>\n    <tr>\n      <th>Credit_Utilization_Ratio</th>\n      <td>100000.0</td>\n      <td>30.158834</td>\n      <td>4.402526</td>\n      <td>20.000000</td>\n      <td>26.384087</td>\n      <td>29.910565</td>\n      <td>33.942687</td>\n      <td>38.112157</td>\n    </tr>\n    <tr>\n      <th>Credit_History_Age</th>\n      <td>100000.0</td>\n      <td>221.207040</td>\n      <td>99.679734</td>\n      <td>1.000000</td>\n      <td>144.000000</td>\n      <td>219.000000</td>\n      <td>302.000000</td>\n      <td>404.000000</td>\n    </tr>\n    <tr>\n      <th>Total_EMI_per_month</th>\n      <td>100000.0</td>\n      <td>107.506430</td>\n      <td>131.835019</td>\n      <td>0.000000</td>\n      <td>29.236416</td>\n      <td>66.417096</td>\n      <td>147.047371</td>\n      <td>1779.103254</td>\n    </tr>\n    <tr>\n      <th>Amount_invested_monthly</th>\n      <td>100000.0</td>\n      <td>64.503471</td>\n      <td>48.007734</td>\n      <td>0.000000</td>\n      <td>32.524401</td>\n      <td>51.511546</td>\n      <td>82.087065</td>\n      <td>510.726237</td>\n    </tr>\n    <tr>\n      <th>Monthly_Balance</th>\n      <td>100000.0</td>\n      <td>394.017932</td>\n      <td>201.689576</td>\n      <td>0.007760</td>\n      <td>268.190628</td>\n      <td>334.515040</td>\n      <td>464.580996</td>\n      <td>1183.930696</td>\n    </tr>\n  </tbody>\n</table>\n</div>"
     },
     "execution_count": 803,
     "metadata": {},
     "output_type": "execute_result"
    }
   ],
   "source": [
    "df.describe().T"
   ],
   "metadata": {
    "collapsed": false,
    "ExecuteTime": {
     "end_time": "2024-02-18T20:22:26.903892Z",
     "start_time": "2024-02-18T20:22:26.798337Z"
    }
   },
   "id": "8d290fcecee3871d",
   "execution_count": 803
  },
  {
   "cell_type": "markdown",
   "source": [
    "## Exporting Dataframe"
   ],
   "metadata": {
    "collapsed": false
   },
   "id": "1ceb1fd98e573201"
  },
  {
   "cell_type": "code",
   "outputs": [],
   "source": [
    "df.to_csv(\"data_clean/clean_dataset.csv\", index=False)"
   ],
   "metadata": {
    "collapsed": false,
    "ExecuteTime": {
     "end_time": "2024-02-18T20:22:28.489607Z",
     "start_time": "2024-02-18T20:22:26.905628Z"
    }
   },
   "id": "8398986970b841cc",
   "execution_count": 804
  },
  {
   "cell_type": "code",
   "outputs": [
    {
     "data": {
      "text/plain": "/Users/vassilistsoubris/DataspellProjects/UC_Berkeley_CapstoneProject/data_clean/clean_dataset.csv",
      "text/html": "Click here to download: <a href='data_clean/clean_dataset.csv' target='_blank'>data_clean/clean_dataset.csv</a><br>"
     },
     "metadata": {},
     "output_type": "display_data"
    }
   ],
   "source": [
    "from IPython.display import FileLink, FileLinks\n",
    "file = FileLink(r'data_clean/clean_dataset.csv', result_html_prefix=\"Click here to download: \")\n",
    "display(file)"
   ],
   "metadata": {
    "collapsed": false,
    "ExecuteTime": {
     "end_time": "2024-02-18T20:22:28.496673Z",
     "start_time": "2024-02-18T20:22:28.491667Z"
    }
   },
   "id": "98c82948ad100cd9",
   "execution_count": 805
  },
  {
   "cell_type": "code",
   "outputs": [
    {
     "name": "stdout",
     "output_type": "stream",
     "text": [
      "Notebook runs without errors - End of Initial data cleansing\n"
     ]
    }
   ],
   "source": [
    "print('Notebook runs without errors - End of Initial data cleansing')"
   ],
   "metadata": {
    "collapsed": false,
    "ExecuteTime": {
     "end_time": "2024-02-18T20:22:28.502326Z",
     "start_time": "2024-02-18T20:22:28.498385Z"
    }
   },
   "id": "213111eb42acee84",
   "execution_count": 806
  },
  {
   "cell_type": "code",
   "outputs": [],
   "source": [],
   "metadata": {
    "collapsed": false,
    "ExecuteTime": {
     "end_time": "2024-02-18T20:22:28.505950Z",
     "start_time": "2024-02-18T20:22:28.503739Z"
    }
   },
   "id": "fa76e590a626e69d",
   "execution_count": 806
  }
 ],
 "metadata": {
  "kernelspec": {
   "display_name": "Python 3",
   "language": "python",
   "name": "python3"
  },
  "language_info": {
   "codemirror_mode": {
    "name": "ipython",
    "version": 2
   },
   "file_extension": ".py",
   "mimetype": "text/x-python",
   "name": "python",
   "nbconvert_exporter": "python",
   "pygments_lexer": "ipython2",
   "version": "2.7.6"
  }
 },
 "nbformat": 4,
 "nbformat_minor": 5
}
