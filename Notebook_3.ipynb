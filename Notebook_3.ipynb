{
 "cells": [
  {
   "cell_type": "markdown",
   "source": [
    "# Feature Engineering and Data Splitting\n",
    "## Notebook 3\n",
    "\n",
    "### Introduction\n",
    "In this notebook I will create preprocessing pipelines to transform features into a suitable form for modelling phase.\n",
    "\n",
    "For categorical features I will use:\n",
    "- **One Hot Encoder** when my final estimator will be a **non-tree type** model.\n",
    "- **Ordinal Encoder** when my final estimator will be a **tree type** model.\n",
    "\n",
    "For numerical features I will use:\n",
    "- **Standard Scaler**. By standardising my numeric data I will ensure better model performance and reduced bias.\n",
    "\n",
    "Lastly, I will perform the splitting of the data (decide cross-validation strategy)."
   ],
   "metadata": {
    "collapsed": false
   },
   "id": "b075d52b03cee47e"
  },
  {
   "cell_type": "markdown",
   "source": [
    "#### Importing packages:"
   ],
   "metadata": {
    "collapsed": false
   },
   "id": "d38f859e6438b56"
  },
  {
   "cell_type": "code",
   "execution_count": 16,
   "id": "initial_id",
   "metadata": {
    "collapsed": true,
    "ExecuteTime": {
     "end_time": "2024-03-26T20:29:50.805596Z",
     "start_time": "2024-03-26T20:29:50.800380Z"
    }
   },
   "outputs": [],
   "source": [
    "import pandas as pd\n",
    "#\n",
    "import seaborn as sns\n",
    "import matplotlib.pyplot as plt\n",
    "\n",
    "from sklearn.preprocessing import OneHotEncoder, StandardScaler, OrdinalEncoder\n",
    "from sklearn.compose import  make_column_transformer\n",
    "from sklearn.model_selection import train_test_split"
   ]
  },
  {
   "cell_type": "markdown",
   "source": [
    "#### Importing the dataset:"
   ],
   "metadata": {
    "collapsed": false
   },
   "id": "7900921df127e147"
  },
  {
   "cell_type": "code",
   "outputs": [
    {
     "name": "stdout",
     "output_type": "stream",
     "text": [
      "<class 'pandas.core.frame.DataFrame'>\n",
      "RangeIndex: 12500 entries, 0 to 12499\n",
      "Data columns (total 13 columns):\n",
      " #   Column                    Non-Null Count  Dtype  \n",
      "---  ------                    --------------  -----  \n",
      " 0   Customer_ID               12500 non-null  int64  \n",
      " 1   Age                       12500 non-null  float64\n",
      " 2   Annual_Income             12500 non-null  float64\n",
      " 3   Outstanding_Debt          12500 non-null  float64\n",
      " 4   Total_EMI_per_month       12500 non-null  float64\n",
      " 5   Delay_from_due_date       12500 non-null  float64\n",
      " 6   Num_of_Delayed_Payment    12500 non-null  float64\n",
      " 7   Credit_Utilization_Ratio  12500 non-null  float64\n",
      " 8   Payment_Behaviour         12500 non-null  object \n",
      " 9   Credit_Mix                12500 non-null  object \n",
      " 10  Payment_of_Min_Amount     12500 non-null  object \n",
      " 11  Occupation                12500 non-null  object \n",
      " 12  Credit_Score              12500 non-null  object \n",
      "dtypes: float64(7), int64(1), object(5)\n",
      "memory usage: 1.2+ MB\n"
     ]
    }
   ],
   "source": [
    "data = pd.read_csv('data_clean/for_models_dataset.csv')\n",
    "data.info()"
   ],
   "metadata": {
    "collapsed": false,
    "ExecuteTime": {
     "end_time": "2024-03-26T20:29:50.898400Z",
     "start_time": "2024-03-26T20:29:50.861448Z"
    }
   },
   "id": "e28dbdf8cdb854a2",
   "execution_count": 17
  },
  {
   "cell_type": "markdown",
   "source": [
    "#### Creating preprocessing pipelines:\n",
    "\n",
    "Below I create a universal transformer function named **Preprocessor_function**. \n",
    "\n",
    "The **Preprocessor_function** is used to preprocess an input dataset to be suitable for Machine Learning processing.\n",
    "\n",
    "The Preprocessor_function has **four parameters**:\n",
    "- data: This is the input data that is to be preprocessed. It should be a pandas DataFrame.\n",
    "- target_variable: This is a string that represents the name of the target variable column. By default, it is set to 'Credit_Score'.\n",
    "- cat_encoder: This is a string that denotes the type of categorical encoder to be used. The options are ordinal ('ord') or one-hot ('oh'). By default, it is set to one-hot encoding ('oh').\n",
    "- excluded_features: This is a list of strings, where each string is a column name that should be excluded from preprocessing. By default, it is set to None, which means that no column will be excluded.\n",
    "\n",
    "The function **performs the following steps**:\n",
    "- Checks if there are any excluded features. If there are, these are dropped from the data.\n",
    "- Identifies the numeric and categorical columns in the data. The numeric columns are those with datatypes float64 and int64. The categorical columns are those with datatype object and are not the target variable.\n",
    "- Depending on the value of cat_encoder, it constructs a preprocessor which standard scales the numeric columns, and either one-hot encodes or ordinal encodes the categorical columns. The remainder='drop' parameter in make_column_transformer function ensures that any other columns not specified are dropped.\n",
    "- If cat_encoder = 'ord', an OrdinalEncoder is used to transform the categorical variables.\n",
    "- If cat_encoder = 'oh', a OneHotEncoder is used instead.\n",
    "- Returns an error message if the cat_encoder is not 'oh' or 'ord'.\n",
    "\n",
    "The function then returns the preprocessor object."
   ],
   "metadata": {
    "collapsed": false
   },
   "id": "c9ac98ec6067c13a"
  },
  {
   "cell_type": "code",
   "outputs": [],
   "source": [
    "def Preprocessor_function(data,target_variable = 'Credit_Score', cat_encoder = 'oh', excluded_features = None):\n",
    "    \"\"\"\n",
    "    Preprocessor_function\n",
    "\n",
    "    :param data: The input data to be preprocessed.\n",
    "    :param target_variable: The name of the target variable column. Default is 'Credit_Score'.\n",
    "    :param cat_encoder: The type of categorical encoder to use. Options are 'ord' and 'oh'. Default is 'oh'.\n",
    "    :param excluded_features: List of column names to be excluded from preprocessing. Default is None.\n",
    "    :return: The preprocessor object.\n",
    "\n",
    "    \"\"\"\n",
    "    if excluded_features:\n",
    "        excluded_features = list(set(excluded_features) & set(data.columns))\n",
    "        data = data.drop(excluded_features, axis=1)\n",
    "    \n",
    "    numeric_columns = data.select_dtypes(include=['float64', 'int64']).columns.values.tolist()\n",
    "    categorical_columns = \\\n",
    "        data.select_dtypes(include=['object']).drop(target_variable, axis = 1).columns.values.tolist()\n",
    "    \n",
    "    \n",
    "    if cat_encoder == 'ord':\n",
    "        # define the column transformer\n",
    "        preprocessor = make_column_transformer(\n",
    "            (StandardScaler(), numeric_columns),\n",
    "            (OrdinalEncoder(), categorical_columns),\n",
    "            remainder='drop'\n",
    "        )\n",
    "\n",
    "    elif cat_encoder == 'oh':\n",
    "        preprocessor = make_column_transformer(\n",
    "            (StandardScaler(), numeric_columns),\n",
    "            (OneHotEncoder(drop = 'if_binary'), categorical_columns),\n",
    "            remainder='drop'\n",
    "        )\n",
    "    else:\n",
    "        return f\"Please provide a cat_encoder: 'ord' or 'oh' \"\n",
    "\n",
    "    return preprocessor"
   ],
   "metadata": {
    "collapsed": false,
    "ExecuteTime": {
     "end_time": "2024-03-26T20:29:50.908636Z",
     "start_time": "2024-03-26T20:29:50.900398Z"
    }
   },
   "id": "768022a8308ff36",
   "execution_count": 18
  },
  {
   "cell_type": "markdown",
   "source": [
    "#### Demonstrating the pipelines:\n",
    "Let's understand better the structure of the preprocessing pipelines:"
   ],
   "metadata": {
    "collapsed": false
   },
   "id": "985b0d553d610c7"
  },
  {
   "cell_type": "code",
   "outputs": [
    {
     "data": {
      "text/plain": "ColumnTransformer(transformers=[('standardscaler', StandardScaler(),\n                                 ['Age', 'Annual_Income', 'Outstanding_Debt',\n                                  'Total_EMI_per_month', 'Delay_from_due_date',\n                                  'Num_of_Delayed_Payment',\n                                  'Credit_Utilization_Ratio']),\n                                ('onehotencoder',\n                                 OneHotEncoder(drop='if_binary'),\n                                 ['Payment_Behaviour', 'Credit_Mix',\n                                  'Payment_of_Min_Amount', 'Occupation'])])",
      "text/html": "<style>#sk-container-id-3 {\n  /* Definition of color scheme common for light and dark mode */\n  --sklearn-color-text: black;\n  --sklearn-color-line: gray;\n  /* Definition of color scheme for unfitted estimators */\n  --sklearn-color-unfitted-level-0: #fff5e6;\n  --sklearn-color-unfitted-level-1: #f6e4d2;\n  --sklearn-color-unfitted-level-2: #ffe0b3;\n  --sklearn-color-unfitted-level-3: chocolate;\n  /* Definition of color scheme for fitted estimators */\n  --sklearn-color-fitted-level-0: #f0f8ff;\n  --sklearn-color-fitted-level-1: #d4ebff;\n  --sklearn-color-fitted-level-2: #b3dbfd;\n  --sklearn-color-fitted-level-3: cornflowerblue;\n\n  /* Specific color for light theme */\n  --sklearn-color-text-on-default-background: var(--sg-text-color, var(--theme-code-foreground, var(--jp-content-font-color1, black)));\n  --sklearn-color-background: var(--sg-background-color, var(--theme-background, var(--jp-layout-color0, white)));\n  --sklearn-color-border-box: var(--sg-text-color, var(--theme-code-foreground, var(--jp-content-font-color1, black)));\n  --sklearn-color-icon: #696969;\n\n  @media (prefers-color-scheme: dark) {\n    /* Redefinition of color scheme for dark theme */\n    --sklearn-color-text-on-default-background: var(--sg-text-color, var(--theme-code-foreground, var(--jp-content-font-color1, white)));\n    --sklearn-color-background: var(--sg-background-color, var(--theme-background, var(--jp-layout-color0, #111)));\n    --sklearn-color-border-box: var(--sg-text-color, var(--theme-code-foreground, var(--jp-content-font-color1, white)));\n    --sklearn-color-icon: #878787;\n  }\n}\n\n#sk-container-id-3 {\n  color: var(--sklearn-color-text);\n}\n\n#sk-container-id-3 pre {\n  padding: 0;\n}\n\n#sk-container-id-3 input.sk-hidden--visually {\n  border: 0;\n  clip: rect(1px 1px 1px 1px);\n  clip: rect(1px, 1px, 1px, 1px);\n  height: 1px;\n  margin: -1px;\n  overflow: hidden;\n  padding: 0;\n  position: absolute;\n  width: 1px;\n}\n\n#sk-container-id-3 div.sk-dashed-wrapped {\n  border: 1px dashed var(--sklearn-color-line);\n  margin: 0 0.4em 0.5em 0.4em;\n  box-sizing: border-box;\n  padding-bottom: 0.4em;\n  background-color: var(--sklearn-color-background);\n}\n\n#sk-container-id-3 div.sk-container {\n  /* jupyter's `normalize.less` sets `[hidden] { display: none; }`\n     but bootstrap.min.css set `[hidden] { display: none !important; }`\n     so we also need the `!important` here to be able to override the\n     default hidden behavior on the sphinx rendered scikit-learn.org.\n     See: https://github.com/scikit-learn/scikit-learn/issues/21755 */\n  display: inline-block !important;\n  position: relative;\n}\n\n#sk-container-id-3 div.sk-text-repr-fallback {\n  display: none;\n}\n\ndiv.sk-parallel-item,\ndiv.sk-serial,\ndiv.sk-item {\n  /* draw centered vertical line to link estimators */\n  background-image: linear-gradient(var(--sklearn-color-text-on-default-background), var(--sklearn-color-text-on-default-background));\n  background-size: 2px 100%;\n  background-repeat: no-repeat;\n  background-position: center center;\n}\n\n/* Parallel-specific style estimator block */\n\n#sk-container-id-3 div.sk-parallel-item::after {\n  content: \"\";\n  width: 100%;\n  border-bottom: 2px solid var(--sklearn-color-text-on-default-background);\n  flex-grow: 1;\n}\n\n#sk-container-id-3 div.sk-parallel {\n  display: flex;\n  align-items: stretch;\n  justify-content: center;\n  background-color: var(--sklearn-color-background);\n  position: relative;\n}\n\n#sk-container-id-3 div.sk-parallel-item {\n  display: flex;\n  flex-direction: column;\n}\n\n#sk-container-id-3 div.sk-parallel-item:first-child::after {\n  align-self: flex-end;\n  width: 50%;\n}\n\n#sk-container-id-3 div.sk-parallel-item:last-child::after {\n  align-self: flex-start;\n  width: 50%;\n}\n\n#sk-container-id-3 div.sk-parallel-item:only-child::after {\n  width: 0;\n}\n\n/* Serial-specific style estimator block */\n\n#sk-container-id-3 div.sk-serial {\n  display: flex;\n  flex-direction: column;\n  align-items: center;\n  background-color: var(--sklearn-color-background);\n  padding-right: 1em;\n  padding-left: 1em;\n}\n\n\n/* Toggleable style: style used for estimator/Pipeline/ColumnTransformer box that is\nclickable and can be expanded/collapsed.\n- Pipeline and ColumnTransformer use this feature and define the default style\n- Estimators will overwrite some part of the style using the `sk-estimator` class\n*/\n\n/* Pipeline and ColumnTransformer style (default) */\n\n#sk-container-id-3 div.sk-toggleable {\n  /* Default theme specific background. It is overwritten whether we have a\n  specific estimator or a Pipeline/ColumnTransformer */\n  background-color: var(--sklearn-color-background);\n}\n\n/* Toggleable label */\n#sk-container-id-3 label.sk-toggleable__label {\n  cursor: pointer;\n  display: block;\n  width: 100%;\n  margin-bottom: 0;\n  padding: 0.5em;\n  box-sizing: border-box;\n  text-align: center;\n}\n\n#sk-container-id-3 label.sk-toggleable__label-arrow:before {\n  /* Arrow on the left of the label */\n  content: \"▸\";\n  float: left;\n  margin-right: 0.25em;\n  color: var(--sklearn-color-icon);\n}\n\n#sk-container-id-3 label.sk-toggleable__label-arrow:hover:before {\n  color: var(--sklearn-color-text);\n}\n\n/* Toggleable content - dropdown */\n\n#sk-container-id-3 div.sk-toggleable__content {\n  max-height: 0;\n  max-width: 0;\n  overflow: hidden;\n  text-align: left;\n  /* unfitted */\n  background-color: var(--sklearn-color-unfitted-level-0);\n}\n\n#sk-container-id-3 div.sk-toggleable__content.fitted {\n  /* fitted */\n  background-color: var(--sklearn-color-fitted-level-0);\n}\n\n#sk-container-id-3 div.sk-toggleable__content pre {\n  margin: 0.2em;\n  border-radius: 0.25em;\n  color: var(--sklearn-color-text);\n  /* unfitted */\n  background-color: var(--sklearn-color-unfitted-level-0);\n}\n\n#sk-container-id-3 div.sk-toggleable__content.fitted pre {\n  /* unfitted */\n  background-color: var(--sklearn-color-fitted-level-0);\n}\n\n#sk-container-id-3 input.sk-toggleable__control:checked~div.sk-toggleable__content {\n  /* Expand drop-down */\n  max-height: 200px;\n  max-width: 100%;\n  overflow: auto;\n}\n\n#sk-container-id-3 input.sk-toggleable__control:checked~label.sk-toggleable__label-arrow:before {\n  content: \"▾\";\n}\n\n/* Pipeline/ColumnTransformer-specific style */\n\n#sk-container-id-3 div.sk-label input.sk-toggleable__control:checked~label.sk-toggleable__label {\n  color: var(--sklearn-color-text);\n  background-color: var(--sklearn-color-unfitted-level-2);\n}\n\n#sk-container-id-3 div.sk-label.fitted input.sk-toggleable__control:checked~label.sk-toggleable__label {\n  background-color: var(--sklearn-color-fitted-level-2);\n}\n\n/* Estimator-specific style */\n\n/* Colorize estimator box */\n#sk-container-id-3 div.sk-estimator input.sk-toggleable__control:checked~label.sk-toggleable__label {\n  /* unfitted */\n  background-color: var(--sklearn-color-unfitted-level-2);\n}\n\n#sk-container-id-3 div.sk-estimator.fitted input.sk-toggleable__control:checked~label.sk-toggleable__label {\n  /* fitted */\n  background-color: var(--sklearn-color-fitted-level-2);\n}\n\n#sk-container-id-3 div.sk-label label.sk-toggleable__label,\n#sk-container-id-3 div.sk-label label {\n  /* The background is the default theme color */\n  color: var(--sklearn-color-text-on-default-background);\n}\n\n/* On hover, darken the color of the background */\n#sk-container-id-3 div.sk-label:hover label.sk-toggleable__label {\n  color: var(--sklearn-color-text);\n  background-color: var(--sklearn-color-unfitted-level-2);\n}\n\n/* Label box, darken color on hover, fitted */\n#sk-container-id-3 div.sk-label.fitted:hover label.sk-toggleable__label.fitted {\n  color: var(--sklearn-color-text);\n  background-color: var(--sklearn-color-fitted-level-2);\n}\n\n/* Estimator label */\n\n#sk-container-id-3 div.sk-label label {\n  font-family: monospace;\n  font-weight: bold;\n  display: inline-block;\n  line-height: 1.2em;\n}\n\n#sk-container-id-3 div.sk-label-container {\n  text-align: center;\n}\n\n/* Estimator-specific */\n#sk-container-id-3 div.sk-estimator {\n  font-family: monospace;\n  border: 1px dotted var(--sklearn-color-border-box);\n  border-radius: 0.25em;\n  box-sizing: border-box;\n  margin-bottom: 0.5em;\n  /* unfitted */\n  background-color: var(--sklearn-color-unfitted-level-0);\n}\n\n#sk-container-id-3 div.sk-estimator.fitted {\n  /* fitted */\n  background-color: var(--sklearn-color-fitted-level-0);\n}\n\n/* on hover */\n#sk-container-id-3 div.sk-estimator:hover {\n  /* unfitted */\n  background-color: var(--sklearn-color-unfitted-level-2);\n}\n\n#sk-container-id-3 div.sk-estimator.fitted:hover {\n  /* fitted */\n  background-color: var(--sklearn-color-fitted-level-2);\n}\n\n/* Specification for estimator info (e.g. \"i\" and \"?\") */\n\n/* Common style for \"i\" and \"?\" */\n\n.sk-estimator-doc-link,\na:link.sk-estimator-doc-link,\na:visited.sk-estimator-doc-link {\n  float: right;\n  font-size: smaller;\n  line-height: 1em;\n  font-family: monospace;\n  background-color: var(--sklearn-color-background);\n  border-radius: 1em;\n  height: 1em;\n  width: 1em;\n  text-decoration: none !important;\n  margin-left: 1ex;\n  /* unfitted */\n  border: var(--sklearn-color-unfitted-level-1) 1pt solid;\n  color: var(--sklearn-color-unfitted-level-1);\n}\n\n.sk-estimator-doc-link.fitted,\na:link.sk-estimator-doc-link.fitted,\na:visited.sk-estimator-doc-link.fitted {\n  /* fitted */\n  border: var(--sklearn-color-fitted-level-1) 1pt solid;\n  color: var(--sklearn-color-fitted-level-1);\n}\n\n/* On hover */\ndiv.sk-estimator:hover .sk-estimator-doc-link:hover,\n.sk-estimator-doc-link:hover,\ndiv.sk-label-container:hover .sk-estimator-doc-link:hover,\n.sk-estimator-doc-link:hover {\n  /* unfitted */\n  background-color: var(--sklearn-color-unfitted-level-3);\n  color: var(--sklearn-color-background);\n  text-decoration: none;\n}\n\ndiv.sk-estimator.fitted:hover .sk-estimator-doc-link.fitted:hover,\n.sk-estimator-doc-link.fitted:hover,\ndiv.sk-label-container:hover .sk-estimator-doc-link.fitted:hover,\n.sk-estimator-doc-link.fitted:hover {\n  /* fitted */\n  background-color: var(--sklearn-color-fitted-level-3);\n  color: var(--sklearn-color-background);\n  text-decoration: none;\n}\n\n/* Span, style for the box shown on hovering the info icon */\n.sk-estimator-doc-link span {\n  display: none;\n  z-index: 9999;\n  position: relative;\n  font-weight: normal;\n  right: .2ex;\n  padding: .5ex;\n  margin: .5ex;\n  width: min-content;\n  min-width: 20ex;\n  max-width: 50ex;\n  color: var(--sklearn-color-text);\n  box-shadow: 2pt 2pt 4pt #999;\n  /* unfitted */\n  background: var(--sklearn-color-unfitted-level-0);\n  border: .5pt solid var(--sklearn-color-unfitted-level-3);\n}\n\n.sk-estimator-doc-link.fitted span {\n  /* fitted */\n  background: var(--sklearn-color-fitted-level-0);\n  border: var(--sklearn-color-fitted-level-3);\n}\n\n.sk-estimator-doc-link:hover span {\n  display: block;\n}\n\n/* \"?\"-specific style due to the `<a>` HTML tag */\n\n#sk-container-id-3 a.estimator_doc_link {\n  float: right;\n  font-size: 1rem;\n  line-height: 1em;\n  font-family: monospace;\n  background-color: var(--sklearn-color-background);\n  border-radius: 1rem;\n  height: 1rem;\n  width: 1rem;\n  text-decoration: none;\n  /* unfitted */\n  color: var(--sklearn-color-unfitted-level-1);\n  border: var(--sklearn-color-unfitted-level-1) 1pt solid;\n}\n\n#sk-container-id-3 a.estimator_doc_link.fitted {\n  /* fitted */\n  border: var(--sklearn-color-fitted-level-1) 1pt solid;\n  color: var(--sklearn-color-fitted-level-1);\n}\n\n/* On hover */\n#sk-container-id-3 a.estimator_doc_link:hover {\n  /* unfitted */\n  background-color: var(--sklearn-color-unfitted-level-3);\n  color: var(--sklearn-color-background);\n  text-decoration: none;\n}\n\n#sk-container-id-3 a.estimator_doc_link.fitted:hover {\n  /* fitted */\n  background-color: var(--sklearn-color-fitted-level-3);\n}\n</style><div id=\"sk-container-id-3\" class=\"sk-top-container\"><div class=\"sk-text-repr-fallback\"><pre>ColumnTransformer(transformers=[(&#x27;standardscaler&#x27;, StandardScaler(),\n                                 [&#x27;Age&#x27;, &#x27;Annual_Income&#x27;, &#x27;Outstanding_Debt&#x27;,\n                                  &#x27;Total_EMI_per_month&#x27;, &#x27;Delay_from_due_date&#x27;,\n                                  &#x27;Num_of_Delayed_Payment&#x27;,\n                                  &#x27;Credit_Utilization_Ratio&#x27;]),\n                                (&#x27;onehotencoder&#x27;,\n                                 OneHotEncoder(drop=&#x27;if_binary&#x27;),\n                                 [&#x27;Payment_Behaviour&#x27;, &#x27;Credit_Mix&#x27;,\n                                  &#x27;Payment_of_Min_Amount&#x27;, &#x27;Occupation&#x27;])])</pre><b>In a Jupyter environment, please rerun this cell to show the HTML representation or trust the notebook. <br />On GitHub, the HTML representation is unable to render, please try loading this page with nbviewer.org.</b></div><div class=\"sk-container\" hidden><div class=\"sk-item sk-dashed-wrapped\"><div class=\"sk-label-container\"><div class=\"sk-label  sk-toggleable\"><input class=\"sk-toggleable__control sk-hidden--visually\" id=\"sk-estimator-id-11\" type=\"checkbox\" ><label for=\"sk-estimator-id-11\" class=\"sk-toggleable__label  sk-toggleable__label-arrow \">&nbsp;&nbsp;ColumnTransformer<a class=\"sk-estimator-doc-link \" rel=\"noreferrer\" target=\"_blank\" href=\"https://scikit-learn.org/1.4/modules/generated/sklearn.compose.ColumnTransformer.html\">?<span>Documentation for ColumnTransformer</span></a><span class=\"sk-estimator-doc-link \">i<span>Not fitted</span></span></label><div class=\"sk-toggleable__content \"><pre>ColumnTransformer(transformers=[(&#x27;standardscaler&#x27;, StandardScaler(),\n                                 [&#x27;Age&#x27;, &#x27;Annual_Income&#x27;, &#x27;Outstanding_Debt&#x27;,\n                                  &#x27;Total_EMI_per_month&#x27;, &#x27;Delay_from_due_date&#x27;,\n                                  &#x27;Num_of_Delayed_Payment&#x27;,\n                                  &#x27;Credit_Utilization_Ratio&#x27;]),\n                                (&#x27;onehotencoder&#x27;,\n                                 OneHotEncoder(drop=&#x27;if_binary&#x27;),\n                                 [&#x27;Payment_Behaviour&#x27;, &#x27;Credit_Mix&#x27;,\n                                  &#x27;Payment_of_Min_Amount&#x27;, &#x27;Occupation&#x27;])])</pre></div> </div></div><div class=\"sk-parallel\"><div class=\"sk-parallel-item\"><div class=\"sk-item\"><div class=\"sk-label-container\"><div class=\"sk-label  sk-toggleable\"><input class=\"sk-toggleable__control sk-hidden--visually\" id=\"sk-estimator-id-12\" type=\"checkbox\" ><label for=\"sk-estimator-id-12\" class=\"sk-toggleable__label  sk-toggleable__label-arrow \">standardscaler</label><div class=\"sk-toggleable__content \"><pre>[&#x27;Age&#x27;, &#x27;Annual_Income&#x27;, &#x27;Outstanding_Debt&#x27;, &#x27;Total_EMI_per_month&#x27;, &#x27;Delay_from_due_date&#x27;, &#x27;Num_of_Delayed_Payment&#x27;, &#x27;Credit_Utilization_Ratio&#x27;]</pre></div> </div></div><div class=\"sk-serial\"><div class=\"sk-item\"><div class=\"sk-estimator  sk-toggleable\"><input class=\"sk-toggleable__control sk-hidden--visually\" id=\"sk-estimator-id-13\" type=\"checkbox\" ><label for=\"sk-estimator-id-13\" class=\"sk-toggleable__label  sk-toggleable__label-arrow \">&nbsp;StandardScaler<a class=\"sk-estimator-doc-link \" rel=\"noreferrer\" target=\"_blank\" href=\"https://scikit-learn.org/1.4/modules/generated/sklearn.preprocessing.StandardScaler.html\">?<span>Documentation for StandardScaler</span></a></label><div class=\"sk-toggleable__content \"><pre>StandardScaler()</pre></div> </div></div></div></div></div><div class=\"sk-parallel-item\"><div class=\"sk-item\"><div class=\"sk-label-container\"><div class=\"sk-label  sk-toggleable\"><input class=\"sk-toggleable__control sk-hidden--visually\" id=\"sk-estimator-id-14\" type=\"checkbox\" ><label for=\"sk-estimator-id-14\" class=\"sk-toggleable__label  sk-toggleable__label-arrow \">onehotencoder</label><div class=\"sk-toggleable__content \"><pre>[&#x27;Payment_Behaviour&#x27;, &#x27;Credit_Mix&#x27;, &#x27;Payment_of_Min_Amount&#x27;, &#x27;Occupation&#x27;]</pre></div> </div></div><div class=\"sk-serial\"><div class=\"sk-item\"><div class=\"sk-estimator  sk-toggleable\"><input class=\"sk-toggleable__control sk-hidden--visually\" id=\"sk-estimator-id-15\" type=\"checkbox\" ><label for=\"sk-estimator-id-15\" class=\"sk-toggleable__label  sk-toggleable__label-arrow \">&nbsp;OneHotEncoder<a class=\"sk-estimator-doc-link \" rel=\"noreferrer\" target=\"_blank\" href=\"https://scikit-learn.org/1.4/modules/generated/sklearn.preprocessing.OneHotEncoder.html\">?<span>Documentation for OneHotEncoder</span></a></label><div class=\"sk-toggleable__content \"><pre>OneHotEncoder(drop=&#x27;if_binary&#x27;)</pre></div> </div></div></div></div></div></div></div></div></div>"
     },
     "execution_count": 19,
     "metadata": {},
     "output_type": "execute_result"
    }
   ],
   "source": [
    "#usage (with cat_encoder = 'oh')\n",
    "Preprocessor_function(data = data,\n",
    "                      target_variable = 'Credit_Score',\n",
    "                      cat_encoder = 'oh',\n",
    "                      excluded_features = ['Customer_ID']\n",
    "                      )"
   ],
   "metadata": {
    "collapsed": false,
    "ExecuteTime": {
     "end_time": "2024-03-26T20:29:50.932412Z",
     "start_time": "2024-03-26T20:29:50.919610Z"
    }
   },
   "id": "bbc8d2cb82a29b6d",
   "execution_count": 19
  },
  {
   "cell_type": "code",
   "outputs": [
    {
     "data": {
      "text/plain": "ColumnTransformer(transformers=[('standardscaler', StandardScaler(),\n                                 ['Age', 'Annual_Income', 'Outstanding_Debt',\n                                  'Total_EMI_per_month', 'Delay_from_due_date',\n                                  'Num_of_Delayed_Payment',\n                                  'Credit_Utilization_Ratio']),\n                                ('ordinalencoder', OrdinalEncoder(),\n                                 ['Payment_Behaviour', 'Credit_Mix',\n                                  'Payment_of_Min_Amount', 'Occupation'])])",
      "text/html": "<style>#sk-container-id-4 {\n  /* Definition of color scheme common for light and dark mode */\n  --sklearn-color-text: black;\n  --sklearn-color-line: gray;\n  /* Definition of color scheme for unfitted estimators */\n  --sklearn-color-unfitted-level-0: #fff5e6;\n  --sklearn-color-unfitted-level-1: #f6e4d2;\n  --sklearn-color-unfitted-level-2: #ffe0b3;\n  --sklearn-color-unfitted-level-3: chocolate;\n  /* Definition of color scheme for fitted estimators */\n  --sklearn-color-fitted-level-0: #f0f8ff;\n  --sklearn-color-fitted-level-1: #d4ebff;\n  --sklearn-color-fitted-level-2: #b3dbfd;\n  --sklearn-color-fitted-level-3: cornflowerblue;\n\n  /* Specific color for light theme */\n  --sklearn-color-text-on-default-background: var(--sg-text-color, var(--theme-code-foreground, var(--jp-content-font-color1, black)));\n  --sklearn-color-background: var(--sg-background-color, var(--theme-background, var(--jp-layout-color0, white)));\n  --sklearn-color-border-box: var(--sg-text-color, var(--theme-code-foreground, var(--jp-content-font-color1, black)));\n  --sklearn-color-icon: #696969;\n\n  @media (prefers-color-scheme: dark) {\n    /* Redefinition of color scheme for dark theme */\n    --sklearn-color-text-on-default-background: var(--sg-text-color, var(--theme-code-foreground, var(--jp-content-font-color1, white)));\n    --sklearn-color-background: var(--sg-background-color, var(--theme-background, var(--jp-layout-color0, #111)));\n    --sklearn-color-border-box: var(--sg-text-color, var(--theme-code-foreground, var(--jp-content-font-color1, white)));\n    --sklearn-color-icon: #878787;\n  }\n}\n\n#sk-container-id-4 {\n  color: var(--sklearn-color-text);\n}\n\n#sk-container-id-4 pre {\n  padding: 0;\n}\n\n#sk-container-id-4 input.sk-hidden--visually {\n  border: 0;\n  clip: rect(1px 1px 1px 1px);\n  clip: rect(1px, 1px, 1px, 1px);\n  height: 1px;\n  margin: -1px;\n  overflow: hidden;\n  padding: 0;\n  position: absolute;\n  width: 1px;\n}\n\n#sk-container-id-4 div.sk-dashed-wrapped {\n  border: 1px dashed var(--sklearn-color-line);\n  margin: 0 0.4em 0.5em 0.4em;\n  box-sizing: border-box;\n  padding-bottom: 0.4em;\n  background-color: var(--sklearn-color-background);\n}\n\n#sk-container-id-4 div.sk-container {\n  /* jupyter's `normalize.less` sets `[hidden] { display: none; }`\n     but bootstrap.min.css set `[hidden] { display: none !important; }`\n     so we also need the `!important` here to be able to override the\n     default hidden behavior on the sphinx rendered scikit-learn.org.\n     See: https://github.com/scikit-learn/scikit-learn/issues/21755 */\n  display: inline-block !important;\n  position: relative;\n}\n\n#sk-container-id-4 div.sk-text-repr-fallback {\n  display: none;\n}\n\ndiv.sk-parallel-item,\ndiv.sk-serial,\ndiv.sk-item {\n  /* draw centered vertical line to link estimators */\n  background-image: linear-gradient(var(--sklearn-color-text-on-default-background), var(--sklearn-color-text-on-default-background));\n  background-size: 2px 100%;\n  background-repeat: no-repeat;\n  background-position: center center;\n}\n\n/* Parallel-specific style estimator block */\n\n#sk-container-id-4 div.sk-parallel-item::after {\n  content: \"\";\n  width: 100%;\n  border-bottom: 2px solid var(--sklearn-color-text-on-default-background);\n  flex-grow: 1;\n}\n\n#sk-container-id-4 div.sk-parallel {\n  display: flex;\n  align-items: stretch;\n  justify-content: center;\n  background-color: var(--sklearn-color-background);\n  position: relative;\n}\n\n#sk-container-id-4 div.sk-parallel-item {\n  display: flex;\n  flex-direction: column;\n}\n\n#sk-container-id-4 div.sk-parallel-item:first-child::after {\n  align-self: flex-end;\n  width: 50%;\n}\n\n#sk-container-id-4 div.sk-parallel-item:last-child::after {\n  align-self: flex-start;\n  width: 50%;\n}\n\n#sk-container-id-4 div.sk-parallel-item:only-child::after {\n  width: 0;\n}\n\n/* Serial-specific style estimator block */\n\n#sk-container-id-4 div.sk-serial {\n  display: flex;\n  flex-direction: column;\n  align-items: center;\n  background-color: var(--sklearn-color-background);\n  padding-right: 1em;\n  padding-left: 1em;\n}\n\n\n/* Toggleable style: style used for estimator/Pipeline/ColumnTransformer box that is\nclickable and can be expanded/collapsed.\n- Pipeline and ColumnTransformer use this feature and define the default style\n- Estimators will overwrite some part of the style using the `sk-estimator` class\n*/\n\n/* Pipeline and ColumnTransformer style (default) */\n\n#sk-container-id-4 div.sk-toggleable {\n  /* Default theme specific background. It is overwritten whether we have a\n  specific estimator or a Pipeline/ColumnTransformer */\n  background-color: var(--sklearn-color-background);\n}\n\n/* Toggleable label */\n#sk-container-id-4 label.sk-toggleable__label {\n  cursor: pointer;\n  display: block;\n  width: 100%;\n  margin-bottom: 0;\n  padding: 0.5em;\n  box-sizing: border-box;\n  text-align: center;\n}\n\n#sk-container-id-4 label.sk-toggleable__label-arrow:before {\n  /* Arrow on the left of the label */\n  content: \"▸\";\n  float: left;\n  margin-right: 0.25em;\n  color: var(--sklearn-color-icon);\n}\n\n#sk-container-id-4 label.sk-toggleable__label-arrow:hover:before {\n  color: var(--sklearn-color-text);\n}\n\n/* Toggleable content - dropdown */\n\n#sk-container-id-4 div.sk-toggleable__content {\n  max-height: 0;\n  max-width: 0;\n  overflow: hidden;\n  text-align: left;\n  /* unfitted */\n  background-color: var(--sklearn-color-unfitted-level-0);\n}\n\n#sk-container-id-4 div.sk-toggleable__content.fitted {\n  /* fitted */\n  background-color: var(--sklearn-color-fitted-level-0);\n}\n\n#sk-container-id-4 div.sk-toggleable__content pre {\n  margin: 0.2em;\n  border-radius: 0.25em;\n  color: var(--sklearn-color-text);\n  /* unfitted */\n  background-color: var(--sklearn-color-unfitted-level-0);\n}\n\n#sk-container-id-4 div.sk-toggleable__content.fitted pre {\n  /* unfitted */\n  background-color: var(--sklearn-color-fitted-level-0);\n}\n\n#sk-container-id-4 input.sk-toggleable__control:checked~div.sk-toggleable__content {\n  /* Expand drop-down */\n  max-height: 200px;\n  max-width: 100%;\n  overflow: auto;\n}\n\n#sk-container-id-4 input.sk-toggleable__control:checked~label.sk-toggleable__label-arrow:before {\n  content: \"▾\";\n}\n\n/* Pipeline/ColumnTransformer-specific style */\n\n#sk-container-id-4 div.sk-label input.sk-toggleable__control:checked~label.sk-toggleable__label {\n  color: var(--sklearn-color-text);\n  background-color: var(--sklearn-color-unfitted-level-2);\n}\n\n#sk-container-id-4 div.sk-label.fitted input.sk-toggleable__control:checked~label.sk-toggleable__label {\n  background-color: var(--sklearn-color-fitted-level-2);\n}\n\n/* Estimator-specific style */\n\n/* Colorize estimator box */\n#sk-container-id-4 div.sk-estimator input.sk-toggleable__control:checked~label.sk-toggleable__label {\n  /* unfitted */\n  background-color: var(--sklearn-color-unfitted-level-2);\n}\n\n#sk-container-id-4 div.sk-estimator.fitted input.sk-toggleable__control:checked~label.sk-toggleable__label {\n  /* fitted */\n  background-color: var(--sklearn-color-fitted-level-2);\n}\n\n#sk-container-id-4 div.sk-label label.sk-toggleable__label,\n#sk-container-id-4 div.sk-label label {\n  /* The background is the default theme color */\n  color: var(--sklearn-color-text-on-default-background);\n}\n\n/* On hover, darken the color of the background */\n#sk-container-id-4 div.sk-label:hover label.sk-toggleable__label {\n  color: var(--sklearn-color-text);\n  background-color: var(--sklearn-color-unfitted-level-2);\n}\n\n/* Label box, darken color on hover, fitted */\n#sk-container-id-4 div.sk-label.fitted:hover label.sk-toggleable__label.fitted {\n  color: var(--sklearn-color-text);\n  background-color: var(--sklearn-color-fitted-level-2);\n}\n\n/* Estimator label */\n\n#sk-container-id-4 div.sk-label label {\n  font-family: monospace;\n  font-weight: bold;\n  display: inline-block;\n  line-height: 1.2em;\n}\n\n#sk-container-id-4 div.sk-label-container {\n  text-align: center;\n}\n\n/* Estimator-specific */\n#sk-container-id-4 div.sk-estimator {\n  font-family: monospace;\n  border: 1px dotted var(--sklearn-color-border-box);\n  border-radius: 0.25em;\n  box-sizing: border-box;\n  margin-bottom: 0.5em;\n  /* unfitted */\n  background-color: var(--sklearn-color-unfitted-level-0);\n}\n\n#sk-container-id-4 div.sk-estimator.fitted {\n  /* fitted */\n  background-color: var(--sklearn-color-fitted-level-0);\n}\n\n/* on hover */\n#sk-container-id-4 div.sk-estimator:hover {\n  /* unfitted */\n  background-color: var(--sklearn-color-unfitted-level-2);\n}\n\n#sk-container-id-4 div.sk-estimator.fitted:hover {\n  /* fitted */\n  background-color: var(--sklearn-color-fitted-level-2);\n}\n\n/* Specification for estimator info (e.g. \"i\" and \"?\") */\n\n/* Common style for \"i\" and \"?\" */\n\n.sk-estimator-doc-link,\na:link.sk-estimator-doc-link,\na:visited.sk-estimator-doc-link {\n  float: right;\n  font-size: smaller;\n  line-height: 1em;\n  font-family: monospace;\n  background-color: var(--sklearn-color-background);\n  border-radius: 1em;\n  height: 1em;\n  width: 1em;\n  text-decoration: none !important;\n  margin-left: 1ex;\n  /* unfitted */\n  border: var(--sklearn-color-unfitted-level-1) 1pt solid;\n  color: var(--sklearn-color-unfitted-level-1);\n}\n\n.sk-estimator-doc-link.fitted,\na:link.sk-estimator-doc-link.fitted,\na:visited.sk-estimator-doc-link.fitted {\n  /* fitted */\n  border: var(--sklearn-color-fitted-level-1) 1pt solid;\n  color: var(--sklearn-color-fitted-level-1);\n}\n\n/* On hover */\ndiv.sk-estimator:hover .sk-estimator-doc-link:hover,\n.sk-estimator-doc-link:hover,\ndiv.sk-label-container:hover .sk-estimator-doc-link:hover,\n.sk-estimator-doc-link:hover {\n  /* unfitted */\n  background-color: var(--sklearn-color-unfitted-level-3);\n  color: var(--sklearn-color-background);\n  text-decoration: none;\n}\n\ndiv.sk-estimator.fitted:hover .sk-estimator-doc-link.fitted:hover,\n.sk-estimator-doc-link.fitted:hover,\ndiv.sk-label-container:hover .sk-estimator-doc-link.fitted:hover,\n.sk-estimator-doc-link.fitted:hover {\n  /* fitted */\n  background-color: var(--sklearn-color-fitted-level-3);\n  color: var(--sklearn-color-background);\n  text-decoration: none;\n}\n\n/* Span, style for the box shown on hovering the info icon */\n.sk-estimator-doc-link span {\n  display: none;\n  z-index: 9999;\n  position: relative;\n  font-weight: normal;\n  right: .2ex;\n  padding: .5ex;\n  margin: .5ex;\n  width: min-content;\n  min-width: 20ex;\n  max-width: 50ex;\n  color: var(--sklearn-color-text);\n  box-shadow: 2pt 2pt 4pt #999;\n  /* unfitted */\n  background: var(--sklearn-color-unfitted-level-0);\n  border: .5pt solid var(--sklearn-color-unfitted-level-3);\n}\n\n.sk-estimator-doc-link.fitted span {\n  /* fitted */\n  background: var(--sklearn-color-fitted-level-0);\n  border: var(--sklearn-color-fitted-level-3);\n}\n\n.sk-estimator-doc-link:hover span {\n  display: block;\n}\n\n/* \"?\"-specific style due to the `<a>` HTML tag */\n\n#sk-container-id-4 a.estimator_doc_link {\n  float: right;\n  font-size: 1rem;\n  line-height: 1em;\n  font-family: monospace;\n  background-color: var(--sklearn-color-background);\n  border-radius: 1rem;\n  height: 1rem;\n  width: 1rem;\n  text-decoration: none;\n  /* unfitted */\n  color: var(--sklearn-color-unfitted-level-1);\n  border: var(--sklearn-color-unfitted-level-1) 1pt solid;\n}\n\n#sk-container-id-4 a.estimator_doc_link.fitted {\n  /* fitted */\n  border: var(--sklearn-color-fitted-level-1) 1pt solid;\n  color: var(--sklearn-color-fitted-level-1);\n}\n\n/* On hover */\n#sk-container-id-4 a.estimator_doc_link:hover {\n  /* unfitted */\n  background-color: var(--sklearn-color-unfitted-level-3);\n  color: var(--sklearn-color-background);\n  text-decoration: none;\n}\n\n#sk-container-id-4 a.estimator_doc_link.fitted:hover {\n  /* fitted */\n  background-color: var(--sklearn-color-fitted-level-3);\n}\n</style><div id=\"sk-container-id-4\" class=\"sk-top-container\"><div class=\"sk-text-repr-fallback\"><pre>ColumnTransformer(transformers=[(&#x27;standardscaler&#x27;, StandardScaler(),\n                                 [&#x27;Age&#x27;, &#x27;Annual_Income&#x27;, &#x27;Outstanding_Debt&#x27;,\n                                  &#x27;Total_EMI_per_month&#x27;, &#x27;Delay_from_due_date&#x27;,\n                                  &#x27;Num_of_Delayed_Payment&#x27;,\n                                  &#x27;Credit_Utilization_Ratio&#x27;]),\n                                (&#x27;ordinalencoder&#x27;, OrdinalEncoder(),\n                                 [&#x27;Payment_Behaviour&#x27;, &#x27;Credit_Mix&#x27;,\n                                  &#x27;Payment_of_Min_Amount&#x27;, &#x27;Occupation&#x27;])])</pre><b>In a Jupyter environment, please rerun this cell to show the HTML representation or trust the notebook. <br />On GitHub, the HTML representation is unable to render, please try loading this page with nbviewer.org.</b></div><div class=\"sk-container\" hidden><div class=\"sk-item sk-dashed-wrapped\"><div class=\"sk-label-container\"><div class=\"sk-label  sk-toggleable\"><input class=\"sk-toggleable__control sk-hidden--visually\" id=\"sk-estimator-id-16\" type=\"checkbox\" ><label for=\"sk-estimator-id-16\" class=\"sk-toggleable__label  sk-toggleable__label-arrow \">&nbsp;&nbsp;ColumnTransformer<a class=\"sk-estimator-doc-link \" rel=\"noreferrer\" target=\"_blank\" href=\"https://scikit-learn.org/1.4/modules/generated/sklearn.compose.ColumnTransformer.html\">?<span>Documentation for ColumnTransformer</span></a><span class=\"sk-estimator-doc-link \">i<span>Not fitted</span></span></label><div class=\"sk-toggleable__content \"><pre>ColumnTransformer(transformers=[(&#x27;standardscaler&#x27;, StandardScaler(),\n                                 [&#x27;Age&#x27;, &#x27;Annual_Income&#x27;, &#x27;Outstanding_Debt&#x27;,\n                                  &#x27;Total_EMI_per_month&#x27;, &#x27;Delay_from_due_date&#x27;,\n                                  &#x27;Num_of_Delayed_Payment&#x27;,\n                                  &#x27;Credit_Utilization_Ratio&#x27;]),\n                                (&#x27;ordinalencoder&#x27;, OrdinalEncoder(),\n                                 [&#x27;Payment_Behaviour&#x27;, &#x27;Credit_Mix&#x27;,\n                                  &#x27;Payment_of_Min_Amount&#x27;, &#x27;Occupation&#x27;])])</pre></div> </div></div><div class=\"sk-parallel\"><div class=\"sk-parallel-item\"><div class=\"sk-item\"><div class=\"sk-label-container\"><div class=\"sk-label  sk-toggleable\"><input class=\"sk-toggleable__control sk-hidden--visually\" id=\"sk-estimator-id-17\" type=\"checkbox\" ><label for=\"sk-estimator-id-17\" class=\"sk-toggleable__label  sk-toggleable__label-arrow \">standardscaler</label><div class=\"sk-toggleable__content \"><pre>[&#x27;Age&#x27;, &#x27;Annual_Income&#x27;, &#x27;Outstanding_Debt&#x27;, &#x27;Total_EMI_per_month&#x27;, &#x27;Delay_from_due_date&#x27;, &#x27;Num_of_Delayed_Payment&#x27;, &#x27;Credit_Utilization_Ratio&#x27;]</pre></div> </div></div><div class=\"sk-serial\"><div class=\"sk-item\"><div class=\"sk-estimator  sk-toggleable\"><input class=\"sk-toggleable__control sk-hidden--visually\" id=\"sk-estimator-id-18\" type=\"checkbox\" ><label for=\"sk-estimator-id-18\" class=\"sk-toggleable__label  sk-toggleable__label-arrow \">&nbsp;StandardScaler<a class=\"sk-estimator-doc-link \" rel=\"noreferrer\" target=\"_blank\" href=\"https://scikit-learn.org/1.4/modules/generated/sklearn.preprocessing.StandardScaler.html\">?<span>Documentation for StandardScaler</span></a></label><div class=\"sk-toggleable__content \"><pre>StandardScaler()</pre></div> </div></div></div></div></div><div class=\"sk-parallel-item\"><div class=\"sk-item\"><div class=\"sk-label-container\"><div class=\"sk-label  sk-toggleable\"><input class=\"sk-toggleable__control sk-hidden--visually\" id=\"sk-estimator-id-19\" type=\"checkbox\" ><label for=\"sk-estimator-id-19\" class=\"sk-toggleable__label  sk-toggleable__label-arrow \">ordinalencoder</label><div class=\"sk-toggleable__content \"><pre>[&#x27;Payment_Behaviour&#x27;, &#x27;Credit_Mix&#x27;, &#x27;Payment_of_Min_Amount&#x27;, &#x27;Occupation&#x27;]</pre></div> </div></div><div class=\"sk-serial\"><div class=\"sk-item\"><div class=\"sk-estimator  sk-toggleable\"><input class=\"sk-toggleable__control sk-hidden--visually\" id=\"sk-estimator-id-20\" type=\"checkbox\" ><label for=\"sk-estimator-id-20\" class=\"sk-toggleable__label  sk-toggleable__label-arrow \">&nbsp;OrdinalEncoder<a class=\"sk-estimator-doc-link \" rel=\"noreferrer\" target=\"_blank\" href=\"https://scikit-learn.org/1.4/modules/generated/sklearn.preprocessing.OrdinalEncoder.html\">?<span>Documentation for OrdinalEncoder</span></a></label><div class=\"sk-toggleable__content \"><pre>OrdinalEncoder()</pre></div> </div></div></div></div></div></div></div></div></div>"
     },
     "execution_count": 20,
     "metadata": {},
     "output_type": "execute_result"
    }
   ],
   "source": [
    "#usage (with cat_encoder = 'ord')\n",
    "Preprocessor_function(data = data,\n",
    "                      target_variable = 'Credit_Score',\n",
    "                      cat_encoder = 'ord',\n",
    "                      excluded_features = ['Customer_ID']\n",
    "                      )"
   ],
   "metadata": {
    "collapsed": false,
    "ExecuteTime": {
     "end_time": "2024-03-26T20:29:50.946549Z",
     "start_time": "2024-03-26T20:29:50.934441Z"
    }
   },
   "id": "e9d0be2df9ea83ff",
   "execution_count": 20
  },
  {
   "cell_type": "markdown",
   "source": [
    "#### Transforming the Data\n",
    "Now I will fit my preprocessors to my data and will transform the dataset:"
   ],
   "metadata": {
    "collapsed": false
   },
   "id": "f4003138c38fb9fb"
  },
  {
   "cell_type": "code",
   "outputs": [],
   "source": [
    "pr_oh = \\\n",
    "Preprocessor_function(data = data,\n",
    "                      target_variable = 'Credit_Score',\n",
    "                      cat_encoder = 'oh',\n",
    "                      excluded_features = ['Customer_ID']\n",
    "                      ).fit(data)\n",
    "\n",
    "\n",
    "pr_ord = \\\n",
    "    Preprocessor_function(data = data,\n",
    "                          target_variable = 'Credit_Score',\n",
    "                          cat_encoder = 'ord',\n",
    "                          excluded_features = ['Customer_ID']\n",
    "                          ).fit(data)"
   ],
   "metadata": {
    "collapsed": false,
    "ExecuteTime": {
     "end_time": "2024-03-26T20:29:51.008321Z",
     "start_time": "2024-03-26T20:29:50.948547Z"
    }
   },
   "id": "cc80fa129cfc996a",
   "execution_count": 21
  },
  {
   "cell_type": "markdown",
   "source": [
    "The code below does the following:\n",
    "\n",
    "- Applies the one-hot encoder(preprocessing object) pr_oh to the data resulting in a transformed version of the data. This is done using the .transform() method. The resulting numpy array is converted to a dataframe. The column names of the new dataframe are created using the .get_feature_names_out() method on the pr_oh object.\n",
    "- Prints out the total number of rows and columns in the transformed dataframe transformed_OHEnc using the .shape attribute of the dataframe.\n",
    "- Displays the first three rows of the transformed dataframe using .head(3) method."
   ],
   "metadata": {
    "collapsed": false
   },
   "id": "420374e8f298f37b"
  },
  {
   "cell_type": "code",
   "outputs": [
    {
     "name": "stdout",
     "output_type": "stream",
     "text": [
      "Count of rows in transformed dataset: 12500\n",
      "\n",
      "Count of columns of the transformed dataset: 34\n"
     ]
    },
    {
     "data": {
      "text/plain": "   standardscaler__Age  standardscaler__Annual_Income  \\\n0            -0.983952                      -0.819625   \n1            -0.519561                      -0.408815   \n2             0.037709                       2.419305   \n\n   standardscaler__Outstanding_Debt  standardscaler__Total_EMI_per_month  \\\n0                         -0.533485                            -0.440275   \n1                         -0.710911                            -0.640970   \n2                         -0.106664                             0.847835   \n\n   standardscaler__Delay_from_due_date  \\\n0                            -1.221445   \n1                            -1.221445   \n2                            -0.883639   \n\n   standardscaler__Num_of_Delayed_Payment  \\\n0                               -1.168423   \n1                               -1.487695   \n2                               -1.168423   \n\n   standardscaler__Credit_Utilization_Ratio  \\\n0                                 -1.389402   \n1                                  0.639567   \n2                                 -0.806411   \n\n   onehotencoder__Payment_Behaviour_High_spent_Large_value_payments  \\\n0                                                0.0                  \n1                                                0.0                  \n2                                                0.0                  \n\n   onehotencoder__Payment_Behaviour_High_spent_Medium_value_payments  \\\n0                                                1.0                   \n1                                                0.0                   \n2                                                0.0                   \n\n   onehotencoder__Payment_Behaviour_High_spent_Small_value_payments  ...  \\\n0                                                0.0                 ...   \n1                                                0.0                 ...   \n2                                                1.0                 ...   \n\n   onehotencoder__Occupation_Entrepreneur  \\\n0                                     0.0   \n1                                     0.0   \n2                                     0.0   \n\n   onehotencoder__Occupation_Journalist  onehotencoder__Occupation_Lawyer  \\\n0                                   0.0                               0.0   \n1                                   0.0                               0.0   \n2                                   0.0                               0.0   \n\n   onehotencoder__Occupation_Manager  onehotencoder__Occupation_Mechanic  \\\n0                                0.0                                 0.0   \n1                                0.0                                 0.0   \n2                                0.0                                 0.0   \n\n   onehotencoder__Occupation_Media_Manager  \\\n0                                      0.0   \n1                                      0.0   \n2                                      0.0   \n\n   onehotencoder__Occupation_Musician  onehotencoder__Occupation_Scientist  \\\n0                                 0.0                                  1.0   \n1                                 0.0                                  0.0   \n2                                 0.0                                  0.0   \n\n   onehotencoder__Occupation_Teacher  onehotencoder__Occupation_Writer  \n0                                0.0                               0.0  \n1                                1.0                               0.0  \n2                                0.0                               0.0  \n\n[3 rows x 34 columns]",
      "text/html": "<div>\n<style scoped>\n    .dataframe tbody tr th:only-of-type {\n        vertical-align: middle;\n    }\n\n    .dataframe tbody tr th {\n        vertical-align: top;\n    }\n\n    .dataframe thead th {\n        text-align: right;\n    }\n</style>\n<table border=\"1\" class=\"dataframe\">\n  <thead>\n    <tr style=\"text-align: right;\">\n      <th></th>\n      <th>standardscaler__Age</th>\n      <th>standardscaler__Annual_Income</th>\n      <th>standardscaler__Outstanding_Debt</th>\n      <th>standardscaler__Total_EMI_per_month</th>\n      <th>standardscaler__Delay_from_due_date</th>\n      <th>standardscaler__Num_of_Delayed_Payment</th>\n      <th>standardscaler__Credit_Utilization_Ratio</th>\n      <th>onehotencoder__Payment_Behaviour_High_spent_Large_value_payments</th>\n      <th>onehotencoder__Payment_Behaviour_High_spent_Medium_value_payments</th>\n      <th>onehotencoder__Payment_Behaviour_High_spent_Small_value_payments</th>\n      <th>...</th>\n      <th>onehotencoder__Occupation_Entrepreneur</th>\n      <th>onehotencoder__Occupation_Journalist</th>\n      <th>onehotencoder__Occupation_Lawyer</th>\n      <th>onehotencoder__Occupation_Manager</th>\n      <th>onehotencoder__Occupation_Mechanic</th>\n      <th>onehotencoder__Occupation_Media_Manager</th>\n      <th>onehotencoder__Occupation_Musician</th>\n      <th>onehotencoder__Occupation_Scientist</th>\n      <th>onehotencoder__Occupation_Teacher</th>\n      <th>onehotencoder__Occupation_Writer</th>\n    </tr>\n  </thead>\n  <tbody>\n    <tr>\n      <th>0</th>\n      <td>-0.983952</td>\n      <td>-0.819625</td>\n      <td>-0.533485</td>\n      <td>-0.440275</td>\n      <td>-1.221445</td>\n      <td>-1.168423</td>\n      <td>-1.389402</td>\n      <td>0.0</td>\n      <td>1.0</td>\n      <td>0.0</td>\n      <td>...</td>\n      <td>0.0</td>\n      <td>0.0</td>\n      <td>0.0</td>\n      <td>0.0</td>\n      <td>0.0</td>\n      <td>0.0</td>\n      <td>0.0</td>\n      <td>1.0</td>\n      <td>0.0</td>\n      <td>0.0</td>\n    </tr>\n    <tr>\n      <th>1</th>\n      <td>-0.519561</td>\n      <td>-0.408815</td>\n      <td>-0.710911</td>\n      <td>-0.640970</td>\n      <td>-1.221445</td>\n      <td>-1.487695</td>\n      <td>0.639567</td>\n      <td>0.0</td>\n      <td>0.0</td>\n      <td>0.0</td>\n      <td>...</td>\n      <td>0.0</td>\n      <td>0.0</td>\n      <td>0.0</td>\n      <td>0.0</td>\n      <td>0.0</td>\n      <td>0.0</td>\n      <td>0.0</td>\n      <td>0.0</td>\n      <td>1.0</td>\n      <td>0.0</td>\n    </tr>\n    <tr>\n      <th>2</th>\n      <td>0.037709</td>\n      <td>2.419305</td>\n      <td>-0.106664</td>\n      <td>0.847835</td>\n      <td>-0.883639</td>\n      <td>-1.168423</td>\n      <td>-0.806411</td>\n      <td>0.0</td>\n      <td>0.0</td>\n      <td>1.0</td>\n      <td>...</td>\n      <td>0.0</td>\n      <td>0.0</td>\n      <td>0.0</td>\n      <td>0.0</td>\n      <td>0.0</td>\n      <td>0.0</td>\n      <td>0.0</td>\n      <td>0.0</td>\n      <td>0.0</td>\n      <td>0.0</td>\n    </tr>\n  </tbody>\n</table>\n<p>3 rows × 34 columns</p>\n</div>"
     },
     "execution_count": 22,
     "metadata": {},
     "output_type": "execute_result"
    }
   ],
   "source": [
    "# transformer using One Hot Encoding:\n",
    "transformed_OHEnc = pd.DataFrame(pr_oh.transform(data),\n",
    "                                     columns=pr_oh.get_feature_names_out())\n",
    "\n",
    "\n",
    "print('Count of rows in transformed dataset: '+ str(transformed_OHEnc.shape[0])+'\\n')\n",
    "print('Count of columns of the transformed dataset: '+ str(transformed_OHEnc.shape[1])+'\\n')\n",
    "# check:\n",
    "transformed_OHEnc.head(3)"
   ],
   "metadata": {
    "collapsed": false,
    "ExecuteTime": {
     "end_time": "2024-03-26T20:29:51.053224Z",
     "start_time": "2024-03-26T20:29:51.010318Z"
    }
   },
   "id": "fbc69916a988d301",
   "execution_count": 22
  },
  {
   "cell_type": "markdown",
   "source": [
    "In a similar logic, I check the transformation and dimensions of the dataset using ordinal encoding:"
   ],
   "metadata": {
    "collapsed": false
   },
   "id": "764e61191b125fe4"
  },
  {
   "cell_type": "code",
   "outputs": [
    {
     "name": "stdout",
     "output_type": "stream",
     "text": [
      "Count of rows in transformed dataset: 12500\n",
      "\n",
      "Count of columns of the transformed dataset: 11\n"
     ]
    },
    {
     "data": {
      "text/plain": "   standardscaler__Age  standardscaler__Annual_Income  \\\n0            -0.983952                      -0.819625   \n1            -0.519561                      -0.408815   \n2             0.037709                       2.419305   \n\n   standardscaler__Outstanding_Debt  standardscaler__Total_EMI_per_month  \\\n0                         -0.533485                            -0.440275   \n1                         -0.710911                            -0.640970   \n2                         -0.106664                             0.847835   \n\n   standardscaler__Delay_from_due_date  \\\n0                            -1.221445   \n1                            -1.221445   \n2                            -0.883639   \n\n   standardscaler__Num_of_Delayed_Payment  \\\n0                               -1.168423   \n1                               -1.487695   \n2                               -1.168423   \n\n   standardscaler__Credit_Utilization_Ratio  \\\n0                                 -1.389402   \n1                                  0.639567   \n2                                 -0.806411   \n\n   ordinalencoder__Payment_Behaviour  ordinalencoder__Credit_Mix  \\\n0                                1.0                         1.0   \n1                                5.0                         1.0   \n2                                2.0                         1.0   \n\n   ordinalencoder__Payment_of_Min_Amount  ordinalencoder__Occupation  \n0                                    1.0                        12.0  \n1                                    1.0                        13.0  \n2                                    1.0                         4.0  ",
      "text/html": "<div>\n<style scoped>\n    .dataframe tbody tr th:only-of-type {\n        vertical-align: middle;\n    }\n\n    .dataframe tbody tr th {\n        vertical-align: top;\n    }\n\n    .dataframe thead th {\n        text-align: right;\n    }\n</style>\n<table border=\"1\" class=\"dataframe\">\n  <thead>\n    <tr style=\"text-align: right;\">\n      <th></th>\n      <th>standardscaler__Age</th>\n      <th>standardscaler__Annual_Income</th>\n      <th>standardscaler__Outstanding_Debt</th>\n      <th>standardscaler__Total_EMI_per_month</th>\n      <th>standardscaler__Delay_from_due_date</th>\n      <th>standardscaler__Num_of_Delayed_Payment</th>\n      <th>standardscaler__Credit_Utilization_Ratio</th>\n      <th>ordinalencoder__Payment_Behaviour</th>\n      <th>ordinalencoder__Credit_Mix</th>\n      <th>ordinalencoder__Payment_of_Min_Amount</th>\n      <th>ordinalencoder__Occupation</th>\n    </tr>\n  </thead>\n  <tbody>\n    <tr>\n      <th>0</th>\n      <td>-0.983952</td>\n      <td>-0.819625</td>\n      <td>-0.533485</td>\n      <td>-0.440275</td>\n      <td>-1.221445</td>\n      <td>-1.168423</td>\n      <td>-1.389402</td>\n      <td>1.0</td>\n      <td>1.0</td>\n      <td>1.0</td>\n      <td>12.0</td>\n    </tr>\n    <tr>\n      <th>1</th>\n      <td>-0.519561</td>\n      <td>-0.408815</td>\n      <td>-0.710911</td>\n      <td>-0.640970</td>\n      <td>-1.221445</td>\n      <td>-1.487695</td>\n      <td>0.639567</td>\n      <td>5.0</td>\n      <td>1.0</td>\n      <td>1.0</td>\n      <td>13.0</td>\n    </tr>\n    <tr>\n      <th>2</th>\n      <td>0.037709</td>\n      <td>2.419305</td>\n      <td>-0.106664</td>\n      <td>0.847835</td>\n      <td>-0.883639</td>\n      <td>-1.168423</td>\n      <td>-0.806411</td>\n      <td>2.0</td>\n      <td>1.0</td>\n      <td>1.0</td>\n      <td>4.0</td>\n    </tr>\n  </tbody>\n</table>\n</div>"
     },
     "execution_count": 23,
     "metadata": {},
     "output_type": "execute_result"
    }
   ],
   "source": [
    "# transformer using Ordinal Encoding:\n",
    "transformed_OrdEnc = pd.DataFrame(pr_ord.transform(data),\n",
    "                                     columns=pr_ord.get_feature_names_out())\n",
    "\n",
    "\n",
    "print('Count of rows in transformed dataset: '+ str(transformed_OrdEnc.shape[0])+'\\n')\n",
    "print('Count of columns of the transformed dataset: '+ str(transformed_OrdEnc.shape[1])+'\\n')\n",
    "# check:\n",
    "transformed_OrdEnc.head(3)"
   ],
   "metadata": {
    "collapsed": false,
    "ExecuteTime": {
     "end_time": "2024-03-26T20:29:51.079176Z",
     "start_time": "2024-03-26T20:29:51.055222Z"
    }
   },
   "id": "a144eb16bd1a755c",
   "execution_count": 23
  },
  {
   "cell_type": "markdown",
   "source": [
    "##### Note:\n",
    " As shown above One Hot Encoder significantly increases the dimensions of the dataset."
   ],
   "metadata": {
    "collapsed": false
   },
   "id": "b4839f9140d59aa2"
  },
  {
   "cell_type": "markdown",
   "source": [
    "#### Splitting the data:\n",
    "I will keep 20% of the dataset for testing. Also, I will stratify the train and test subsets.\n",
    "\n",
    "The **train_test_split** function from sklearn.model_selection is used to split the dataset X and target y into a training set (X_train and y_train) and a test set (X_test and y_test). In addition, the parameter **stratify=y** indicates that the data is split in a stratified fashion, using y as the class labels.\n",
    "\n",
    "Stratification ensures that the train and test sets have approximately the same percentage of samples of each target class as the complete set. It is usually a better option for classification problems with an imbalance class issue."
   ],
   "metadata": {
    "collapsed": false
   },
   "id": "f5ecb9693660fa3e"
  },
  {
   "cell_type": "code",
   "outputs": [],
   "source": [
    "X = data.drop(columns=['Customer_ID', 'Credit_Score'])\n",
    "y = data['Credit_Score']\n",
    "\n",
    "X_train, X_test, y_train, y_test = \\\n",
    "train_test_split(X, y,\n",
    "                 random_state=42,\n",
    "                 test_size=0.2,\n",
    "                 stratify=y)"
   ],
   "metadata": {
    "collapsed": false,
    "ExecuteTime": {
     "end_time": "2024-03-26T20:29:51.160287Z",
     "start_time": "2024-03-26T20:29:51.139019Z"
    }
   },
   "id": "b29099fcfea485eb",
   "execution_count": 24
  },
  {
   "cell_type": "markdown",
   "source": [
    "**Below I analyse X_train, X_test, y_train, y_test**:\n",
    "\n",
    "- First let's check the columns of X_train:"
   ],
   "metadata": {
    "collapsed": false
   },
   "id": "ef4303c3b99768cb"
  },
  {
   "cell_type": "code",
   "outputs": [
    {
     "name": "stdout",
     "output_type": "stream",
     "text": [
      "['Age' 'Annual_Income' 'Outstanding_Debt' 'Total_EMI_per_month'\n",
      " 'Delay_from_due_date' 'Num_of_Delayed_Payment' 'Credit_Utilization_Ratio'\n",
      " 'Payment_Behaviour' 'Credit_Mix' 'Payment_of_Min_Amount' 'Occupation']\n"
     ]
    }
   ],
   "source": [
    "print(X_train.columns.values)"
   ],
   "metadata": {
    "collapsed": false,
    "ExecuteTime": {
     "end_time": "2024-03-26T20:29:51.190153Z",
     "start_time": "2024-03-26T20:29:51.186235Z"
    }
   },
   "id": "95252870b99b2c57",
   "execution_count": 25
  },
  {
   "cell_type": "markdown",
   "source": [
    "- What are the shapes of the subsets?"
   ],
   "metadata": {
    "collapsed": false
   },
   "id": "ad4553c1f6d751d2"
  },
  {
   "cell_type": "code",
   "outputs": [
    {
     "name": "stdout",
     "output_type": "stream",
     "text": [
      "X_train shape: (10000, 11)\n",
      "y_train shape: (10000,)\n",
      "\n",
      "\n",
      "X_test shape: (2500, 11)\n",
      "y_test shape: (2500,)\n"
     ]
    }
   ],
   "source": [
    "print('X_train shape: '+str(X_train.shape) )\n",
    "print('y_train shape: '+str(y_train.shape)+'\\n\\n')\n",
    "\n",
    "print('X_test shape: '+str(X_test.shape) )\n",
    "print('y_test shape: '+str(y_test.shape))"
   ],
   "metadata": {
    "collapsed": false,
    "ExecuteTime": {
     "end_time": "2024-03-26T20:29:51.250866Z",
     "start_time": "2024-03-26T20:29:51.246009Z"
    }
   },
   "id": "43292dcc8cab7312",
   "execution_count": 26
  },
  {
   "cell_type": "markdown",
   "source": [
    "- How many observations per class contained in train and test subsets?"
   ],
   "metadata": {
    "collapsed": false
   },
   "id": "bbaf993f955b3663"
  },
  {
   "cell_type": "code",
   "outputs": [
    {
     "data": {
      "text/plain": "<Figure size 1600x600 with 2 Axes>",
      "image/png": "[encoded data removed]"
     },
     "metadata": {},
     "output_type": "display_data"
    }
   ],
   "source": [
    "# Find the unique class labels\n",
    "class_labels = y.unique()\n",
    "\n",
    "# Sort the class labels\n",
    "class_labels.sort()\n",
    "\n",
    "fig, axes = plt.subplots(nrows=1, ncols=2, figsize=(16, 6))\n",
    "\n",
    "# For 'y_train', pass class_labels to order parameter\n",
    "sns.countplot(y_train, order=class_labels, ax=axes[0])\n",
    "axes[0].set_title('y_train')\n",
    "\n",
    "# For 'y_test', pass class_labels to order parameter\n",
    "sns.countplot(y_test, order=class_labels, ax=axes[1])\n",
    "axes[1].set_title('y_test')\n",
    "\n",
    "plt.tight_layout()\n",
    "plt.show()"
   ],
   "metadata": {
    "collapsed": false,
    "ExecuteTime": {
     "end_time": "2024-03-26T20:29:51.862623Z",
     "start_time": "2024-03-26T20:29:51.353596Z"
    }
   },
   "id": "f045588310f5afca",
   "execution_count": 27
  },
  {
   "cell_type": "code",
   "outputs": [
    {
     "name": "stdout",
     "output_type": "stream",
     "text": [
      "Proportion of observations per class in y_train:\n",
      "Credit_Score\n",
      "Standard    0.5188\n",
      "Poor        0.2882\n",
      "Good        0.1930\n",
      "Name: proportion, dtype: float64\n",
      "\n",
      "Proportion of observations per class in y_test:\n",
      "Credit_Score\n",
      "Standard    0.5188\n",
      "Poor        0.2880\n",
      "Good        0.1932\n",
      "Name: proportion, dtype: float64\n"
     ]
    }
   ],
   "source": [
    "# Proportion of observations per class in y_train\n",
    "y_train_prop = y_train.value_counts(normalize=True)\n",
    "print('Proportion of observations per class in y_train:')\n",
    "print(y_train_prop)\n",
    "\n",
    "# Proportion of observations per class in y_test\n",
    "y_test_prop = y_test.value_counts(normalize=True)\n",
    "print('\\nProportion of observations per class in y_test:')\n",
    "print(y_test_prop)"
   ],
   "metadata": {
    "collapsed": false,
    "ExecuteTime": {
     "end_time": "2024-03-26T20:29:51.872963Z",
     "start_time": "2024-03-26T20:29:51.864621Z"
    }
   },
   "id": "cd7cc393098669f5",
   "execution_count": 28
  },
  {
   "cell_type": "code",
   "outputs": [
    {
     "name": "stdout",
     "output_type": "stream",
     "text": [
      "Count of observations per class in y_train:\n",
      "Credit_Score\n",
      "Standard    5188\n",
      "Poor        2882\n",
      "Good        1930\n",
      "Name: count, dtype: int64\n",
      "\n",
      "Count of observations per class in y_test:\n",
      "Credit_Score\n",
      "Standard    1297\n",
      "Poor         720\n",
      "Good         483\n",
      "Name: count, dtype: int64\n"
     ]
    }
   ],
   "source": [
    "# Count of observations per class in y_train\n",
    "y_train_count = y_train.value_counts(normalize=False)\n",
    "print('Count of observations per class in y_train:')\n",
    "print(y_train_count)\n",
    "\n",
    "# Count of observations per class in y_test\n",
    "y_test_count = y_test.value_counts(normalize=False)\n",
    "print('\\nCount of observations per class in y_test:')\n",
    "print(y_test_count)"
   ],
   "metadata": {
    "collapsed": false,
    "ExecuteTime": {
     "end_time": "2024-03-26T20:29:51.883619Z",
     "start_time": "2024-03-26T20:29:51.874961Z"
    }
   },
   "id": "13feb44575528e84",
   "execution_count": 29
  },
  {
   "cell_type": "markdown",
   "source": [
    "### Concluding\n",
    "\n",
    "Throughout this notebook, I developed **feature engineering pipelines** that are crucial to preprocessing data for machine learning tasks. Furthermore, I chose the **data splitting strategy** that will be used on modelling phase.  \n",
    "\n",
    "More specifically, I developed a function resulting in preprocessors for the transformation of dataset features. These preprocessors have been created to handle numerical and categorical data separately, utilising methods such as standard scaling and one-hot or ordinal encoding. This will allow the model to interpret the data more accurately.\n",
    "\n",
    "These functions are now encapsulated in the script named **preprocessor.py** under the **custom_functions** directory. This organization provides an effective way to reuse these functions for similar tasks in the future without needing to rewrite or copy the code.\n",
    "\n",
    "Additionally, I divided the data into training and testing subsets, allowing for the evaluation of model accuracy on unseen data; a crucial element in machine learning modelling. This split was performed in a stratified manner, ensuring that the proportions of classes in the target variable are maintained in both training and testing sets. Stratification helps improve the model's ability to predict less frequent classes and provides more reliable performance metrics.\n",
    "\n",
    "Finally, I evaluated the distribution of observations per target class in both the y_test and y_train subsets. This step is particularly important in case the dataset contains imbalanced classes in the target variable. Identifying and addressing this imbalance is necessary, as not doing so can lead to a model that has poor predictive performance, particularly for the minority class."
   ],
   "metadata": {
    "collapsed": false
   },
   "id": "2708f4ca83ab916d"
  },
  {
   "cell_type": "code",
   "outputs": [
    {
     "name": "stdout",
     "output_type": "stream",
     "text": [
      "Notebook runs without errors - End of Notebook 3\n"
     ]
    }
   ],
   "source": [
    "print('Notebook runs without errors - End of Notebook 3')"
   ],
   "metadata": {
    "collapsed": false,
    "ExecuteTime": {
     "end_time": "2024-03-26T20:29:51.891251Z",
     "start_time": "2024-03-26T20:29:51.885616Z"
    }
   },
   "id": "ba09206d95b6ffdf",
   "execution_count": 30
  }
 ],
 "metadata": {
  "kernelspec": {
   "display_name": "Python 3",
   "language": "python",
   "name": "python3"
  },
  "language_info": {
   "codemirror_mode": {
    "name": "ipython",
    "version": 2
   },
   "file_extension": ".py",
   "mimetype": "text/x-python",
   "name": "python",
   "nbconvert_exporter": "python",
   "pygments_lexer": "ipython2",
   "version": "2.7.6"
  }
 },
 "nbformat": 4,
 "nbformat_minor": 5
}
