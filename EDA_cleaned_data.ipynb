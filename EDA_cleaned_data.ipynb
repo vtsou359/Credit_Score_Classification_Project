{
 "cells": [
  {
   "cell_type": "markdown",
   "source": [
    "# Data Understanding - EDA on cleaned data\n",
    "## Data Understanding and EDA - Notebook 2\n",
    "### "
   ],
   "metadata": {
    "collapsed": false
   },
   "id": "a52446a543ab5df9"
  },
  {
   "cell_type": "code",
   "execution_count": 1,
   "id": "initial_id",
   "metadata": {
    "collapsed": true,
    "ExecuteTime": {
     "end_time": "2024-03-10T10:12:57.484105Z",
     "start_time": "2024-03-10T10:12:57.288073Z"
    }
   },
   "outputs": [],
   "source": [
    "# for data manipulation and analysis\n",
    "\n",
    "import numpy as np\n",
    "import pandas as pd\n",
    "\n",
    "# visualisation tools\n",
    "import matplotlib as mpl\n",
    "import matplotlib.pyplot as plt\n",
    "import seaborn as sns\n",
    "import plotly.graph_objects as go\n",
    "import plotly.express as px\n",
    "\n",
    "import scipy.stats as stats\n",
    "\n",
    "# ML libraries\n",
    "# not needed for now"
   ]
  },
  {
   "cell_type": "code",
   "outputs": [
    {
     "name": "stdout",
     "output_type": "stream",
     "text": [
      "<class 'pandas.core.frame.DataFrame'>\n",
      "RangeIndex: 100000 entries, 0 to 99999\n",
      "Data columns (total 26 columns):\n",
      " #   Column                    Non-Null Count   Dtype  \n",
      "---  ------                    --------------   -----  \n",
      " 0   ID                        100000 non-null  int64  \n",
      " 1   Customer_ID               100000 non-null  int64  \n",
      " 2   Month                     100000 non-null  int64  \n",
      " 3   Age                       100000 non-null  float64\n",
      " 4   Occupation                100000 non-null  object \n",
      " 5   Annual_Income             100000 non-null  float64\n",
      " 6   Monthly_Inhand_Salary     100000 non-null  float64\n",
      " 7   Num_Bank_Accounts         100000 non-null  float64\n",
      " 8   Num_Credit_Card           100000 non-null  float64\n",
      " 9   Interest_Rate             100000 non-null  float64\n",
      " 10  Num_of_Loan               100000 non-null  float64\n",
      " 11  Type_of_Loan              100000 non-null  object \n",
      " 12  Delay_from_due_date       100000 non-null  float64\n",
      " 13  Num_of_Delayed_Payment    100000 non-null  float64\n",
      " 14  Changed_Credit_Limit      100000 non-null  float64\n",
      " 15  Num_Credit_Inquiries      100000 non-null  float64\n",
      " 16  Credit_Mix                100000 non-null  object \n",
      " 17  Outstanding_Debt          100000 non-null  float64\n",
      " 18  Credit_Utilization_Ratio  100000 non-null  float64\n",
      " 19  Credit_History_Age        100000 non-null  float64\n",
      " 20  Payment_of_Min_Amount     100000 non-null  object \n",
      " 21  Total_EMI_per_month       100000 non-null  float64\n",
      " 22  Amount_invested_monthly   100000 non-null  float64\n",
      " 23  Payment_Behaviour         100000 non-null  object \n",
      " 24  Monthly_Balance           100000 non-null  float64\n",
      " 25  Credit_Score              100000 non-null  object \n",
      "dtypes: float64(17), int64(3), object(6)\n",
      "memory usage: 19.8+ MB\n"
     ]
    }
   ],
   "source": [
    "df = pd.read_csv('data_clean/clean_dataset.csv')\n",
    "df.info()"
   ],
   "metadata": {
    "collapsed": false,
    "ExecuteTime": {
     "end_time": "2024-03-10T10:12:57.999366Z",
     "start_time": "2024-03-10T10:12:57.486089Z"
    }
   },
   "id": "7b5637d7e6c7c4f5",
   "execution_count": 2
  },
  {
   "cell_type": "markdown",
   "source": [
    "#### Deciding which data time screenshots to keep based on the month feature\n",
    "Because this project is running on a local machine I want to reduce the dataset's dimensions to be able to apply more complex models later. I will keep the most current months (month 8 or 7 & 8) for every customer. I have 12500 distinct customers based on **Customer_ID**."
   ],
   "metadata": {
    "collapsed": false
   },
   "id": "89b5f466e881c4d6"
  },
  {
   "cell_type": "code",
   "outputs": [
    {
     "data": {
      "text/plain": "           ID  Customer_ID  Month   Age Occupation  Annual_Income  \\\n0        5634         3392      1  23.0  Scientist       19114.12   \n1        5635         3392      2  23.0  Scientist       19114.12   \n2        5636         3392      3  23.0  Scientist       19114.12   \n3        5637         3392      4  23.0  Scientist       19114.12   \n4        5638         3392      5  23.0  Scientist       19114.12   \n...       ...          ...    ...   ...        ...            ...   \n99995  155625        37932      4  25.0   Mechanic       39628.99   \n99996  155626        37932      5  25.0   Mechanic       39628.99   \n99997  155627        37932      6  25.0   Mechanic       39628.99   \n99998  155628        37932      7  25.0   Mechanic       39628.99   \n99999  155629        37932      8  25.0   Mechanic       39628.99   \n\n       Monthly_Inhand_Salary  Num_Bank_Accounts  Num_Credit_Card  \\\n0                1824.843333                3.0              4.0   \n1                1824.843333                3.0              4.0   \n2                1824.843333                3.0              4.0   \n3                1824.843333                3.0              4.0   \n4                1824.843333                3.0              4.0   \n...                      ...                ...              ...   \n99995            3359.415833                4.0              6.0   \n99996            3359.415833                4.0              6.0   \n99997            3359.415833                4.0              6.0   \n99998            3359.415833                4.0              6.0   \n99999            3359.415833                4.0              6.0   \n\n       Interest_Rate  ...  Credit_Mix Outstanding_Debt  \\\n0                3.0  ...        Good           809.98   \n1                3.0  ...        Good           809.98   \n2                3.0  ...        Good           809.98   \n3                3.0  ...        Good           809.98   \n4                3.0  ...        Good           809.98   \n...              ...  ...         ...              ...   \n99995            7.0  ...        Good           502.38   \n99996            7.0  ...        Good           502.38   \n99997            7.0  ...        Good           502.38   \n99998            7.0  ...        Good           502.38   \n99999            7.0  ...        Good           502.38   \n\n       Credit_Utilization_Ratio  Credit_History_Age  Payment_of_Min_Amount  \\\n0                     26.822620               265.0                     No   \n1                     31.944960               266.0                     No   \n2                     28.609352               267.0                     No   \n3                     31.377862               268.0                     No   \n4                     24.797347               269.0                     No   \n...                         ...                 ...                    ...   \n99995                 34.663572               378.0                     No   \n99996                 29.135447               379.0                     No   \n99997                 29.135447               380.0                     No   \n99998                 33.638208               381.0                     No   \n99999                 34.192463               382.0                     No   \n\n       Total_EMI_per_month Amount_invested_monthly  \\\n0                49.574949               24.785217   \n1                49.574949               24.785217   \n2                49.574949               24.785217   \n3                49.574949               24.785217   \n4                49.574949               24.785217   \n...                    ...                     ...   \n99995            35.104023               24.028477   \n99996            35.104023               24.028477   \n99997            35.104023               24.028477   \n99998            35.104023               24.028477   \n99999            35.104023               24.028477   \n\n                      Payment_Behaviour  Monthly_Balance  Credit_Score  \n0       High_spent_Small_value_payments       312.494089          Good  \n1        Low_spent_Large_value_payments       284.629162          Good  \n2       Low_spent_Medium_value_payments       331.209863          Good  \n3        Low_spent_Small_value_payments       223.451310          Good  \n4      High_spent_Medium_value_payments       341.489231          Good  \n...                                 ...              ...           ...  \n99995   High_spent_Large_value_payments       479.866228          Poor  \n99996  High_spent_Medium_value_payments       496.651610          Poor  \n99997   High_spent_Large_value_payments       516.809083          Poor  \n99998    Low_spent_Large_value_payments       319.164979      Standard  \n99999   High_spent_Large_value_payments       393.673696          Poor  \n\n[100000 rows x 26 columns]",
      "text/html": "<div>\n<style scoped>\n    .dataframe tbody tr th:only-of-type {\n        vertical-align: middle;\n    }\n\n    .dataframe tbody tr th {\n        vertical-align: top;\n    }\n\n    .dataframe thead th {\n        text-align: right;\n    }\n</style>\n<table border=\"1\" class=\"dataframe\">\n  <thead>\n    <tr style=\"text-align: right;\">\n      <th></th>\n      <th>ID</th>\n      <th>Customer_ID</th>\n      <th>Month</th>\n      <th>Age</th>\n      <th>Occupation</th>\n      <th>Annual_Income</th>\n      <th>Monthly_Inhand_Salary</th>\n      <th>Num_Bank_Accounts</th>\n      <th>Num_Credit_Card</th>\n      <th>Interest_Rate</th>\n      <th>...</th>\n      <th>Credit_Mix</th>\n      <th>Outstanding_Debt</th>\n      <th>Credit_Utilization_Ratio</th>\n      <th>Credit_History_Age</th>\n      <th>Payment_of_Min_Amount</th>\n      <th>Total_EMI_per_month</th>\n      <th>Amount_invested_monthly</th>\n      <th>Payment_Behaviour</th>\n      <th>Monthly_Balance</th>\n      <th>Credit_Score</th>\n    </tr>\n  </thead>\n  <tbody>\n    <tr>\n      <th>0</th>\n      <td>5634</td>\n      <td>3392</td>\n      <td>1</td>\n      <td>23.0</td>\n      <td>Scientist</td>\n      <td>19114.12</td>\n      <td>1824.843333</td>\n      <td>3.0</td>\n      <td>4.0</td>\n      <td>3.0</td>\n      <td>...</td>\n      <td>Good</td>\n      <td>809.98</td>\n      <td>26.822620</td>\n      <td>265.0</td>\n      <td>No</td>\n      <td>49.574949</td>\n      <td>24.785217</td>\n      <td>High_spent_Small_value_payments</td>\n      <td>312.494089</td>\n      <td>Good</td>\n    </tr>\n    <tr>\n      <th>1</th>\n      <td>5635</td>\n      <td>3392</td>\n      <td>2</td>\n      <td>23.0</td>\n      <td>Scientist</td>\n      <td>19114.12</td>\n      <td>1824.843333</td>\n      <td>3.0</td>\n      <td>4.0</td>\n      <td>3.0</td>\n      <td>...</td>\n      <td>Good</td>\n      <td>809.98</td>\n      <td>31.944960</td>\n      <td>266.0</td>\n      <td>No</td>\n      <td>49.574949</td>\n      <td>24.785217</td>\n      <td>Low_spent_Large_value_payments</td>\n      <td>284.629162</td>\n      <td>Good</td>\n    </tr>\n    <tr>\n      <th>2</th>\n      <td>5636</td>\n      <td>3392</td>\n      <td>3</td>\n      <td>23.0</td>\n      <td>Scientist</td>\n      <td>19114.12</td>\n      <td>1824.843333</td>\n      <td>3.0</td>\n      <td>4.0</td>\n      <td>3.0</td>\n      <td>...</td>\n      <td>Good</td>\n      <td>809.98</td>\n      <td>28.609352</td>\n      <td>267.0</td>\n      <td>No</td>\n      <td>49.574949</td>\n      <td>24.785217</td>\n      <td>Low_spent_Medium_value_payments</td>\n      <td>331.209863</td>\n      <td>Good</td>\n    </tr>\n    <tr>\n      <th>3</th>\n      <td>5637</td>\n      <td>3392</td>\n      <td>4</td>\n      <td>23.0</td>\n      <td>Scientist</td>\n      <td>19114.12</td>\n      <td>1824.843333</td>\n      <td>3.0</td>\n      <td>4.0</td>\n      <td>3.0</td>\n      <td>...</td>\n      <td>Good</td>\n      <td>809.98</td>\n      <td>31.377862</td>\n      <td>268.0</td>\n      <td>No</td>\n      <td>49.574949</td>\n      <td>24.785217</td>\n      <td>Low_spent_Small_value_payments</td>\n      <td>223.451310</td>\n      <td>Good</td>\n    </tr>\n    <tr>\n      <th>4</th>\n      <td>5638</td>\n      <td>3392</td>\n      <td>5</td>\n      <td>23.0</td>\n      <td>Scientist</td>\n      <td>19114.12</td>\n      <td>1824.843333</td>\n      <td>3.0</td>\n      <td>4.0</td>\n      <td>3.0</td>\n      <td>...</td>\n      <td>Good</td>\n      <td>809.98</td>\n      <td>24.797347</td>\n      <td>269.0</td>\n      <td>No</td>\n      <td>49.574949</td>\n      <td>24.785217</td>\n      <td>High_spent_Medium_value_payments</td>\n      <td>341.489231</td>\n      <td>Good</td>\n    </tr>\n    <tr>\n      <th>...</th>\n      <td>...</td>\n      <td>...</td>\n      <td>...</td>\n      <td>...</td>\n      <td>...</td>\n      <td>...</td>\n      <td>...</td>\n      <td>...</td>\n      <td>...</td>\n      <td>...</td>\n      <td>...</td>\n      <td>...</td>\n      <td>...</td>\n      <td>...</td>\n      <td>...</td>\n      <td>...</td>\n      <td>...</td>\n      <td>...</td>\n      <td>...</td>\n      <td>...</td>\n      <td>...</td>\n    </tr>\n    <tr>\n      <th>99995</th>\n      <td>155625</td>\n      <td>37932</td>\n      <td>4</td>\n      <td>25.0</td>\n      <td>Mechanic</td>\n      <td>39628.99</td>\n      <td>3359.415833</td>\n      <td>4.0</td>\n      <td>6.0</td>\n      <td>7.0</td>\n      <td>...</td>\n      <td>Good</td>\n      <td>502.38</td>\n      <td>34.663572</td>\n      <td>378.0</td>\n      <td>No</td>\n      <td>35.104023</td>\n      <td>24.028477</td>\n      <td>High_spent_Large_value_payments</td>\n      <td>479.866228</td>\n      <td>Poor</td>\n    </tr>\n    <tr>\n      <th>99996</th>\n      <td>155626</td>\n      <td>37932</td>\n      <td>5</td>\n      <td>25.0</td>\n      <td>Mechanic</td>\n      <td>39628.99</td>\n      <td>3359.415833</td>\n      <td>4.0</td>\n      <td>6.0</td>\n      <td>7.0</td>\n      <td>...</td>\n      <td>Good</td>\n      <td>502.38</td>\n      <td>29.135447</td>\n      <td>379.0</td>\n      <td>No</td>\n      <td>35.104023</td>\n      <td>24.028477</td>\n      <td>High_spent_Medium_value_payments</td>\n      <td>496.651610</td>\n      <td>Poor</td>\n    </tr>\n    <tr>\n      <th>99997</th>\n      <td>155627</td>\n      <td>37932</td>\n      <td>6</td>\n      <td>25.0</td>\n      <td>Mechanic</td>\n      <td>39628.99</td>\n      <td>3359.415833</td>\n      <td>4.0</td>\n      <td>6.0</td>\n      <td>7.0</td>\n      <td>...</td>\n      <td>Good</td>\n      <td>502.38</td>\n      <td>29.135447</td>\n      <td>380.0</td>\n      <td>No</td>\n      <td>35.104023</td>\n      <td>24.028477</td>\n      <td>High_spent_Large_value_payments</td>\n      <td>516.809083</td>\n      <td>Poor</td>\n    </tr>\n    <tr>\n      <th>99998</th>\n      <td>155628</td>\n      <td>37932</td>\n      <td>7</td>\n      <td>25.0</td>\n      <td>Mechanic</td>\n      <td>39628.99</td>\n      <td>3359.415833</td>\n      <td>4.0</td>\n      <td>6.0</td>\n      <td>7.0</td>\n      <td>...</td>\n      <td>Good</td>\n      <td>502.38</td>\n      <td>33.638208</td>\n      <td>381.0</td>\n      <td>No</td>\n      <td>35.104023</td>\n      <td>24.028477</td>\n      <td>Low_spent_Large_value_payments</td>\n      <td>319.164979</td>\n      <td>Standard</td>\n    </tr>\n    <tr>\n      <th>99999</th>\n      <td>155629</td>\n      <td>37932</td>\n      <td>8</td>\n      <td>25.0</td>\n      <td>Mechanic</td>\n      <td>39628.99</td>\n      <td>3359.415833</td>\n      <td>4.0</td>\n      <td>6.0</td>\n      <td>7.0</td>\n      <td>...</td>\n      <td>Good</td>\n      <td>502.38</td>\n      <td>34.192463</td>\n      <td>382.0</td>\n      <td>No</td>\n      <td>35.104023</td>\n      <td>24.028477</td>\n      <td>High_spent_Large_value_payments</td>\n      <td>393.673696</td>\n      <td>Poor</td>\n    </tr>\n  </tbody>\n</table>\n<p>100000 rows × 26 columns</p>\n</div>"
     },
     "execution_count": 3,
     "metadata": {},
     "output_type": "execute_result"
    }
   ],
   "source": [
    "df"
   ],
   "metadata": {
    "collapsed": false,
    "ExecuteTime": {
     "end_time": "2024-03-10T10:12:58.086548Z",
     "start_time": "2024-03-10T10:12:58.001533Z"
    }
   },
   "id": "5db2a5917a6b797a",
   "execution_count": 3
  },
  {
   "cell_type": "code",
   "outputs": [
    {
     "data": {
      "text/plain": "(12500, 26)"
     },
     "execution_count": 4,
     "metadata": {},
     "output_type": "execute_result"
    }
   ],
   "source": [
    "df.query('Month == 8').shape"
   ],
   "metadata": {
    "collapsed": false,
    "ExecuteTime": {
     "end_time": "2024-03-10T10:12:58.101015Z",
     "start_time": "2024-03-10T10:12:58.088380Z"
    }
   },
   "id": "2773a99be3c15748",
   "execution_count": 4
  },
  {
   "cell_type": "code",
   "outputs": [
    {
     "data": {
      "text/plain": "(25000, 26)"
     },
     "execution_count": 5,
     "metadata": {},
     "output_type": "execute_result"
    }
   ],
   "source": [
    "df.query('Month == 8 or Month == 7').shape"
   ],
   "metadata": {
    "collapsed": false,
    "ExecuteTime": {
     "end_time": "2024-03-10T10:12:58.118188Z",
     "start_time": "2024-03-10T10:12:58.103134Z"
    }
   },
   "id": "b2760df91c7d195a",
   "execution_count": 5
  },
  {
   "cell_type": "code",
   "outputs": [
    {
     "data": {
      "text/plain": "<Figure size 1100x600 with 2 Axes>",
      "image/png": "[encoded data removed]"
     },
     "metadata": {},
     "output_type": "display_data"
    }
   ],
   "source": [
    "fig, axs = plt.subplots(1,2, figsize=(11,6))\n",
    "df8 = df.query('Month == 8')\n",
    "df78= df.query('Month == 8 or Month == 7')\n",
    "\n",
    "\n",
    "# Plot for 'data' DataFrame\n",
    "(df8['Credit_Score'].value_counts(normalize = True)*100).plot(kind='bar', ax=axs[0])\n",
    "axs[0].set_title('Percentage of credit score categories \\n(only  month == 8 included)')\n",
    "axs[0].set_ylabel('Percentage')\n",
    "axs[0].set_xlabel('Credit Score Category')\n",
    "\n",
    "# Plot for 'data_reduced' DataFrame\n",
    "(df78['Credit_Score'].value_counts(normalize = True)*100).plot(kind='bar', ax=axs[1])\n",
    "axs[1].set_title('Percentage of credit score categories \\n(only month == 8 OR month == 7 included)')\n",
    "axs[1].set_ylabel('Percentage')\n",
    "axs[1].set_xlabel('Credit Score Category')\n",
    "\n",
    "#plt.tight_layout()\n",
    "plt.show()"
   ],
   "metadata": {
    "collapsed": false,
    "ExecuteTime": {
     "end_time": "2024-03-10T10:12:59.034071Z",
     "start_time": "2024-03-10T10:12:58.120812Z"
    }
   },
   "id": "cd3980634f805a45",
   "execution_count": 6
  },
  {
   "cell_type": "code",
   "outputs": [
    {
     "name": "stdout",
     "output_type": "stream",
     "text": [
      "Count of credit score categories (only month == 8 included):\n",
      "  Credit_Score  count\n",
      "0     Standard   6485\n",
      "1         Poor   3602\n",
      "2         Good   2413\n",
      "\n",
      "\n",
      "\n",
      "Count of credit score categories (only month == 8 OR month == 7 included):\n",
      "  Credit_Score  count\n",
      "0     Standard  12960\n",
      "1         Poor   7216\n",
      "2         Good   4824\n"
     ]
    }
   ],
   "source": [
    "#printing the counts:\n",
    "print('Count of credit score categories (only month == 8 included):')\n",
    "print((df8['Credit_Score'].value_counts(normalize = False)).reset_index())\n",
    "print('\\n\\n')\n",
    "print('Count of credit score categories (only month == 8 OR month == 7 included):')\n",
    "print((df78['Credit_Score'].value_counts(normalize = False)).reset_index())"
   ],
   "metadata": {
    "collapsed": false,
    "ExecuteTime": {
     "end_time": "2024-03-10T10:12:59.050066Z",
     "start_time": "2024-03-10T10:12:59.036732Z"
    }
   },
   "id": "4960adc635b786e0",
   "execution_count": 7
  },
  {
   "cell_type": "code",
   "outputs": [
    {
     "name": "stdout",
     "output_type": "stream",
     "text": [
      "Percentage of credit score categories (only for month == 8):\n",
      "  Credit_Score  proportion\n",
      "0     Standard      51.880\n",
      "1         Poor      28.816\n",
      "2         Good      19.304\n",
      "\n",
      "\n",
      "\n",
      "Percentage of credit score categories (month == 8 OR month == 7):\n",
      "  Credit_Score  proportion\n",
      "0     Standard      51.840\n",
      "1         Poor      28.864\n",
      "2         Good      19.296\n"
     ]
    }
   ],
   "source": [
    "#printing the percentages:\n",
    "print('Percentage of credit score categories (only for month == 8):')\n",
    "print((df8['Credit_Score'].value_counts(normalize = True)*100).reset_index())\n",
    "print('\\n\\n')\n",
    "print('Percentage of credit score categories (month == 8 OR month == 7):')\n",
    "print((df78['Credit_Score'].value_counts(normalize = True)*100).reset_index())"
   ],
   "metadata": {
    "collapsed": false,
    "ExecuteTime": {
     "end_time": "2024-03-10T10:12:59.068452Z",
     "start_time": "2024-03-10T10:12:59.052743Z"
    }
   },
   "id": "8f336ee3bf1c9099",
   "execution_count": 8
  },
  {
   "cell_type": "markdown",
   "source": [
    "What about a different combination? (month == 1 OR 8)"
   ],
   "metadata": {
    "collapsed": false
   },
   "id": "504300dbb979a43f"
  },
  {
   "cell_type": "code",
   "outputs": [
    {
     "name": "stdout",
     "output_type": "stream",
     "text": [
      "Count of credit score categories (only month == 8 included):\n",
      "  Credit_Score  count\n",
      "0     Standard   6485\n",
      "1         Poor   3602\n",
      "2         Good   2413\n",
      "\n",
      "\n",
      "\n",
      "Count of credit score categories (only month == 8 OR month == 1 included):\n",
      "  Credit_Score  count\n",
      "0     Standard  13428\n",
      "1         Poor   7184\n",
      "2         Good   4388\n",
      "\n",
      "\n",
      "------------\n",
      "\n",
      "\n",
      "Percentage of credit score categories (only for month == 8):\n",
      "  Credit_Score  proportion\n",
      "0     Standard      51.880\n",
      "1         Poor      28.816\n",
      "2         Good      19.304\n",
      "\n",
      "\n",
      "\n",
      "Percentage of credit score categories (month == 8 OR month == 1 included):\n",
      "  Credit_Score  proportion\n",
      "0     Standard      53.712\n",
      "1         Poor      28.736\n",
      "2         Good      17.552\n"
     ]
    }
   ],
   "source": [
    "df18 = df.query('Month == 8 or Month == 1')\n",
    "\n",
    "#printing the counts:\n",
    "print('Count of credit score categories (only month == 8 included):')\n",
    "print((df8['Credit_Score'].value_counts(normalize = False)).reset_index())\n",
    "print('\\n\\n')\n",
    "print('Count of credit score categories (only month == 8 OR month == 1 included):')\n",
    "print((df18['Credit_Score'].value_counts(normalize = False)).reset_index())\n",
    "\n",
    "print('\\n\\n------------\\n\\n')\n",
    "\n",
    "#printing the percentages:\n",
    "print('Percentage of credit score categories (only for month == 8):')\n",
    "print((df8['Credit_Score'].value_counts(normalize = True)*100).reset_index())\n",
    "print('\\n\\n')\n",
    "print('Percentage of credit score categories (month == 8 OR month == 1 included):')\n",
    "print((df18['Credit_Score'].value_counts(normalize = True)*100).reset_index())"
   ],
   "metadata": {
    "collapsed": false,
    "ExecuteTime": {
     "end_time": "2024-03-10T10:12:59.100677Z",
     "start_time": "2024-03-10T10:12:59.071071Z"
    }
   },
   "id": "e9392e34c8dd9164",
   "execution_count": 9
  },
  {
   "cell_type": "markdown",
   "source": [
    "**I decided to  keep the subset with most current month (month == 8) per Customer_ID. There are no big differences on the count of classes of the target variable between the above subsets**.\n",
    "\n",
    "Note: Normally I should check all the numerical feature's distributions, categorical features' classes counts and percentages of the above subsets. For reasons of simplicity, I make the assumption that there are no significant changes of features' characteristics when choosing my final subset."
   ],
   "metadata": {
    "collapsed": false
   },
   "id": "8b54b6e9c8b22d4"
  },
  {
   "cell_type": "markdown",
   "source": [
    "**Assigning subset to df Dataframe**:"
   ],
   "metadata": {
    "collapsed": false
   },
   "id": "1d7c53f2d54fb77f"
  },
  {
   "cell_type": "code",
   "outputs": [
    {
     "data": {
      "text/plain": "(12500, 26)"
     },
     "execution_count": 10,
     "metadata": {},
     "output_type": "execute_result"
    }
   ],
   "source": [
    "data = df.query('Month == 8')\n",
    "data.shape"
   ],
   "metadata": {
    "collapsed": false,
    "ExecuteTime": {
     "end_time": "2024-03-10T10:12:59.119845Z",
     "start_time": "2024-03-10T10:12:59.107365Z"
    }
   },
   "id": "1f3246f097367b00",
   "execution_count": 10
  },
  {
   "cell_type": "markdown",
   "source": [
    "Which features should I drop first, as they will be no useful in modelling phase?"
   ],
   "metadata": {
    "collapsed": false
   },
   "id": "4697b0b4108b4f36"
  },
  {
   "cell_type": "code",
   "outputs": [
    {
     "data": {
      "text/plain": "array(['ID', 'Customer_ID', 'Month', 'Age', 'Occupation', 'Annual_Income',\n       'Monthly_Inhand_Salary', 'Num_Bank_Accounts', 'Num_Credit_Card',\n       'Interest_Rate', 'Num_of_Loan', 'Type_of_Loan',\n       'Delay_from_due_date', 'Num_of_Delayed_Payment',\n       'Changed_Credit_Limit', 'Num_Credit_Inquiries', 'Credit_Mix',\n       'Outstanding_Debt', 'Credit_Utilization_Ratio',\n       'Credit_History_Age', 'Payment_of_Min_Amount',\n       'Total_EMI_per_month', 'Amount_invested_monthly',\n       'Payment_Behaviour', 'Monthly_Balance', 'Credit_Score'],\n      dtype=object)"
     },
     "execution_count": 11,
     "metadata": {},
     "output_type": "execute_result"
    }
   ],
   "source": [
    "df.columns.values"
   ],
   "metadata": {
    "collapsed": false,
    "ExecuteTime": {
     "end_time": "2024-03-10T10:12:59.127932Z",
     "start_time": "2024-03-10T10:12:59.121686Z"
    }
   },
   "id": "2d58ad06754f1128",
   "execution_count": 11
  },
  {
   "cell_type": "markdown",
   "source": [
    "Features **Month** and **ID** are obsolete and will be dropped:"
   ],
   "metadata": {
    "collapsed": false
   },
   "id": "32d1f7ddefca237"
  },
  {
   "cell_type": "code",
   "outputs": [
    {
     "data": {
      "text/plain": "(12500, 24)"
     },
     "execution_count": 12,
     "metadata": {},
     "output_type": "execute_result"
    }
   ],
   "source": [
    "# dropping features and resetting indexL\n",
    "data = data.drop(['ID','Month'], axis = 1, inplace = False).reset_index().drop(['index'], axis = 1, inplace = False)\n",
    "data.shape"
   ],
   "metadata": {
    "collapsed": false,
    "ExecuteTime": {
     "end_time": "2024-03-10T10:12:59.143248Z",
     "start_time": "2024-03-10T10:12:59.130008Z"
    }
   },
   "id": "d93fbedbfc86a685",
   "execution_count": 12
  },
  {
   "cell_type": "code",
   "outputs": [
    {
     "data": {
      "text/plain": "       Customer_ID   Age     Occupation  Annual_Income  Monthly_Inhand_Salary  \\\n0             3392  23.0      Scientist       19114.12            1824.843333   \n1             8625  28.0        Teacher       34847.84            3037.986667   \n2            11708  34.0       Engineer      143162.64           12187.220000   \n3            47249  55.0   Entrepreneur       30689.89            2612.490833   \n4             7387  21.0      Developer       35547.71            2853.309167   \n...            ...   ...            ...            ...                    ...   \n12495        14124  19.0         Lawyer       42903.79            3468.315833   \n12496         3862  45.0  Media_Manager       16680.35            1528.029167   \n12497        44897  50.0         Writer       37188.10            3097.008333   \n12498        34304  29.0      Architect       20002.88            1929.906667   \n12499        37932  25.0       Mechanic       39628.99            3359.415833   \n\n       Num_Bank_Accounts  Num_Credit_Card  Interest_Rate  Num_of_Loan  \\\n0                    3.0              4.0            3.0          4.0   \n1                    2.0              4.0            6.0          1.0   \n2                    1.0              5.0            8.0          3.0   \n3                    2.0              5.0            4.0          1.0   \n4                    7.0              5.0            5.0          0.0   \n...                  ...              ...            ...          ...   \n12495                0.0              4.0            6.0          1.0   \n12496                1.0              1.0            5.0          4.0   \n12497                1.0              4.0            5.0          3.0   \n12498               10.0              8.0           29.0          5.0   \n12499                4.0              6.0            7.0          2.0   \n\n                                            Type_of_Loan  ...  Credit_Mix  \\\n0      auto loan,credit-builder loan,personal loan,ho...  ...        Good   \n1                                    credit-builder loan  ...        Good   \n2                      auto loan,auto loan,not specified  ...        Good   \n3                                          not specified  ...        Good   \n4                                                No Data  ...    Standard   \n...                                                  ...  ...         ...   \n12495                                      not specified  ...        Good   \n12496  payday loan,student loan,mortgage loan,not spe...  ...        Good   \n12497        home equity loan,mortgage loan,student loan  ...        Good   \n12498  personal loan,auto loan,mortgage loan,student ...  ...         Bad   \n12499                             auto loan,student loan  ...        Good   \n\n       Outstanding_Debt  Credit_Utilization_Ratio  Credit_History_Age  \\\n0                809.98                 23.933795               271.0   \n1                605.03                 32.933856               326.0   \n2               1303.01                 26.519815               220.0   \n3                632.46                 27.332515               214.0   \n4                943.86                 25.862922               375.0   \n...                 ...                       ...                 ...   \n12495           1079.48                 35.716618               344.0   \n12496            897.16                 24.972853               259.0   \n12497            620.64                 24.540510               364.0   \n12498           3571.70                 37.140784                75.0   \n12499            502.38                 34.192463               382.0   \n\n      Payment_of_Min_Amount  Total_EMI_per_month  Amount_invested_monthly  \\\n0                        No            49.574949                24.785217   \n1                        No            18.816215                40.391238   \n2                        No           246.992319               168.413703   \n3                        No            16.415452                71.283675   \n4                       Yes             0.000000                37.643638   \n...                     ...                  ...                      ...   \n12495                    No            34.975457                31.193919   \n12496                    No            41.113561                52.951978   \n12497                    No            84.205949                42.935566   \n12498                   Yes            60.964772                34.662906   \n12499                    No            35.104023                24.028477   \n\n                      Payment_Behaviour Monthly_Balance  Credit_Score  \n0      High_spent_Medium_value_payments      358.124168      Standard  \n1        Low_spent_Small_value_payments      356.078109          Good  \n2       High_spent_Small_value_payments      895.494583      Standard  \n3       High_spent_Small_value_payments      379.216381      Standard  \n4       High_spent_Small_value_payments      364.000016      Standard  \n...                                 ...             ...           ...  \n12495  High_spent_Medium_value_payments      446.671142          Good  \n12496    Low_spent_Large_value_payments      310.883806          Good  \n12497  High_spent_Medium_value_payments      432.559318          Good  \n12498   High_spent_Large_value_payments      337.362988      Standard  \n12499   High_spent_Large_value_payments      393.673696          Poor  \n\n[12500 rows x 24 columns]",
      "text/html": "<div>\n<style scoped>\n    .dataframe tbody tr th:only-of-type {\n        vertical-align: middle;\n    }\n\n    .dataframe tbody tr th {\n        vertical-align: top;\n    }\n\n    .dataframe thead th {\n        text-align: right;\n    }\n</style>\n<table border=\"1\" class=\"dataframe\">\n  <thead>\n    <tr style=\"text-align: right;\">\n      <th></th>\n      <th>Customer_ID</th>\n      <th>Age</th>\n      <th>Occupation</th>\n      <th>Annual_Income</th>\n      <th>Monthly_Inhand_Salary</th>\n      <th>Num_Bank_Accounts</th>\n      <th>Num_Credit_Card</th>\n      <th>Interest_Rate</th>\n      <th>Num_of_Loan</th>\n      <th>Type_of_Loan</th>\n      <th>...</th>\n      <th>Credit_Mix</th>\n      <th>Outstanding_Debt</th>\n      <th>Credit_Utilization_Ratio</th>\n      <th>Credit_History_Age</th>\n      <th>Payment_of_Min_Amount</th>\n      <th>Total_EMI_per_month</th>\n      <th>Amount_invested_monthly</th>\n      <th>Payment_Behaviour</th>\n      <th>Monthly_Balance</th>\n      <th>Credit_Score</th>\n    </tr>\n  </thead>\n  <tbody>\n    <tr>\n      <th>0</th>\n      <td>3392</td>\n      <td>23.0</td>\n      <td>Scientist</td>\n      <td>19114.12</td>\n      <td>1824.843333</td>\n      <td>3.0</td>\n      <td>4.0</td>\n      <td>3.0</td>\n      <td>4.0</td>\n      <td>auto loan,credit-builder loan,personal loan,ho...</td>\n      <td>...</td>\n      <td>Good</td>\n      <td>809.98</td>\n      <td>23.933795</td>\n      <td>271.0</td>\n      <td>No</td>\n      <td>49.574949</td>\n      <td>24.785217</td>\n      <td>High_spent_Medium_value_payments</td>\n      <td>358.124168</td>\n      <td>Standard</td>\n    </tr>\n    <tr>\n      <th>1</th>\n      <td>8625</td>\n      <td>28.0</td>\n      <td>Teacher</td>\n      <td>34847.84</td>\n      <td>3037.986667</td>\n      <td>2.0</td>\n      <td>4.0</td>\n      <td>6.0</td>\n      <td>1.0</td>\n      <td>credit-builder loan</td>\n      <td>...</td>\n      <td>Good</td>\n      <td>605.03</td>\n      <td>32.933856</td>\n      <td>326.0</td>\n      <td>No</td>\n      <td>18.816215</td>\n      <td>40.391238</td>\n      <td>Low_spent_Small_value_payments</td>\n      <td>356.078109</td>\n      <td>Good</td>\n    </tr>\n    <tr>\n      <th>2</th>\n      <td>11708</td>\n      <td>34.0</td>\n      <td>Engineer</td>\n      <td>143162.64</td>\n      <td>12187.220000</td>\n      <td>1.0</td>\n      <td>5.0</td>\n      <td>8.0</td>\n      <td>3.0</td>\n      <td>auto loan,auto loan,not specified</td>\n      <td>...</td>\n      <td>Good</td>\n      <td>1303.01</td>\n      <td>26.519815</td>\n      <td>220.0</td>\n      <td>No</td>\n      <td>246.992319</td>\n      <td>168.413703</td>\n      <td>High_spent_Small_value_payments</td>\n      <td>895.494583</td>\n      <td>Standard</td>\n    </tr>\n    <tr>\n      <th>3</th>\n      <td>47249</td>\n      <td>55.0</td>\n      <td>Entrepreneur</td>\n      <td>30689.89</td>\n      <td>2612.490833</td>\n      <td>2.0</td>\n      <td>5.0</td>\n      <td>4.0</td>\n      <td>1.0</td>\n      <td>not specified</td>\n      <td>...</td>\n      <td>Good</td>\n      <td>632.46</td>\n      <td>27.332515</td>\n      <td>214.0</td>\n      <td>No</td>\n      <td>16.415452</td>\n      <td>71.283675</td>\n      <td>High_spent_Small_value_payments</td>\n      <td>379.216381</td>\n      <td>Standard</td>\n    </tr>\n    <tr>\n      <th>4</th>\n      <td>7387</td>\n      <td>21.0</td>\n      <td>Developer</td>\n      <td>35547.71</td>\n      <td>2853.309167</td>\n      <td>7.0</td>\n      <td>5.0</td>\n      <td>5.0</td>\n      <td>0.0</td>\n      <td>No Data</td>\n      <td>...</td>\n      <td>Standard</td>\n      <td>943.86</td>\n      <td>25.862922</td>\n      <td>375.0</td>\n      <td>Yes</td>\n      <td>0.000000</td>\n      <td>37.643638</td>\n      <td>High_spent_Small_value_payments</td>\n      <td>364.000016</td>\n      <td>Standard</td>\n    </tr>\n    <tr>\n      <th>...</th>\n      <td>...</td>\n      <td>...</td>\n      <td>...</td>\n      <td>...</td>\n      <td>...</td>\n      <td>...</td>\n      <td>...</td>\n      <td>...</td>\n      <td>...</td>\n      <td>...</td>\n      <td>...</td>\n      <td>...</td>\n      <td>...</td>\n      <td>...</td>\n      <td>...</td>\n      <td>...</td>\n      <td>...</td>\n      <td>...</td>\n      <td>...</td>\n      <td>...</td>\n      <td>...</td>\n    </tr>\n    <tr>\n      <th>12495</th>\n      <td>14124</td>\n      <td>19.0</td>\n      <td>Lawyer</td>\n      <td>42903.79</td>\n      <td>3468.315833</td>\n      <td>0.0</td>\n      <td>4.0</td>\n      <td>6.0</td>\n      <td>1.0</td>\n      <td>not specified</td>\n      <td>...</td>\n      <td>Good</td>\n      <td>1079.48</td>\n      <td>35.716618</td>\n      <td>344.0</td>\n      <td>No</td>\n      <td>34.975457</td>\n      <td>31.193919</td>\n      <td>High_spent_Medium_value_payments</td>\n      <td>446.671142</td>\n      <td>Good</td>\n    </tr>\n    <tr>\n      <th>12496</th>\n      <td>3862</td>\n      <td>45.0</td>\n      <td>Media_Manager</td>\n      <td>16680.35</td>\n      <td>1528.029167</td>\n      <td>1.0</td>\n      <td>1.0</td>\n      <td>5.0</td>\n      <td>4.0</td>\n      <td>payday loan,student loan,mortgage loan,not spe...</td>\n      <td>...</td>\n      <td>Good</td>\n      <td>897.16</td>\n      <td>24.972853</td>\n      <td>259.0</td>\n      <td>No</td>\n      <td>41.113561</td>\n      <td>52.951978</td>\n      <td>Low_spent_Large_value_payments</td>\n      <td>310.883806</td>\n      <td>Good</td>\n    </tr>\n    <tr>\n      <th>12497</th>\n      <td>44897</td>\n      <td>50.0</td>\n      <td>Writer</td>\n      <td>37188.10</td>\n      <td>3097.008333</td>\n      <td>1.0</td>\n      <td>4.0</td>\n      <td>5.0</td>\n      <td>3.0</td>\n      <td>home equity loan,mortgage loan,student loan</td>\n      <td>...</td>\n      <td>Good</td>\n      <td>620.64</td>\n      <td>24.540510</td>\n      <td>364.0</td>\n      <td>No</td>\n      <td>84.205949</td>\n      <td>42.935566</td>\n      <td>High_spent_Medium_value_payments</td>\n      <td>432.559318</td>\n      <td>Good</td>\n    </tr>\n    <tr>\n      <th>12498</th>\n      <td>34304</td>\n      <td>29.0</td>\n      <td>Architect</td>\n      <td>20002.88</td>\n      <td>1929.906667</td>\n      <td>10.0</td>\n      <td>8.0</td>\n      <td>29.0</td>\n      <td>5.0</td>\n      <td>personal loan,auto loan,mortgage loan,student ...</td>\n      <td>...</td>\n      <td>Bad</td>\n      <td>3571.70</td>\n      <td>37.140784</td>\n      <td>75.0</td>\n      <td>Yes</td>\n      <td>60.964772</td>\n      <td>34.662906</td>\n      <td>High_spent_Large_value_payments</td>\n      <td>337.362988</td>\n      <td>Standard</td>\n    </tr>\n    <tr>\n      <th>12499</th>\n      <td>37932</td>\n      <td>25.0</td>\n      <td>Mechanic</td>\n      <td>39628.99</td>\n      <td>3359.415833</td>\n      <td>4.0</td>\n      <td>6.0</td>\n      <td>7.0</td>\n      <td>2.0</td>\n      <td>auto loan,student loan</td>\n      <td>...</td>\n      <td>Good</td>\n      <td>502.38</td>\n      <td>34.192463</td>\n      <td>382.0</td>\n      <td>No</td>\n      <td>35.104023</td>\n      <td>24.028477</td>\n      <td>High_spent_Large_value_payments</td>\n      <td>393.673696</td>\n      <td>Poor</td>\n    </tr>\n  </tbody>\n</table>\n<p>12500 rows × 24 columns</p>\n</div>"
     },
     "execution_count": 13,
     "metadata": {},
     "output_type": "execute_result"
    }
   ],
   "source": [
    "data"
   ],
   "metadata": {
    "collapsed": false,
    "ExecuteTime": {
     "end_time": "2024-03-10T10:12:59.186256Z",
     "start_time": "2024-03-10T10:12:59.145315Z"
    }
   },
   "id": "3c30abc0b1f3a3dd",
   "execution_count": 13
  },
  {
   "cell_type": "code",
   "outputs": [],
   "source": [],
   "metadata": {
    "collapsed": false,
    "ExecuteTime": {
     "end_time": "2024-03-10T10:12:59.191536Z",
     "start_time": "2024-03-10T10:12:59.188558Z"
    }
   },
   "id": "b4d9bbfe8b44ead7",
   "execution_count": 13
  }
 ],
 "metadata": {
  "kernelspec": {
   "display_name": "Python 3",
   "language": "python",
   "name": "python3"
  },
  "language_info": {
   "codemirror_mode": {
    "name": "ipython",
    "version": 2
   },
   "file_extension": ".py",
   "mimetype": "text/x-python",
   "name": "python",
   "nbconvert_exporter": "python",
   "pygments_lexer": "ipython2",
   "version": "2.7.6"
  }
 },
 "nbformat": 4,
 "nbformat_minor": 5
}
